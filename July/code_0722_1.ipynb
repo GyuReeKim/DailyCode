{
 "cells": [
  {
   "cell_type": "code",
   "execution_count": 13,
   "metadata": {},
   "outputs": [
    {
     "name": "stdout",
     "output_type": "stream",
     "text": [
      "8\n",
      "8 7 6 5 4 3 2 1 0 "
     ]
    }
   ],
   "source": [
    "n = int(input())\n",
    "\n",
    "for i in range(n+1):\n",
    "    num = n - i\n",
    "    print(num, end=' ')"
   ]
  },
  {
   "cell_type": "code",
   "execution_count": 27,
   "metadata": {},
   "outputs": [
    {
     "name": "stdout",
     "output_type": "stream",
     "text": [
      "3\n",
      "3 17 1 39 8 41 2 32 99 2\n",
      "#1 200\n",
      "22 8 5 123 7 2 63 7 3 46\n",
      "#2 208\n",
      "6 63 2 3 58 76 21 33 8 1\n",
      "#3 121\n"
     ]
    }
   ],
   "source": [
    "t = int(input())\n",
    "\n",
    "for r in range(t): \n",
    "    n = list(map(int, input().split()))\n",
    "    num = 0\n",
    "    for i in n:\n",
    "        if i % 2:\n",
    "            num += i\n",
    "    print(f'#{r+1} {num}')"
   ]
  },
  {
   "cell_type": "code",
   "execution_count": 35,
   "metadata": {},
   "outputs": [
    {
     "name": "stdout",
     "output_type": "stream",
     "text": [
      "3\n",
      "3 17 1 39 8 41 2 32 99 2\n",
      "#1 24\n",
      "22 8 5 123 7 2 63 7 3 46\n",
      "#2 29\n",
      "6 63 2 3 58 76 21 33 8 1\n",
      "#3 27\n"
     ]
    }
   ],
   "source": [
    "t = int(input())\n",
    "\n",
    "for r in range(t):    \n",
    "    n = list(map(int, input().split()))\n",
    "    result = 0\n",
    "    for i in n:\n",
    "        result += i\n",
    "    print(f'#{r+1} {round(result/10)}')"
   ]
  },
  {
   "cell_type": "code",
   "execution_count": 5,
   "metadata": {},
   "outputs": [
    {
     "name": "stdout",
     "output_type": "stream",
     "text": [
      "2\n",
      "01010101\n",
      "#1 0101/01/01\n",
      "22220228\n",
      "#2 2222/02/28\n"
     ]
    }
   ],
   "source": [
    "T = int(input())\n",
    "\n",
    "for t in range(T):\n",
    "\n",
    "    date = input()\n",
    "\n",
    "    year = ''\n",
    "    for i in range(4):\n",
    "        year += date[i]\n",
    "    year = int(year)\n",
    "\n",
    "    month = ''\n",
    "    for i in range(2):\n",
    "        month += date[i+4]\n",
    "    month = int(month)\n",
    "\n",
    "    day = ''\n",
    "    for i in range(2):\n",
    "        day += date[i+6]\n",
    "    day = int(day)\n",
    "\n",
    "    result = 0\n",
    "    \n",
    "    if year < 1000:\n",
    "        year = '0'+ str(year)\n",
    "    \n",
    "    if month == 0:\n",
    "        result = -1\n",
    "\n",
    "    elif month == 2:\n",
    "        if day > 28:\n",
    "            result = -1\n",
    "        elif day < 10:\n",
    "            result = str(year)+'/0'+str(month)+'/0'+str(day)\n",
    "        else:\n",
    "            result = str(year)+'/0'+str(month)+'/'+str(day)\n",
    "            \n",
    "    elif month == 4 or month == 6 or month == 9 or month == 11:\n",
    "        if day > 30:\n",
    "            result = -1\n",
    "        elif day < 10:\n",
    "            if month != 11:\n",
    "                result = str(year)+'/0'+str(month)+'/0'+str(day)\n",
    "            else:\n",
    "                result = str(year)+'/'+str(month)+'/0'+str(day)\n",
    "        else:\n",
    "            if month != 11:\n",
    "                result = str(year)+'/0'+str(month)+'/'+str(day)\n",
    "            else:\n",
    "                result = str(year)+'/'+str(month)+'/'+str(day)\n",
    "    else:\n",
    "        if day > 31:\n",
    "            result = -1\n",
    "        elif day < 10:\n",
    "            if month != 10 or month != 12:\n",
    "                result = str(year)+'/0'+str(month)+'/0'+str(day)\n",
    "            else:\n",
    "                result = str(year)+'/'+str(month)+'/0'+str(day)\n",
    "        else:\n",
    "            if month != 10 or month != 12:\n",
    "                result = str(year)+'/0'+str(month)+'/'+str(day)\n",
    "            else:\n",
    "                result = str(year)+'/'+str(month)+'/'+str(day)\n",
    "                \n",
    "    print(f'#{t+1} {result}')"
   ]
  },
  {
   "cell_type": "code",
   "execution_count": 6,
   "metadata": {},
   "outputs": [
    {
     "name": "stdout",
     "output_type": "stream",
     "text": [
      "5\n",
      "22220228\n",
      "#1 2222/02/28\n",
      "20150002\n",
      "#2 -1\n",
      "01010101\n",
      "#3 0101/01/01\n",
      "20140230\n",
      "#4 -1\n",
      "11111111\n",
      "#5 1111/11/11\n"
     ]
    }
   ],
   "source": [
    "T = int(input())\n",
    "\n",
    "for t in range(T):\n",
    "\n",
    "    date = input()\n",
    "\n",
    "    year = ''\n",
    "    for i in range(4):\n",
    "        year += date[i]\n",
    "    year = int(year)\n",
    "\n",
    "    month = ''\n",
    "    for i in range(2):\n",
    "        month += date[i+4]\n",
    "    month = int(month)\n",
    "\n",
    "    day = ''\n",
    "    for i in range(2):\n",
    "        day += date[i+6]\n",
    "    day = int(day)\n",
    "\n",
    "    result = 0\n",
    "    \n",
    "    if year < 1000:\n",
    "        year = '0'+ str(year)\n",
    "    \n",
    "    if month == 0:\n",
    "        result = -1\n",
    "\n",
    "    elif month == 2:\n",
    "        if day > 28:\n",
    "            result = -1\n",
    "        elif day < 10:\n",
    "            result = str(year)+'/'+'0'+str(month)+'/'+'0'+str(day)\n",
    "        else:\n",
    "            result = str(year)+'/'+'0'+str(month)+'/'+str(day)\n",
    "            \n",
    "    elif month == 4 or month == 6 or month == 9 or month == 11:\n",
    "        if day > 30:\n",
    "            result = -1\n",
    "        elif day < 10:\n",
    "            if month != 11:\n",
    "                result = str(year)+'/'+'0'+str(month)+'/'+'0'+str(day)\n",
    "            else:\n",
    "                result = str(year)+'/'+str(month)+'/'+'0'+str(day)\n",
    "        else:\n",
    "            if month != 11:\n",
    "                result = str(year)+'/'+'0'+str(month)+'/'+str(day)\n",
    "            else:\n",
    "                result = str(year)+'/'+str(month)+'/'+str(day)\n",
    "    else:\n",
    "        if day > 31:\n",
    "            result = -1\n",
    "        elif day < 10:\n",
    "            if month != 10 or month != 12:\n",
    "                result = str(year)+'/'+'0'+str(month)+'/'+'0'+str(day)\n",
    "            else:\n",
    "                result = str(year)+'/'+str(month)+'/'+'0'+str(day)\n",
    "        else:\n",
    "            if month != 10 or month != 12:\n",
    "                result = str(year)+'/'+'0'+str(month)+'/'+str(day)\n",
    "            else:\n",
    "                result = str(year)+'/'+str(month)+'/'+str(day)\n",
    "                \n",
    "    print(f'#{t+1} {result}')"
   ]
  },
  {
   "cell_type": "code",
   "execution_count": 33,
   "metadata": {},
   "outputs": [
    {
     "name": "stdout",
     "output_type": "stream",
     "text": [
      "5\n",
      "22220228\n",
      "#1 2222/02/28\n",
      "20150002\n",
      "#2 -1\n",
      "01010101\n",
      "#3 0101/01/01\n",
      "20140230\n",
      "#4 -1\n",
      "11111111\n",
      "#5 1111/11/11\n"
     ]
    }
   ],
   "source": [
    "T = int(input())\n",
    "\n",
    "for t in range(T):\n",
    "    date = input()\n",
    "\n",
    "    year = int(date[0:4])\n",
    "    month = int(date[4:6])\n",
    "    day = int(date[6:8])\n",
    "\n",
    "    year = '{0:04d}'.format(year)\n",
    "    month = '{0:02d}'.format(month)\n",
    "    day = '{0:02d}'.format(day)\n",
    "\n",
    "    result = year + '/' + month + '/' + day\n",
    "    \n",
    "    if month == '00':\n",
    "        result = -1\n",
    "    elif month == '02':\n",
    "        if day > '28':\n",
    "            result = -1\n",
    "    elif month == 4 or month == 6 or month == 9 or month == 11:\n",
    "        if day > '30':\n",
    "            result = -1\n",
    "    else:\n",
    "        if day > '31':\n",
    "            result = -1\n",
    "            \n",
    "    print(f'#{t+1} {result}')"
   ]
  }
 ],
 "metadata": {
  "kernelspec": {
   "display_name": "Python 3",
   "language": "python",
   "name": "python3"
  },
  "language_info": {
   "codemirror_mode": {
    "name": "ipython",
    "version": 3
   },
   "file_extension": ".py",
   "mimetype": "text/x-python",
   "name": "python",
   "nbconvert_exporter": "python",
   "pygments_lexer": "ipython3",
   "version": "3.7.3"
  }
 },
 "nbformat": 4,
 "nbformat_minor": 2
}
