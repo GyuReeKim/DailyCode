{
 "cells": [
  {
   "cell_type": "code",
   "execution_count": 3,
   "metadata": {},
   "outputs": [
    {
     "name": "stdout",
     "output_type": "stream",
     "text": [
      "바위\n",
      "가위\n",
      "Result : Man1 Win!\n"
     ]
    }
   ],
   "source": [
    "Man1=input()\n",
    "Man2=input()\n",
    "if Man1 == Man2:\n",
    "    print(\"Result:Draw\")\n",
    "elif Man1 == \"가위\" and Man2 == \"보\":\n",
    "    print(\"Result : Man1 Win!\")\n",
    "elif Man1 == \"바위\" and Man2 == \"가위\":\n",
    "    print(\"Result : Man1 Win!\")\n",
    "elif Man1 == \"보\" and Man2 == \"바위\":\n",
    "    print(\"Result : Man1 Win!\")\n",
    "else:\n",
    "    print(\"Result : Man2 Win!\")"
   ]
  },
  {
   "cell_type": "code",
   "execution_count": 8,
   "metadata": {},
   "outputs": [
    {
     "name": "stdout",
     "output_type": "stream",
     "text": [
      "c\n",
      "c(ASCII: 99) => C(ASCII: 67)\n"
     ]
    }
   ],
   "source": [
    "alphabet = input()\n",
    "if alphabet.islower() == True:\n",
    "    print(\"%s(ASCII: %d) => %s(ASCII: %d)\" %(alphabet, ord(alphabet), alphabet.upper(), ord(alphabet.upper())))\n",
    "elif alphabet.isupper() == True:\n",
    "    print(\"%s(ASCII: %d) => %s(ASCII: %d)\" %(alphabet, ord(alphabet), alphabet.lower(), ord(alphabet.lower())))\n",
    "else:\n",
    "    print(\"%s\" %alphabet)"
   ]
  },
  {
   "cell_type": "code",
   "execution_count": 9,
   "metadata": {},
   "outputs": [
    {
     "name": "stdout",
     "output_type": "stream",
     "text": [
      "2 4 6 8 10 12 14 16 18 20 22 24 26 28 30 32 34 36 38 40 42 44 46 48 50 52 54 56 58 60 62 64 66 68 70 72 74 76 78 80 82 84 86 88 90 92 94 96 98 100 "
     ]
    }
   ],
   "source": [
    "for i in range(2, 101, 2):\n",
    "    print(i, end=' ')"
   ]
  },
  {
   "cell_type": "code",
   "execution_count": 6,
   "metadata": {},
   "outputs": [
    {
     "name": "stdout",
     "output_type": "stream",
     "text": [
      "*****\n",
      "****\n",
      "***\n",
      "**\n",
      "*\n"
     ]
    }
   ],
   "source": [
    "i = 5\n",
    "while 0 < i <= 5:\n",
    "    print(\"*\" * i)\n",
    "    i = i - 1"
   ]
  },
  {
   "cell_type": "code",
   "execution_count": 10,
   "metadata": {},
   "outputs": [
    {
     "name": "stdout",
     "output_type": "stream",
     "text": [
      "13\n",
      "소수입니다.\n"
     ]
    }
   ],
   "source": [
    "def prime_number(x):\n",
    "    num = 1\n",
    "    for i in range(1, int(x/2)+1):\n",
    "        if x % i == 0:\n",
    "            num += 1\n",
    "    return num\n",
    "\n",
    "\n",
    "x = int(input())\n",
    "if prime_number(x) == 2:\n",
    "    print(\"소수입니다.\")\n",
    "else:\n",
    "    print(\"소수가 아닙니다.\")"
   ]
  }
 ],
 "metadata": {
  "kernelspec": {
   "display_name": "Python 3",
   "language": "python",
   "name": "python3"
  },
  "language_info": {
   "codemirror_mode": {
    "name": "ipython",
    "version": 3
   },
   "file_extension": ".py",
   "mimetype": "text/x-python",
   "name": "python",
   "nbconvert_exporter": "python",
   "pygments_lexer": "ipython3",
   "version": "3.7.3"
  }
 },
 "nbformat": 4,
 "nbformat_minor": 2
}
