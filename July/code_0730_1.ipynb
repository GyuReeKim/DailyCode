{
 "cells": [
  {
   "cell_type": "code",
   "execution_count": 1,
   "metadata": {},
   "outputs": [
    {
     "name": "stdout",
     "output_type": "stream",
     "text": [
      "{'BTC': {'opening_price': '11314000', 'closing_price': '11260000', 'min_price': '11141000', 'max_price': '11435000', 'average_price': '11251612.3138', 'units_traded': '3091.44676213', 'volume_1day': '3091.44676213', 'volume_7day': '32159.05519731', 'buy_price': '11260000', 'sell_price': '11268000', '24H_fluctate': '-54000', '24H_fluctate_rate': '-0.47'}, 'ETH': {'opening_price': '248500', 'closing_price': '246600', 'min_price': '243300', 'max_price': '252000', 'average_price': '247093.2739', 'units_traded': '27885.5935589', 'volume_1day': '27885.5935589', 'volume_7day': '305694.694263116888645334', 'buy_price': '246600', 'sell_price': '247100', '24H_fluctate': '-1900', '24H_fluctate_rate': '-0.76'}, 'DASH': {'opening_price': '150600', 'closing_price': '148200', 'min_price': '145000', 'max_price': '151000', 'average_price': '149270.3885', 'units_traded': '3650130.73010547', 'volume_1day': '3650130.73010547', 'volume_7day': '22875617.32559487', 'buy_price': '147800', 'sell_price': '148200', '24H_fluctate': '-2400', '24H_fluctate_rate': '-1.59'}, 'LTC': {'opening_price': '106200', 'closing_price': '106700', 'min_price': '104200', 'max_price': '108500', 'average_price': '106618.0638', 'units_traded': '8436.49306949', 'volume_1day': '8436.49306949', 'volume_7day': '100332.80166966', 'buy_price': '106300', 'sell_price': '106400', '24H_fluctate': '500', '24H_fluctate_rate': '0.47'}, 'ETC': {'opening_price': '7045', 'closing_price': '7010', 'min_price': '6935', 'max_price': '7180', 'average_price': '7041.2302', 'units_traded': '22386.31784492', 'volume_1day': '22386.31784492', 'volume_7day': '236435.0940825922705491', 'buy_price': '7000', 'sell_price': '7010', '24H_fluctate': '-35', '24H_fluctate_rate': '-0.49'}, 'XRP': {'opening_price': '366', 'closing_price': '373', 'min_price': '363', 'max_price': '379', 'average_price': '368.8387', 'units_traded': '27505283.45140669', 'volume_1day': '27505283.45140669', 'volume_7day': '226161391.0556164', 'buy_price': '373', 'sell_price': '374', '24H_fluctate': '7', '24H_fluctate_rate': '1.91'}, 'BCH': {'opening_price': '365900', 'closing_price': '371600', 'min_price': '358800', 'max_price': '376100', 'average_price': '365821.0243', 'units_traded': '12703.41350537', 'volume_1day': '12703.41350537', 'volume_7day': '134484.62219444', 'buy_price': '370700', 'sell_price': '371600', '24H_fluctate': '5700', '24H_fluctate_rate': '1.55'}, 'XMR': {'opening_price': '92550', 'closing_price': '92800', 'min_price': '91200', 'max_price': '93350', 'average_price': '92588.9921', 'units_traded': '1187369.79042875', 'volume_1day': '1187369.79042875', 'volume_7day': '8175655.363014715983', 'buy_price': '93050', 'sell_price': '93650', '24H_fluctate': '250', '24H_fluctate_rate': '0.27'}, 'ZEC': {'opening_price': '87550', 'closing_price': '85000', 'min_price': '81600', 'max_price': '88100', 'average_price': '85299.1349', 'units_traded': '674.41817551', 'volume_1day': '674.41817551', 'volume_7day': '5649.83347832', 'buy_price': '83600', 'sell_price': '84900', '24H_fluctate': '-2550', '24H_fluctate_rate': '-2.91'}, 'QTUM': {'opening_price': '3465', 'closing_price': '3470', 'min_price': '3400', 'max_price': '3569', 'average_price': '3473.7412', 'units_traded': '109926.6292929', 'volume_1day': '109926.6292929', 'volume_7day': '1179593.17533933', 'buy_price': '3467', 'sell_price': '3475', '24H_fluctate': '5', '24H_fluctate_rate': '0.14'}, 'BTG': {'opening_price': '21970', 'closing_price': '21410', 'min_price': '21110', 'max_price': '22290', 'average_price': '21620.2685', 'units_traded': '20703.28653986', 'volume_1day': '20703.28653986', 'volume_7day': '155892.67875368', 'buy_price': '21240', 'sell_price': '21420', '24H_fluctate': '-560', '24H_fluctate_rate': '-2.54'}, 'EOS': {'opening_price': '4980', 'closing_price': '4960', 'min_price': '4872', 'max_price': '5100', 'average_price': '4957.8968', 'units_traded': '1388906.65220504', 'volume_1day': '1388906.65220504', 'volume_7day': '17007450.86477868', 'buy_price': '4961', 'sell_price': '4973', '24H_fluctate': '-20', '24H_fluctate_rate': '-0.40'}, 'ICX': {'opening_price': '306', 'closing_price': '306', 'min_price': '299', 'max_price': '309', 'average_price': '303.1337', 'units_traded': '101647.51955381', 'volume_1day': '101647.51955381', 'volume_7day': '1218763.472419548249808199', 'buy_price': '303', 'sell_price': '305', '24H_fluctate': '0', '24H_fluctate_rate': '0.00'}, 'VET': {'opening_price': '7.77', 'closing_price': '7.41', 'min_price': '7.33', 'max_price': '7.77', 'average_price': '7.4533', 'units_traded': '8387362.78973094', 'volume_1day': '8387362.78973094', 'volume_7day': '88359755.609907992423163079', 'buy_price': '7.41', 'sell_price': '7.47', '24H_fluctate': '-0.36', '24H_fluctate_rate': '-4.63'}, 'TRX': {'opening_price': '26.3', 'closing_price': '26', 'min_price': '25.6', 'max_price': '26.4', 'average_price': '25.9615', 'units_traded': '39283444.43057103', 'volume_1day': '39283444.43057103', 'volume_7day': '669127619.02308681', 'buy_price': '25.9', 'sell_price': '26', '24H_fluctate': '-0.3', '24H_fluctate_rate': '-1.14'}, 'ELF': {'opening_price': '156', 'closing_price': '163', 'min_price': '149', 'max_price': '174', 'average_price': '162.5711', 'units_traded': '7568956.01551293', 'volume_1day': '7568956.01551293', 'volume_7day': '13253346.201978003252149675', 'buy_price': '162', 'sell_price': '163', '24H_fluctate': '7', '24H_fluctate_rate': '4.48'}, 'MITH': {'opening_price': '36.9', 'closing_price': '36.9', 'min_price': '36.1', 'max_price': '37.6', 'average_price': '36.7451', 'units_traded': '6169136.31986848', 'volume_1day': '6169136.31986848', 'volume_7day': '63345322.663960389819120892', 'buy_price': '36.9', 'sell_price': '37.1', '24H_fluctate': '0', '24H_fluctate_rate': '0.00'}, 'MCO': {'opening_price': '5265', 'closing_price': '5270', 'min_price': '5065', 'max_price': '5650', 'average_price': '5350.4602', 'units_traded': '148818.91555373', 'volume_1day': '148818.91555373', 'volume_7day': '1945886.3575557', 'buy_price': '5205', 'sell_price': '5270', '24H_fluctate': '5', '24H_fluctate_rate': '0.09'}, 'OMG': {'opening_price': '1823', 'closing_price': '1801', 'min_price': '1767', 'max_price': '1847', 'average_price': '1794.8301', 'units_traded': '120747.12804542', 'volume_1day': '120747.12804542', 'volume_7day': '1344956.279588343495543231', 'buy_price': '1801', 'sell_price': '1803', '24H_fluctate': '-22', '24H_fluctate_rate': '-1.20'}, 'KNC': {'opening_price': '245', 'closing_price': '236', 'min_price': '229', 'max_price': '267', 'average_price': '246.4747', 'units_traded': '6923344.6049064', 'volume_1day': '6923344.6049064', 'volume_7day': '15854950.658561116603385885', 'buy_price': '234', 'sell_price': '236', '24H_fluctate': '-9', '24H_fluctate_rate': '-3.67'}, 'GNT': {'opening_price': '76.4', 'closing_price': '75.3', 'min_price': '72.4', 'max_price': '76.4', 'average_price': '74.3487', 'units_traded': '371584.00589328', 'volume_1day': '371584.00589328', 'volume_7day': '6255239.625965629155980037', 'buy_price': '73.9', 'sell_price': '75.4', '24H_fluctate': '-1.1', '24H_fluctate_rate': '-1.43'}, 'ZIL': {'opening_price': '15.7', 'closing_price': '15.7', 'min_price': '15.3', 'max_price': '16.1', 'average_price': '15.645', 'units_traded': '2724905.59098217', 'volume_1day': '2724905.59098217', 'volume_7day': '36172271.41626567579', 'buy_price': '15.5', 'sell_price': '15.7', '24H_fluctate': '0', '24H_fluctate_rate': '0.00'}, 'ETHOS': {'opening_price': '144', 'closing_price': '144', 'min_price': '142', 'max_price': '150', 'average_price': '145.9391', 'units_traded': '1191635.50985293', 'volume_1day': '1191635.50985293', 'volume_7day': '11044060.38997139', 'buy_price': '143', 'sell_price': '145', '24H_fluctate': '0', '24H_fluctate_rate': '0.00'}, 'PAY': {'opening_price': '251', 'closing_price': '251', 'min_price': '240', 'max_price': '275', 'average_price': '251.5082', 'units_traded': '593780.16528038', 'volume_1day': '593780.16528038', 'volume_7day': '4215899.190908611170473671', 'buy_price': '247', 'sell_price': '251', '24H_fluctate': '0', '24H_fluctate_rate': '0.00'}, 'WAX': {'opening_price': '71.5', 'closing_price': '71.3', 'min_price': '68.4', 'max_price': '73.4', 'average_price': '70.3811', 'units_traded': '4860880.03244696', 'volume_1day': '4860880.03244696', 'volume_7day': '66114710.53594117', 'buy_price': '70.5', 'sell_price': '71.8', '24H_fluctate': '-0.2', '24H_fluctate_rate': '-0.27'}, 'POWR': {'opening_price': '90.7', 'closing_price': '88.8', 'min_price': '87.4', 'max_price': '92', 'average_price': '89.1442', 'units_traded': '835291.94348661', 'volume_1day': '835291.94348661', 'volume_7day': '16314577.23001466', 'buy_price': '88.7', 'sell_price': '89.8', '24H_fluctate': '-1.9', '24H_fluctate_rate': '-2.09'}, 'LRC': {'opening_price': '75.9', 'closing_price': '74.8', 'min_price': '72.3', 'max_price': '77.3', 'average_price': '73.8253', 'units_traded': '346392.66489647', 'volume_1day': '346392.66489647', 'volume_7day': '9690965.9740552818933709', 'buy_price': '73', 'sell_price': '74.8', '24H_fluctate': '-1.1', '24H_fluctate_rate': '-1.44'}, 'GTO': {'opening_price': '28.2', 'closing_price': '28', 'min_price': '27.5', 'max_price': '29.4', 'average_price': '28.3426', 'units_traded': '2266033.19961489', 'volume_1day': '2266033.19961489', 'volume_7day': '25445699.81371449', 'buy_price': '27.6', 'sell_price': '28', '24H_fluctate': '-0.2', '24H_fluctate_rate': '-0.70'}, 'STEEM': {'opening_price': '336', 'closing_price': '320', 'min_price': '270', 'max_price': '339', 'average_price': '320.3194', 'units_traded': '277488.79467551', 'volume_1day': '277488.79467551', 'volume_7day': '1830834.54924076', 'buy_price': '321', 'sell_price': '327', '24H_fluctate': '-16', '24H_fluctate_rate': '-4.76'}, 'STRAT': {'opening_price': '1084', 'closing_price': '1041', 'min_price': '1034', 'max_price': '1095', 'average_price': '1067.8899', 'units_traded': '42860.64870382', 'volume_1day': '42860.64870382', 'volume_7day': '586441.28267117', 'buy_price': '1041', 'sell_price': '1056', '24H_fluctate': '-43', '24H_fluctate_rate': '-3.96'}, 'ZRX': {'opening_price': '268', 'closing_price': '264', 'min_price': '258', 'max_price': '275', 'average_price': '263.4225', 'units_traded': '233897.85637984', 'volume_1day': '233897.85637984', 'volume_7day': '1364120.060324305316913843', 'buy_price': '262', 'sell_price': '264', '24H_fluctate': '-4', '24H_fluctate_rate': '-1.49'}, 'REP': {'opening_price': '17500', 'closing_price': '17800', 'min_price': '17100', 'max_price': '18560', 'average_price': '17753.9083', 'units_traded': '21092.48976818', 'volume_1day': '21092.48976818', 'volume_7day': '100317.443466857563570533', 'buy_price': '17790', 'sell_price': '17890', '24H_fluctate': '300', '24H_fluctate_rate': '1.71'}, 'AE': {'opening_price': '437', 'closing_price': '435', 'min_price': '432', 'max_price': '448', 'average_price': '438.4382', 'units_traded': '75354.01166126', 'volume_1day': '75354.01166126', 'volume_7day': '874059.925454255616534297', 'buy_price': '432', 'sell_price': '438', '24H_fluctate': '-2', '24H_fluctate_rate': '-0.45'}, 'XEM': {'opening_price': '94.7', 'closing_price': '96.3', 'min_price': '92.1', 'max_price': '98.7', 'average_price': '95.2443', 'units_traded': '441491.08994071', 'volume_1day': '441491.08994071', 'volume_7day': '3290906.79433768', 'buy_price': '95.8', 'sell_price': '96.1', '24H_fluctate': '1.6', '24H_fluctate_rate': '1.68'}, 'SNT': {'opening_price': '23.9', 'closing_price': '23.7', 'min_price': '23.2', 'max_price': '24.2', 'average_price': '23.5189', 'units_traded': '3020143.7244', 'volume_1day': '3020143.7244', 'volume_7day': '27143854.997258478251773566', 'buy_price': '23.5', 'sell_price': '23.7', '24H_fluctate': '-0.2', '24H_fluctate_rate': '-0.83'}, 'ADA': {'opening_price': '88.9', 'closing_price': '86.9', 'min_price': '84.3', 'max_price': '89', 'average_price': '86.1522', 'units_traded': '2238805.83505164', 'volume_1day': '2238805.83505164', 'volume_7day': '19691505.71743267', 'buy_price': '86.5', 'sell_price': '86.8', '24H_fluctate': '-2', '24H_fluctate_rate': '-2.24'}, 'PPT': {'opening_price': '2332', 'closing_price': '2200', 'min_price': '2150', 'max_price': '2357', 'average_price': '2252.4444', 'units_traded': '44777.83027945', 'volume_1day': '44777.83027945', 'volume_7day': '496317.47853613', 'buy_price': '2200', 'sell_price': '2219', '24H_fluctate': '-132', '24H_fluctate_rate': '-5.66'}, 'CTXC': {'opening_price': '327', 'closing_price': '315', 'min_price': '275', 'max_price': '333', 'average_price': '316.4237', 'units_traded': '274982.79612264', 'volume_1day': '274982.79612264', 'volume_7day': '1657438.435732082642171542', 'buy_price': '311', 'sell_price': '316', '24H_fluctate': '-12', '24H_fluctate_rate': '-3.66'}, 'CMT': {'opening_price': '54.3', 'closing_price': '52.7', 'min_price': '50.5', 'max_price': '54.9', 'average_price': '52.4644', 'units_traded': '6699367.96734519', 'volume_1day': '6699367.96734519', 'volume_7day': '110207405.933109896467859938', 'buy_price': '52.7', 'sell_price': '52.8', '24H_fluctate': '-1.6', '24H_fluctate_rate': '-2.94'}, 'THETA': {'opening_price': '133', 'closing_price': '132', 'min_price': '128', 'max_price': '134', 'average_price': '131.1401', 'units_traded': '189806.5709043', 'volume_1day': '189806.5709043', 'volume_7day': '5458757.503801816641367486', 'buy_price': '132', 'sell_price': '133', '24H_fluctate': '-1', '24H_fluctate_rate': '-0.75'}, 'WTC': {'opening_price': '2141', 'closing_price': '2254', 'min_price': '2087', 'max_price': '2336', 'average_price': '2192.1196', 'units_traded': '268685.99613076', 'volume_1day': '268685.99613076', 'volume_7day': '5253741.022045115614273895', 'buy_price': '2251', 'sell_price': '2253', '24H_fluctate': '113', '24H_fluctate_rate': '5.27'}, 'ITC': {'opening_price': '289', 'closing_price': '293', 'min_price': '281', 'max_price': '303', 'average_price': '293.0508', 'units_traded': '1847639.40117791', 'volume_1day': '1847639.40117791', 'volume_7day': '8474344.994530077234074095', 'buy_price': '293', 'sell_price': '295', '24H_fluctate': '4', '24H_fluctate_rate': '1.38'}, 'TRUE': {'opening_price': '473', 'closing_price': '467', 'min_price': '451', 'max_price': '477', 'average_price': '464.2074', 'units_traded': '36745.8165677', 'volume_1day': '36745.8165677', 'volume_7day': '652900.759381832243149903', 'buy_price': '454', 'sell_price': '467', '24H_fluctate': '-6', '24H_fluctate_rate': '-1.26'}, 'ABT': {'opening_price': '308', 'closing_price': '300', 'min_price': '295', 'max_price': '312', 'average_price': '302.3016', 'units_traded': '348774.79040329', 'volume_1day': '348774.79040329', 'volume_7day': '3807189.156466059623209624', 'buy_price': '299', 'sell_price': '303', '24H_fluctate': '-8', '24H_fluctate_rate': '-2.59'}, 'RNT': {'opening_price': '38.1', 'closing_price': '38.1', 'min_price': '37', 'max_price': '39', 'average_price': '37.8724', 'units_traded': '1118731.68532578', 'volume_1day': '1118731.68532578', 'volume_7day': '13547124.872193914959842774', 'buy_price': '37.1', 'sell_price': '38', '24H_fluctate': '0', '24H_fluctate_rate': '0.00'}, 'PLY': {'opening_price': '11.8', 'closing_price': '12.1', 'min_price': '11.7', 'max_price': '12.4', 'average_price': '11.9562', 'units_traded': '156224041.49821821', 'volume_1day': '156224041.49821821', 'volume_7day': '589095180.856078745', 'buy_price': '12', 'sell_price': '12.1', '24H_fluctate': '0.3', '24H_fluctate_rate': '2.54'}, 'WAVES': {'opening_price': '2084', 'closing_price': '1980', 'min_price': '1921', 'max_price': '2098', 'average_price': '1998.1031', 'units_traded': '24134.96664624', 'volume_1day': '24134.96664624', 'volume_7day': '182576.03079484', 'buy_price': '1978', 'sell_price': '1980', '24H_fluctate': '-104', '24H_fluctate_rate': '-4.99'}, 'LINK': {'opening_price': '3840', 'closing_price': '3770', 'min_price': '3626', 'max_price': '3903', 'average_price': '3749.8513', 'units_traded': '104938.21191578', 'volume_1day': '104938.21191578', 'volume_7day': '1026258.015275765073309685', 'buy_price': '3756', 'sell_price': '3767', '24H_fluctate': '-70', '24H_fluctate_rate': '-1.82'}, 'ENJ': {'opening_price': '98.5', 'closing_price': '102', 'min_price': '98.1', 'max_price': '103', 'average_price': '99.8409', 'units_traded': '3356723.44938108', 'volume_1day': '3356723.44938108', 'volume_7day': '26612476.808112337362260308', 'buy_price': '101', 'sell_price': '102', '24H_fluctate': '3.5', '24H_fluctate_rate': '3.55'}, 'PST': {'opening_price': '133', 'closing_price': '134', 'min_price': '129', 'max_price': '136', 'average_price': '132.5517', 'units_traded': '1200186.32751791', 'volume_1day': '1200186.32751791', 'volume_7day': '8981295.325914539877724559', 'buy_price': '132', 'sell_price': '133', '24H_fluctate': '1', '24H_fluctate_rate': '0.75'}, 'SALT': {'opening_price': '175', 'closing_price': '173', 'min_price': '167', 'max_price': '178', 'average_price': '172.5663', 'units_traded': '1669138.79651818', 'volume_1day': '1669138.79651818', 'volume_7day': '18031808.50716218', 'buy_price': '173', 'sell_price': '174', '24H_fluctate': '-2', '24H_fluctate_rate': '-1.14'}, 'RDN': {'opening_price': '823', 'closing_price': '825', 'min_price': '782', 'max_price': '843', 'average_price': '818.94', 'units_traded': '123591.74211857', 'volume_1day': '123591.74211857', 'volume_7day': '466772.112069418485212752', 'buy_price': '808', 'sell_price': '819', '24H_fluctate': '2', '24H_fluctate_rate': '0.24'}, 'LOOM': {'opening_price': '72.6', 'closing_price': '74', 'min_price': '72.3', 'max_price': '75.3', 'average_price': '73.7136', 'units_traded': '81597.06222178', 'volume_1day': '81597.06222178', 'volume_7day': '1138141.477705455535858596', 'buy_price': '74.3', 'sell_price': '75.3', '24H_fluctate': '1.4', '24H_fluctate_rate': '1.92'}, 'PIVX': {'opening_price': '1602', 'closing_price': '1568', 'min_price': '1540', 'max_price': '1760', 'average_price': '1641.5215', 'units_traded': '42737.59773214', 'volume_1day': '42737.59773214', 'volume_7day': '167862.76341531', 'buy_price': '1568', 'sell_price': '1609', '24H_fluctate': '-34', '24H_fluctate_rate': '-2.12'}, 'INS': {'opening_price': '380', 'closing_price': '371', 'min_price': '352', 'max_price': '388', 'average_price': '365.8783', 'units_traded': '162763.08539891', 'volume_1day': '162763.08539891', 'volume_7day': '522500.0588683497', 'buy_price': '364', 'sell_price': '369', '24H_fluctate': '-9', '24H_fluctate_rate': '-2.36'}, 'BCD': {'opening_price': '1884', 'closing_price': '1869', 'min_price': '1834', 'max_price': '1884', 'average_price': '1857.4583', 'units_traded': '22690.83979282', 'volume_1day': '22690.83979282', 'volume_7day': '358393.27214386', 'buy_price': '1869', 'sell_price': '1870', '24H_fluctate': '-15', '24H_fluctate_rate': '-0.79'}, 'BZNT': {'opening_price': '19.5', 'closing_price': '19.3', 'min_price': '19.1', 'max_price': '19.6', 'average_price': '19.4115', 'units_traded': '3570465.49086667', 'volume_1day': '3570465.49086667', 'volume_7day': '30829375.18808077669782869', 'buy_price': '19.3', 'sell_price': '19.4', '24H_fluctate': '-0.2', '24H_fluctate_rate': '-1.02'}, 'XLM': {'opening_price': '108', 'closing_price': '108', 'min_price': '105', 'max_price': '109', 'average_price': '106.8858', 'units_traded': '719995.71200581', 'volume_1day': '719995.71200581', 'volume_7day': '7328867.91533235', 'buy_price': '107', 'sell_price': '108', '24H_fluctate': '0', '24H_fluctate_rate': '0.00'}, 'OCN': {'opening_price': '3.02', 'closing_price': '2.94', 'min_price': '2.85', 'max_price': '3.07', 'average_price': '2.9641', 'units_traded': '30192700.21499898', 'volume_1day': '30192700.21499898', 'volume_7day': '217032815.656734683152772282', 'buy_price': '2.92', 'sell_price': '2.94', '24H_fluctate': '-0.08', '24H_fluctate_rate': '-2.64'}, 'BSV': {'opening_price': '174500', 'closing_price': '172600', 'min_price': '167500', 'max_price': '177000', 'average_price': '171822.3938', 'units_traded': '14655.00397874', 'volume_1day': '14655.00397874', 'volume_7day': '174300.8469331', 'buy_price': '172500', 'sell_price': '173000', '24H_fluctate': '-1900', '24H_fluctate_rate': '-1.08'}, 'TMTG': {'opening_price': '2.02', 'closing_price': '2.02', 'min_price': '1.99', 'max_price': '2.06', 'average_price': '2.0231', 'units_traded': '72689100.60272039', 'volume_1day': '72689100.60272039', 'volume_7day': '318242521.411107769303263038', 'buy_price': '2.01', 'sell_price': '2.02', '24H_fluctate': '0', '24H_fluctate_rate': '0.00'}, 'BAT': {'opening_price': '302', 'closing_price': '288', 'min_price': '285', 'max_price': '304', 'average_price': '294.8232', 'units_traded': '821299.39498555', 'volume_1day': '821299.39498555', 'volume_7day': '14786864.547367140166025514', 'buy_price': '286', 'sell_price': '288', '24H_fluctate': '-14', '24H_fluctate_rate': '-4.63'}, 'WET': {'opening_price': '14.8', 'closing_price': '14.7', 'min_price': '14.2', 'max_price': '15', 'average_price': '14.6549', 'units_traded': '6959687.71819659', 'volume_1day': '6959687.71819659', 'volume_7day': '63330846.129657134021266735', 'buy_price': '14.5', 'sell_price': '14.7', '24H_fluctate': '-0.1', '24H_fluctate_rate': '-0.67'}, 'XVG': {'opening_price': '15', 'closing_price': '14.6', 'min_price': '14.5', 'max_price': '15.3', 'average_price': '14.8136', 'units_traded': '1783816.40486384', 'volume_1day': '1783816.40486384', 'volume_7day': '25277367.35034375', 'buy_price': '14.6', 'sell_price': '14.7', '24H_fluctate': '-0.4', '24H_fluctate_rate': '-2.66'}, 'IOST': {'opening_price': '11.7', 'closing_price': '11.6', 'min_price': '11.4', 'max_price': '12.2', 'average_price': '11.6566', 'units_traded': '5675346.07978473', 'volume_1day': '5675346.07978473', 'volume_7day': '67239412.703302951506612959', 'buy_price': '11.5', 'sell_price': '11.6', '24H_fluctate': '-0.1', '24H_fluctate_rate': '-0.85'}, 'POLY': {'opening_price': '63.2', 'closing_price': '62.7', 'min_price': '61.3', 'max_price': '64.6', 'average_price': '62.6205', 'units_traded': '1130991.63648668', 'volume_1day': '1130991.63648668', 'volume_7day': '16753417.634905553144340944', 'buy_price': '62.7', 'sell_price': '62.8', '24H_fluctate': '-0.5', '24H_fluctate_rate': '-0.79'}, 'HC': {'opening_price': '3431', 'closing_price': '3332', 'min_price': '3151', 'max_price': '3454', 'average_price': '3329.6215', 'units_traded': '99790.40912686', 'volume_1day': '99790.40912686', 'volume_7day': '497583.09736486', 'buy_price': '3300', 'sell_price': '3329', '24H_fluctate': '-99', '24H_fluctate_rate': '-2.88'}, 'ROM': {'opening_price': '0.05', 'closing_price': '0.05', 'min_price': '0.04', 'max_price': '0.05', 'average_price': '0.0449', 'units_traded': '1710946457.9352', 'volume_1day': '1710946457.9352', 'volume_7day': '8137202842.739040000000000001', 'buy_price': '0.04', 'sell_price': '0.05', '24H_fluctate': '0', '24H_fluctate_rate': '0.00'}, 'AMO': {'opening_price': '0.55', 'closing_price': '0.56', 'min_price': '0.54', 'max_price': '0.56', 'average_price': '0.5539', 'units_traded': '86403277.68848571', 'volume_1day': '86403277.68848571', 'volume_7day': '1306047874.674958551550429946', 'buy_price': '0.55', 'sell_price': '0.56', '24H_fluctate': '0.01', '24H_fluctate_rate': '1.81'}, 'ETZ': {'opening_price': '211', 'closing_price': '204', 'min_price': '195', 'max_price': '213', 'average_price': '203.271', 'units_traded': '545944.4174694', 'volume_1day': '545944.4174694', 'volume_7day': '3274067.188738324146998687', 'buy_price': '200', 'sell_price': '204', '24H_fluctate': '-7', '24H_fluctate_rate': '-3.31'}, 'ARN': {'opening_price': '403', 'closing_price': '406', 'min_price': '396', 'max_price': '417', 'average_price': '406.3633', 'units_traded': '151254.63492233', 'volume_1day': '151254.63492233', 'volume_7day': '1401771.46010682', 'buy_price': '405', 'sell_price': '406', '24H_fluctate': '3', '24H_fluctate_rate': '0.74'}, 'APIS': {'opening_price': '1.45', 'closing_price': '1.49', 'min_price': '1.44', 'max_price': '1.53', 'average_price': '1.475', 'units_traded': '14948717.9985', 'volume_1day': '14948717.9985', 'volume_7day': '119957819.243585432899385316', 'buy_price': '1.47', 'sell_price': '1.49', '24H_fluctate': '0.04', '24H_fluctate_rate': '2.75'}, 'MTL': {'opening_price': '1696', 'closing_price': '1720', 'min_price': '1580', 'max_price': '2006', 'average_price': '1832.0042', 'units_traded': '283408.76567319', 'volume_1day': '283408.76567319', 'volume_7day': '459362.59038916', 'buy_price': '1720', 'sell_price': '1730', '24H_fluctate': '24', '24H_fluctate_rate': '1.41'}, 'DACC': {'opening_price': '0.14', 'closing_price': '0.15', 'min_price': '0.14', 'max_price': '0.15', 'average_price': '0.1474', 'units_traded': '41124364.37186665', 'volume_1day': '41124364.37186665', 'volume_7day': '1077765652.23912494', 'buy_price': '0.14', 'sell_price': '0.15', '24H_fluctate': '0.01', '24H_fluctate_rate': '7.14'}, 'DAC': {'opening_price': '5.6', 'closing_price': '5.82', 'min_price': '5.53', 'max_price': '5.9', 'average_price': '5.7444', 'units_traded': '18598023.71961517', 'volume_1day': '18598023.71961517', 'volume_7day': '106074518.021364459230114851', 'buy_price': '5.77', 'sell_price': '5.82', '24H_fluctate': '0.22', '24H_fluctate_rate': '3.92'}, 'BHP': {'opening_price': '1653', 'closing_price': '1633', 'min_price': '1633', 'max_price': '1680', 'average_price': '1651.7', 'units_traded': '19350.98613281', 'volume_1day': '19350.98613281', 'volume_7day': '288721.17774166', 'buy_price': '1648', 'sell_price': '1653', '24H_fluctate': '-20', '24H_fluctate_rate': '-1.20'}, 'BTT': {'opening_price': '1.2', 'closing_price': '1.2', 'min_price': '1.16', 'max_price': '1.21', 'average_price': '1.1878', 'units_traded': '70369862.43768848', 'volume_1day': '70369862.43768848', 'volume_7day': '866764506.00065588', 'buy_price': '1.2', 'sell_price': '1.21', '24H_fluctate': '0', '24H_fluctate_rate': '0.00'}, 'HDAC': {'opening_price': '27.6', 'closing_price': '27', 'min_price': '26.7', 'max_price': '28', 'average_price': '27.1987', 'units_traded': '3359516.44145595', 'volume_1day': '3359516.44145595', 'volume_7day': '32316469.66459366', 'buy_price': '26.9', 'sell_price': '27.1', '24H_fluctate': '-0.6', '24H_fluctate_rate': '-2.17'}, 'NPXS': {'opening_price': '0.67', 'closing_price': '0.68', 'min_price': '0.66', 'max_price': '0.7', 'average_price': '0.6757', 'units_traded': '197391259.17059963', 'volume_1day': '197391259.17059963', 'volume_7day': '1887540460.578586505238491636', 'buy_price': '0.67', 'sell_price': '0.68', '24H_fluctate': '0.01', '24H_fluctate_rate': '1.49'}, 'AUTO': {'opening_price': '1.44', 'closing_price': '1.49', 'min_price': '1.38', 'max_price': '1.49', 'average_price': '1.4268', 'units_traded': '30697023.9078358', 'volume_1day': '30697023.9078358', 'volume_7day': '189182464.982106700363438097', 'buy_price': '1.46', 'sell_price': '1.49', '24H_fluctate': '0.05', '24H_fluctate_rate': '3.47'}, 'GXC': {'opening_price': '1870', 'closing_price': '1816', 'min_price': '1809', 'max_price': '1880', 'average_price': '1835.5069', 'units_traded': '44966.66025443', 'volume_1day': '44966.66025443', 'volume_7day': '845822.81923767', 'buy_price': '1813', 'sell_price': '1853', '24H_fluctate': '-54', '24H_fluctate_rate': '-2.88'}, 'ORBS': {'opening_price': '25.6', 'closing_price': '25', 'min_price': '24.9', 'max_price': '25.8', 'average_price': '25.272', 'units_traded': '4074922.46872165', 'volume_1day': '4074922.46872165', 'volume_7day': '76303031.776539070429503899', 'buy_price': '25', 'sell_price': '25.2', '24H_fluctate': '-0.6', '24H_fluctate_rate': '-2.34'}, 'VALOR': {'opening_price': '2216', 'closing_price': '2200', 'min_price': '2129', 'max_price': '2288', 'average_price': '2185.7396', 'units_traded': '125597.95268977', 'volume_1day': '125597.95268977', 'volume_7day': '783484.128627926464456303', 'buy_price': '2160', 'sell_price': '2197', '24H_fluctate': '-16', '24H_fluctate_rate': '-0.72'}, 'CON': {'opening_price': '12.5', 'closing_price': '12.3', 'min_price': '12.1', 'max_price': '12.6', 'average_price': '12.3901', 'units_traded': '102880996.789803', 'volume_1day': '102880996.789803', 'volume_7day': '941410144.535044852803775199', 'buy_price': '12.2', 'sell_price': '12.3', '24H_fluctate': '-0.2', '24H_fluctate_rate': '-1.60'}, 'ANKR': {'opening_price': '8.23', 'closing_price': '7.96', 'min_price': '7.89', 'max_price': '8.3', 'average_price': '8.0639', 'units_traded': '105343178.44428643', 'volume_1day': '105343178.44428643', 'volume_7day': '1592273984.67485325070099834', 'buy_price': '7.97', 'sell_price': '8.03', '24H_fluctate': '-0.27', '24H_fluctate_rate': '-3.28'}, 'MIX': {'opening_price': '65.3', 'closing_price': '65.2', 'min_price': '63.2', 'max_price': '67.5', 'average_price': '64.6684', 'units_traded': '1128111.81113939', 'volume_1day': '1128111.81113939', 'volume_7day': '22932921.980322759454614875', 'buy_price': '65.3', 'sell_price': '66.2', '24H_fluctate': '-0.09', '24H_fluctate_rate': '-0.15'}, 'HYC': {'opening_price': '8.65', 'closing_price': '8.59', 'min_price': '8.32', 'max_price': '8.74', 'average_price': '8.541', 'units_traded': '44687376.72935701', 'volume_1day': '44687376.72935701', 'volume_7day': '444673900.617273835', 'buy_price': '8.49', 'sell_price': '8.59', '24H_fluctate': '-0.06', '24H_fluctate_rate': '-0.69'}, 'LBA': {'opening_price': '30.7', 'closing_price': '30.1', 'min_price': '27.5', 'max_price': '33.4', 'average_price': '30.1961', 'units_traded': '42263079.45738492', 'volume_1day': '42263079.45738492', 'volume_7day': '297922543.269438774241393558', 'buy_price': '29.9', 'sell_price': '30.1', '24H_fluctate': '-0.6', '24H_fluctate_rate': '-1.95'}, 'LAMB': {'opening_price': '268', 'closing_price': '264', 'min_price': '252', 'max_price': '340', 'average_price': '292.7592', 'units_traded': '46253973.82653481', 'volume_1day': '46253973.82653481', 'volume_7day': '102343574.977499853098282751', 'buy_price': '263', 'sell_price': '265', '24H_fluctate': '-4', '24H_fluctate_rate': '-1.49'}, 'CRO': {'opening_price': '64.9', 'closing_price': '75', 'min_price': '61.5', 'max_price': '90.8', 'average_price': '75.1519', 'units_traded': '51418868.28460401', 'volume_1day': '51418868.28460401', 'volume_7day': '1844844087.94940491', 'buy_price': '75', 'sell_price': '75.7', '24H_fluctate': '10.1', '24H_fluctate_rate': '15.56'}, 'date': '1564494611176'}\n"
     ]
    }
   ],
   "source": [
    "import requests\n",
    "url = \"https://api.bithumb.com/public/ticker/all\"\n",
    "data = requests.get(url).json()['data']\n",
    "print(data)"
   ]
  },
  {
   "cell_type": "code",
   "execution_count": 7,
   "metadata": {},
   "outputs": [
    {
     "name": "stdout",
     "output_type": "stream",
     "text": [
      "https://api.bithumb.com/public/ticker/all\n"
     ]
    }
   ],
   "source": [
    "print(url)"
   ]
  },
  {
   "cell_type": "code",
   "execution_count": 17,
   "metadata": {},
   "outputs": [
    {
     "name": "stdout",
     "output_type": "stream",
     "text": [
      "BTC 상승장\n",
      "ETH 상승장\n",
      "DASH 상승장\n",
      "LTC 상승장\n",
      "ETC 상승장\n",
      "XRP 상승장\n",
      "BCH 상승장\n",
      "XMR 상승장\n",
      "ZEC 상승장\n",
      "QTUM 상승장\n",
      "BTG 상승장\n",
      "EOS 상승장\n",
      "ICX 상승장\n",
      "VET 상승장\n",
      "TRX 상승장\n",
      "ELF 상승장\n",
      "MITH 상승장\n",
      "MCO 상승장\n",
      "OMG 상승장\n",
      "KNC 상승장\n",
      "GNT 상승장\n",
      "ZIL 상승장\n",
      "ETHOS 상승장\n",
      "PAY 상승장\n",
      "WAX 상승장\n",
      "POWR 상승장\n",
      "LRC 상승장\n",
      "GTO 상승장\n",
      "STEEM 상승장\n",
      "STRAT 상승장\n",
      "ZRX 상승장\n",
      "REP 상승장\n",
      "AE 상승장\n",
      "XEM 상승장\n",
      "SNT 상승장\n",
      "ADA 상승장\n",
      "PPT 상승장\n",
      "CTXC 상승장\n",
      "CMT 상승장\n",
      "THETA 상승장\n",
      "WTC 상승장\n",
      "ITC 상승장\n",
      "TRUE 상승장\n",
      "ABT 상승장\n",
      "RNT 상승장\n",
      "PLY 상승장\n",
      "WAVES 상승장\n",
      "LINK 상승장\n",
      "ENJ 상승장\n",
      "PST 상승장\n",
      "SALT 상승장\n",
      "RDN 상승장\n",
      "LOOM 상승장\n",
      "PIVX 상승장\n",
      "INS 상승장\n",
      "BCD 상승장\n",
      "BZNT 상승장\n",
      "XLM 상승장\n",
      "OCN 상승장\n",
      "BSV 상승장\n",
      "TMTG 상승장\n",
      "BAT 상승장\n",
      "WET 상승장\n",
      "XVG 상승장\n",
      "IOST 상승장\n",
      "POLY 상승장\n",
      "HC 상승장\n",
      "ROM 상승장\n",
      "AMO 상승장\n",
      "ETZ 상승장\n",
      "ARN 상승장\n",
      "APIS 상승장\n",
      "MTL 상승장\n",
      "DACC 하락장\n",
      "DAC 상승장\n",
      "BHP 상승장\n",
      "BTT 상승장\n",
      "HDAC 상승장\n",
      "NPXS 상승장\n",
      "AUTO 상승장\n",
      "GXC 상승장\n",
      "ORBS 상승장\n",
      "VALOR 상승장\n",
      "CON 상승장\n",
      "ANKR 상승장\n",
      "MIX 상승장\n",
      "HYC 상승장\n",
      "LBA 상승장\n",
      "LAMB 상승장\n",
      "CRO 상승장\n"
     ]
    }
   ],
   "source": [
    "for key, val in data.items():\n",
    "    if key == 'date':\n",
    "        break\n",
    "    else:\n",
    "        op = val.get('opening_price')\n",
    "        maxp = val.get('max_price')\n",
    "        minp = val.get('min_price')\n",
    "        \n",
    "        cp = float(maxp) - float(minp)\n",
    "        \n",
    "        if float(op) + cp > float(maxp):\n",
    "            print(f'{key} 상승장')\n",
    "        else:\n",
    "            print(f'{key} 하락장')\n",
    "        "
   ]
  },
  {
   "cell_type": "code",
   "execution_count": 19,
   "metadata": {
    "scrolled": true
   },
   "outputs": [
    {
     "name": "stdout",
     "output_type": "stream",
     "text": [
      "83.25\n"
     ]
    }
   ],
   "source": [
    "student = {'python': 80, 'algorithm': 78, 'django': 95, 'flask': 80}\n",
    "\n",
    "result = 0\n",
    "for val in student.values():\n",
    "    result += val\n",
    "print(result/len(student))"
   ]
  },
  {
   "cell_type": "code",
   "execution_count": 41,
   "metadata": {},
   "outputs": [
    {
     "name": "stdout",
     "output_type": "stream",
     "text": [
      "{'A': 5, 'B': 2, 'O': 4, 'AB': 3}\n"
     ]
    }
   ],
   "source": [
    "######다시풀어보기######\n",
    "blood = ['A','A','B','O','A','B','A','AB','AB','O','A','O','AB','O']\n",
    "\n",
    "result = {}\n",
    "for b in blood:\n",
    "    if b in result:\n",
    "        result[b] += 1\n",
    "    else:\n",
    "        result[b] = 1\n",
    "print(result)"
   ]
  },
  {
   "cell_type": "code",
   "execution_count": 42,
   "metadata": {},
   "outputs": [],
   "source": [
    "movies = {\n",
    "    \"7번방의선물\":12811206,\n",
    "    \"괴물\":13019740,\n",
    "    \"국제시장\":14257115,\n",
    "    \"극한직업\":16261018,\n",
    "    \"도둑들\":12983330,\n",
    "    \"명량\":17613682,\n",
    "    \"베테랑\":13414009,\n",
    "    \"신과함께-죄와벌\":14410754,\n",
    "    \"아바타\":13624328,\n",
    "    \"어벤져스:엔드게임\":13901423,\n",
    "}"
   ]
  },
  {
   "cell_type": "code",
   "execution_count": 45,
   "metadata": {},
   "outputs": [
    {
     "name": "stdout",
     "output_type": "stream",
     "text": [
      "7번방의선물\n",
      "괴물\n",
      "도둑들\n",
      "베테랑\n",
      "아바타\n"
     ]
    }
   ],
   "source": [
    "ubd = 172212\n",
    "\n",
    "movie_dict = {}\n",
    "for key, val in movies.items():\n",
    "    if val < 80 * ubd:\n",
    "        print(key)"
   ]
  }
 ],
 "metadata": {
  "kernelspec": {
   "display_name": "Python 3",
   "language": "python",
   "name": "python3"
  },
  "language_info": {
   "codemirror_mode": {
    "name": "ipython",
    "version": 3
   },
   "file_extension": ".py",
   "mimetype": "text/x-python",
   "name": "python",
   "nbconvert_exporter": "python",
   "pygments_lexer": "ipython3",
   "version": "3.7.3"
  }
 },
 "nbformat": 4,
 "nbformat_minor": 2
}
