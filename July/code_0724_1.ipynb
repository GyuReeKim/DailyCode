{
 "cells": [
  {
   "cell_type": "code",
   "execution_count": 4,
   "metadata": {},
   "outputs": [
    {
     "name": "stdout",
     "output_type": "stream",
     "text": [
      "0\n",
      "1\n",
      "0, 1만 필요함\n",
      "2\n",
      "0, 1만 필요함\n",
      "3\n",
      "0, 1만 필요함\n",
      "4\n",
      "0, 1만 필요함\n",
      "5\n",
      "0, 1만 필요함\n",
      "6\n",
      "0, 1만 필요함\n",
      "7\n",
      "0, 1만 필요함\n",
      "8\n",
      "0, 1만 필요함\n",
      "9\n"
     ]
    }
   ],
   "source": [
    "for i in range(10):\n",
    "    if i > 1:\n",
    "        print('0, 1만 필요함')\n",
    "#         break\n",
    "    print(i)"
   ]
  },
  {
   "cell_type": "code",
   "execution_count": 5,
   "metadata": {},
   "outputs": [
    {
     "name": "stdout",
     "output_type": "stream",
     "text": [
      "0\n",
      "1\n",
      "0, 1만 필요함\n"
     ]
    }
   ],
   "source": [
    "for i in range(10):\n",
    "    if i > 1:\n",
    "        print('0, 1만 필요함')\n",
    "        break\n",
    "    print(i)"
   ]
  },
  {
   "cell_type": "code",
   "execution_count": 18,
   "metadata": {},
   "outputs": [
    {
     "name": "stdout",
     "output_type": "stream",
     "text": [
      "보리\n",
      "보리\n",
      "보리\n",
      "쌀\n",
      "잡았다!\n"
     ]
    }
   ],
   "source": [
    "rice = ['보리', '보리', '보리', '쌀', '보리']\n",
    "\n",
    "for r in rice:\n",
    "    print(r)\n",
    "    if r == '쌀':\n",
    "        print('잡았다!')\n",
    "        break"
   ]
  },
  {
   "cell_type": "code",
   "execution_count": 25,
   "metadata": {},
   "outputs": [
    {
     "name": "stdout",
     "output_type": "stream",
     "text": [
      "0\n",
      "2\n",
      "4\n",
      "6\n",
      "8\n"
     ]
    }
   ],
   "source": [
    "for i in range(10):\n",
    "    if i % 2:\n",
    "        continue\n",
    "    print(i)"
   ]
  },
  {
   "cell_type": "code",
   "execution_count": 29,
   "metadata": {},
   "outputs": [
    {
     "name": "stdout",
     "output_type": "stream",
     "text": [
      "23살은 성인입니다.\n",
      "30살은 성인입니다.\n",
      "25살은 성인입니다.\n",
      "31살은 성인입니다.\n"
     ]
    }
   ],
   "source": [
    "age = [10, 23, 8, 30, 25, 31]\n",
    "\n",
    "for a in age:\n",
    "    if a < 20:\n",
    "        continue\n",
    "    print(f'{a}살은 성인입니다.')"
   ]
  },
  {
   "cell_type": "code",
   "execution_count": 34,
   "metadata": {},
   "outputs": [
    {
     "name": "stdout",
     "output_type": "stream",
     "text": [
      "0\n",
      "1\n",
      "2\n"
     ]
    }
   ],
   "source": [
    "for i in range(3):\n",
    "    print(i)\n",
    "    if i == 100:\n",
    "        print(f'{i}에서 break')\n",
    "        break"
   ]
  },
  {
   "cell_type": "code",
   "execution_count": 36,
   "metadata": {},
   "outputs": [
    {
     "name": "stdout",
     "output_type": "stream",
     "text": [
      "0\n",
      "1\n",
      "2\n",
      "break 실행 안됨\n"
     ]
    }
   ],
   "source": [
    "for i in range(3):\n",
    "    print(i)\n",
    "    if i == 100:\n",
    "        print(f'{i}에서 break')\n",
    "        break\n",
    "else:\n",
    "    print('break 실행 안됨')"
   ]
  },
  {
   "cell_type": "code",
   "execution_count": 37,
   "metadata": {},
   "outputs": [
    {
     "name": "stdout",
     "output_type": "stream",
     "text": [
      "0\n",
      "1\n",
      "1에서 break\n"
     ]
    }
   ],
   "source": [
    "for i in range(3):\n",
    "    print(i)\n",
    "    if i == 1:\n",
    "        print(f'{i}에서 break')\n",
    "        break\n",
    "else:\n",
    "    print('break 실행 안됨')"
   ]
  },
  {
   "cell_type": "code",
   "execution_count": 44,
   "metadata": {},
   "outputs": [
    {
     "name": "stdout",
     "output_type": "stream",
     "text": [
      "False\n"
     ]
    }
   ],
   "source": [
    "numbers = [1, 5, 10]\n",
    "# print(3 in numbers)\n",
    "for num in numbers:\n",
    "    if num == 3:\n",
    "        print('True')\n",
    "        break\n",
    "else:\n",
    "    print('False')"
   ]
  },
  {
   "cell_type": "code",
   "execution_count": 46,
   "metadata": {},
   "outputs": [
    {
     "name": "stdout",
     "output_type": "stream",
     "text": [
      "직사각형 둘레: 100, 면적: 600입니다.\n"
     ]
    }
   ],
   "source": [
    "height = 30\n",
    "width = 20\n",
    "\n",
    "circ = (height + width) * 2\n",
    "area = height * width\n",
    "\n",
    "print(f'직사각형 둘레: {circ}, 면적: {area}입니다.')"
   ]
  },
  {
   "cell_type": "code",
   "execution_count": 47,
   "metadata": {},
   "outputs": [
    {
     "name": "stdout",
     "output_type": "stream",
     "text": [
      "직사각형 둘레: 140, 면적: 1000입니다.\n"
     ]
    }
   ],
   "source": [
    "def rectangle(width, height):\n",
    "    circ = (height + width) * 2\n",
    "    area = height * width\n",
    "    print(f'직사각형 둘레: {circ}, 면적: {area}입니다.')\n",
    "    \n",
    "rectangle(20, 50)"
   ]
  },
  {
   "cell_type": "code",
   "execution_count": 48,
   "metadata": {},
   "outputs": [
    {
     "data": {
      "text/plain": [
       "5"
      ]
     },
     "execution_count": 48,
     "metadata": {},
     "output_type": "execute_result"
    }
   ],
   "source": [
    "max(1, 5)"
   ]
  },
  {
   "cell_type": "code",
   "execution_count": 51,
   "metadata": {},
   "outputs": [
    {
     "name": "stdout",
     "output_type": "stream",
     "text": [
      "5이 더 큽니다.\n"
     ]
    }
   ],
   "source": [
    "def my_max(num1, num2):\n",
    "    if num1 > num2:\n",
    "        print(f'{num1}이 더 큽니다.')\n",
    "    else:\n",
    "        print(f'{num2}이 더 큽니다.')\n",
    "        \n",
    "my_max(1, 5)"
   ]
  },
  {
   "cell_type": "code",
   "execution_count": 52,
   "metadata": {},
   "outputs": [
    {
     "name": "stdout",
     "output_type": "stream",
     "text": [
      "[5, 9]\n"
     ]
    }
   ],
   "source": [
    "def my_list_max(a, b):\n",
    "    if sum(a) > sum(b):\n",
    "        print(a)\n",
    "    else:\n",
    "        print(b)\n",
    "        \n",
    "my_list_max([10, 3], [5, 9])"
   ]
  },
  {
   "cell_type": "code",
   "execution_count": 54,
   "metadata": {},
   "outputs": [
    {
     "name": "stdout",
     "output_type": "stream",
     "text": [
      "익명, 안녕?\n",
      "안녕, 안녕?\n"
     ]
    }
   ],
   "source": [
    "def hello(name='익명'):\n",
    "    print(f'{name}, 안녕?')\n",
    "hello()\n",
    "hello('안녕')"
   ]
  },
  {
   "cell_type": "code",
   "execution_count": 56,
   "metadata": {},
   "outputs": [
    {
     "name": "stdout",
     "output_type": "stream",
     "text": [
      "익명님은 50살입니다.\n"
     ]
    }
   ],
   "source": [
    "def greeting(age, name='익명'):\n",
    "    print(f'{name}님은 {age}살입니다.')\n",
    "    \n",
    "greeting(50) # 50: age"
   ]
  },
  {
   "cell_type": "code",
   "execution_count": 58,
   "metadata": {},
   "outputs": [
    {
     "name": "stdout",
     "output_type": "stream",
     "text": [
      "hi은 20살입니다.\n",
      "20은 hi살입니다.\n",
      "hi은 20살입니다.\n",
      "hi은 20살입니다.\n"
     ]
    }
   ],
   "source": [
    "def greeting(age, name='john'):\n",
    "    print(f'{name}은 {age}살입니다.')\n",
    "greeting(20, 'hi')\n",
    "greeting('hi', 20)\n",
    "greeting(name='hi', age=20)\n",
    "greeting(20, name='hi')"
   ]
  },
  {
   "cell_type": "code",
   "execution_count": 59,
   "metadata": {},
   "outputs": [
    {
     "name": "stdout",
     "output_type": "stream",
     "text": [
      "첫번째 문장\n",
      "두번째 문장_세번째 문장/마지막 문장끝!"
     ]
    }
   ],
   "source": [
    "print('첫번째 문장')\n",
    "print('두번째 문장', end='_')\n",
    "print('세번째 문장', '마지막 문장', sep='/', end='끝!')"
   ]
  },
  {
   "cell_type": "code",
   "execution_count": 62,
   "metadata": {},
   "outputs": [
    {
     "name": "stdout",
     "output_type": "stream",
     "text": [
      "안녕하세요!반갑습니다!저의 이름은\n"
     ]
    }
   ],
   "source": [
    "print('안녕하세요', '반갑습니다', '저의 이름은', sep='!')"
   ]
  },
  {
   "cell_type": "code",
   "execution_count": 64,
   "metadata": {},
   "outputs": [
    {
     "name": "stdout",
     "output_type": "stream",
     "text": [
      "1\n",
      "2\n",
      "3\n",
      "4\n",
      "5\n"
     ]
    }
   ],
   "source": [
    "def my_func(*args):\n",
    "    for i in args:\n",
    "        print(i)\n",
    "my_func(1, 2, 3, 4, 5)"
   ]
  },
  {
   "cell_type": "code",
   "execution_count": 86,
   "metadata": {},
   "outputs": [
    {
     "data": {
      "text/plain": [
       "-1"
      ]
     },
     "execution_count": 86,
     "metadata": {},
     "output_type": "execute_result"
    }
   ],
   "source": [
    "################질문!!!!!!!!!!!##################\n",
    "def my_max(*args):\n",
    "    result = args[0]\n",
    "    for i in args:\n",
    "        if i > result:\n",
    "            result = i\n",
    "    return result\n",
    "my_max(-1, -3, -10, -2)"
   ]
  },
  {
   "cell_type": "code",
   "execution_count": 88,
   "metadata": {},
   "outputs": [
    {
     "name": "stdout",
     "output_type": "stream",
     "text": [
      "{'한국어': '안녕하세요', '영어': 'hi'}\n",
      "<class 'dict'>\n"
     ]
    }
   ],
   "source": [
    "greeting = dict(한국어 = '안녕하세요', 영어 = 'hi')\n",
    "print(greeting)\n",
    "print(type(greeting))"
   ]
  },
  {
   "cell_type": "code",
   "execution_count": 93,
   "metadata": {},
   "outputs": [
    {
     "data": {
      "text/plain": [
       "{'한국어': '안녕하세요', '영어': 'hi'}"
      ]
     },
     "execution_count": 93,
     "metadata": {},
     "output_type": "execute_result"
    }
   ],
   "source": [
    "def fake_dict(**kwargs):\n",
    "    result = {}\n",
    "    for key, value in kwargs.items():\n",
    "        result[key] = value\n",
    "    return result\n",
    "fake_dict(한국어 = '안녕하세요', 영어 = 'hi')"
   ]
  },
  {
   "cell_type": "code",
   "execution_count": 94,
   "metadata": {},
   "outputs": [
    {
     "data": {
      "text/plain": [
       "{'한국어': '안녕하세요', '영어': 'hi'}"
      ]
     },
     "execution_count": 94,
     "metadata": {},
     "output_type": "execute_result"
    }
   ],
   "source": [
    "def my_fake_dict(**kwargs):\n",
    "    return kwargs\n",
    "my_fake_dict(한국어 = '안녕하세요', 영어 = 'hi')"
   ]
  },
  {
   "cell_type": "code",
   "execution_count": 97,
   "metadata": {},
   "outputs": [
    {
     "name": "stdout",
     "output_type": "stream",
     "text": [
      "비밀번호가 일치하지 않습니다.\n"
     ]
    }
   ],
   "source": [
    "def user(username, password, password_con):\n",
    "    if password == password_con:\n",
    "        print(f'{username}님 가입되었습니다.')\n",
    "    else:\n",
    "        print('비밀번호가 일치하지 않습니다.')\n",
    "user('hi', 1234, 12345)"
   ]
  },
  {
   "cell_type": "code",
   "execution_count": 99,
   "metadata": {},
   "outputs": [
    {
     "name": "stdout",
     "output_type": "stream",
     "text": [
      "홍길동님 가입되었습니다.\n"
     ]
    }
   ],
   "source": [
    "my_account = {\n",
    "    'username': '홍길동',\n",
    "    'password': '1q2w3e4r',\n",
    "    'password_con': '1q2w3e4r'    \n",
    "}\n",
    "user(**my_account)"
   ]
  },
  {
   "cell_type": "code",
   "execution_count": 111,
   "metadata": {},
   "outputs": [
    {
     "data": {
      "text/plain": [
       "'http://www.kobis.or.kr/kobisopenapi/webservice/rest/boxoffice/searchDailyBoxOfficeList.json?itemPerPage=10&key=abc&targetDt=yyyymmdd&'"
      ]
     },
     "execution_count": 111,
     "metadata": {},
     "output_type": "execute_result"
    }
   ],
   "source": [
    "############문제 다시 풀어보기############\n",
    "def my_url(itemPerPage=10, **kwargs):\n",
    "    url = 'http://www.kobis.or.kr/kobisopenapi/webservice/rest/boxoffice/searchDailyBoxOfficeList.json?'\n",
    "    url += f'itemPerPage={itemPerPage}&'\n",
    "    for key, val in kwargs.items():\n",
    "        url += f'{key}={val}&'\n",
    "    return url\n",
    "\n",
    "api = {\n",
    "    'key': 'abc',\n",
    "    'targetDt': 'yyyymmdd'\n",
    "}\n",
    "\n",
    "my_url(**api)"
   ]
  },
  {
   "cell_type": "code",
   "execution_count": 113,
   "metadata": {},
   "outputs": [
    {
     "data": {
      "text/plain": [
       "'http://www.kobis.or.kr/kobisopenapi/webservice/rest/boxoffice/searchDailyBoxOfficeList.json?itemPerPage=10&key=abc&targetDt=yyyymmdd&'"
      ]
     },
     "execution_count": 113,
     "metadata": {},
     "output_type": "execute_result"
    }
   ],
   "source": [
    "def my_url(itemPerPage=10, **kwargs):\n",
    "    url = 'http://www.kobis.or.kr/kobisopenapi/webservice/rest/boxoffice/searchDailyBoxOfficeList.json?'\n",
    "    url += f'itemPerPage={itemPerPage}&'\n",
    "    for key, val in kwargs.items():\n",
    "        url += f'{key}={val}&'\n",
    "    return url\n",
    "# my_url(key='abc', targetDt='yyyymmdd')\n",
    "api = {\n",
    "    'key': 'abc',\n",
    "    'targetDt': 'yyyymmdd'\n",
    "}\n",
    "my_url(**api)"
   ]
  },
  {
   "cell_type": "code",
   "execution_count": 121,
   "metadata": {},
   "outputs": [
    {
     "data": {
      "text/plain": [
       "'http://www.kobis.or.kr/kobisopenapi/webservice/rest/boxoffice/searchDailyBoxOfficeList.json?itemPerPage=10&key=abc&targetDt=yyyymmdd&'"
      ]
     },
     "execution_count": 121,
     "metadata": {},
     "output_type": "execute_result"
    }
   ],
   "source": [
    "def my_url(itemPerPage=10, **kwargs):\n",
    "    if itemPerPage not in range(1, 11):\n",
    "        return '1~10까지의 값을 넣어주세요.'\n",
    "    if 'key' not in kwargs or 'targetDt' not in kwargs:\n",
    "        return '필수 요청변수가 누락되었습니다.'\n",
    "    url = 'http://www.kobis.or.kr/kobisopenapi/webservice/rest/boxoffice/searchDailyBoxOfficeList.json?'\n",
    "    url += f'itemPerPage={itemPerPage}&'\n",
    "    for key, val in kwargs.items():\n",
    "        url += f'{key}={val}&'\n",
    "    return url\n",
    "\n",
    "api = {\n",
    "    'key': 'abc',\n",
    "    'targetDt': 'yyyymmdd'\n",
    "}\n",
    "my_url(**api)"
   ]
  },
  {
   "cell_type": "code",
   "execution_count": 123,
   "metadata": {
    "scrolled": true
   },
   "outputs": [
    {
     "name": "stdout",
     "output_type": "stream",
     "text": [
      "2\n"
     ]
    }
   ],
   "source": [
    "a = 1\n",
    "def localscope(a):\n",
    "    print(a)\n",
    "localscope(2)"
   ]
  },
  {
   "cell_type": "code",
   "execution_count": 126,
   "metadata": {},
   "outputs": [
    {
     "name": "stdout",
     "output_type": "stream",
     "text": [
      "global_num이 5으로 바뀌었습니다.\n",
      "3\n"
     ]
    }
   ],
   "source": [
    "global_num = 3\n",
    "def localscope2():\n",
    "    global_num = 5\n",
    "    print(f'global_num이 {global_num}으로 바뀌었습니다.')\n",
    "localscope2()\n",
    "print(global_num)"
   ]
  },
  {
   "cell_type": "code",
   "execution_count": 127,
   "metadata": {},
   "outputs": [
    {
     "name": "stdout",
     "output_type": "stream",
     "text": [
      "g_num이 5으로 바뀜.\n",
      "5\n"
     ]
    }
   ],
   "source": [
    "g_num = 3\n",
    "def g_func():\n",
    "    global g_num\n",
    "    g_num = 5\n",
    "    print(f'g_num이 {g_num}으로 바뀜.')\n",
    "g_func()\n",
    "print(g_num)"
   ]
  },
  {
   "cell_type": "code",
   "execution_count": 132,
   "metadata": {},
   "outputs": [
    {
     "data": {
      "text/plain": [
       "6"
      ]
     },
     "execution_count": 132,
     "metadata": {},
     "output_type": "execute_result"
    }
   ],
   "source": [
    "def fact(n):\n",
    "    result = 1\n",
    "    for i in range(n):\n",
    "        result = result * (i+1)\n",
    "    return result\n",
    "fact(3)"
   ]
  },
  {
   "cell_type": "code",
   "execution_count": 137,
   "metadata": {},
   "outputs": [
    {
     "data": {
      "text/plain": [
       "6"
      ]
     },
     "execution_count": 137,
     "metadata": {},
     "output_type": "execute_result"
    }
   ],
   "source": [
    "def factorial(n):\n",
    "    if n <= 1:\n",
    "        return n\n",
    "    else:\n",
    "        return factorial(n-1) * n\n",
    "factorial(3)"
   ]
  },
  {
   "cell_type": "code",
   "execution_count": 138,
   "metadata": {},
   "outputs": [
    {
     "data": {
      "text/plain": [
       "89"
      ]
     },
     "execution_count": 138,
     "metadata": {},
     "output_type": "execute_result"
    }
   ],
   "source": [
    "def fib(n):\n",
    "    if n == 0 or n == 1:\n",
    "        return 1\n",
    "    else:\n",
    "        return fib(n-1) + fib(n-2)\n",
    "    \n",
    "fib(10)"
   ]
  },
  {
   "cell_type": "code",
   "execution_count": 147,
   "metadata": {},
   "outputs": [
    {
     "data": {
      "text/plain": [
       "89"
      ]
     },
     "execution_count": 147,
     "metadata": {},
     "output_type": "execute_result"
    }
   ],
   "source": [
    "################질문!!!!!!!############\n",
    "def fib_loop(n):\n",
    "    result = [1, 1]\n",
    "    for i in range(1, n): # for i in range(n-1)\n",
    "        a = result[-1] + result[-2]\n",
    "        result.append(a)\n",
    "    return result[-1]\n",
    "    \n",
    "fib_loop(10)"
   ]
  },
  {
   "cell_type": "code",
   "execution_count": 148,
   "metadata": {},
   "outputs": [
    {
     "name": "stdout",
     "output_type": "stream",
     "text": [
      "추측해보세요\n",
      "입력: 6\n",
      "up\n",
      "입력: 17\n",
      "down\n",
      "입력: 14\n",
      "down\n",
      "입력: 10\n",
      "up\n",
      "입력: 13\n",
      "정답\n"
     ]
    }
   ],
   "source": [
    "import random\n",
    "secret = random.randint(1, 20)\n",
    "print('추측해보세요')\n",
    "\n",
    "for count in range(6):\n",
    "    guess = int(input('입력: '))\n",
    "    \n",
    "    if secret < guess:\n",
    "        print('down')\n",
    "    elif secret > guess:\n",
    "        print('up')\n",
    "    else:\n",
    "        break\n",
    "        \n",
    "if guess == secret:\n",
    "    print('정답')\n",
    "else:\n",
    "    print('끝')"
   ]
  },
  {
   "cell_type": "code",
   "execution_count": null,
   "metadata": {},
   "outputs": [],
   "source": [
    "import random\n",
    "\n",
    "def generate_num():\n",
    "    return random.randint(1, 20)\n",
    "    \n",
    "def compare_num():\n",
    "    if secret < guess:\n",
    "        return down\n",
    "    elif \n",
    "    \n",
    "def guess_num():\n",
    "\n"
   ]
  }
 ],
 "metadata": {
  "kernelspec": {
   "display_name": "Python 3",
   "language": "python",
   "name": "python3"
  },
  "language_info": {
   "codemirror_mode": {
    "name": "ipython",
    "version": 3
   },
   "file_extension": ".py",
   "mimetype": "text/x-python",
   "name": "python",
   "nbconvert_exporter": "python",
   "pygments_lexer": "ipython3",
   "version": "3.7.3"
  }
 },
 "nbformat": 4,
 "nbformat_minor": 2
}
