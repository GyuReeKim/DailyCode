{
 "cells": [
  {
   "cell_type": "code",
   "execution_count": 10,
   "metadata": {},
   "outputs": [
    {
     "data": {
      "text/plain": [
       "[4, 3]"
      ]
     },
     "execution_count": 10,
     "metadata": {},
     "output_type": "execute_result"
    }
   ],
   "source": [
    "def lonely(couple):\n",
    "    solo = []\n",
    "    for c in range(len(couple)):\n",
    "        if c == 0:\n",
    "            solo.append(couple[c])\n",
    "        else:\n",
    "            if solo[-1] != couple[c]:\n",
    "                solo.append(couple[c])\n",
    "    return solo\n",
    "\n",
    "lonely([1, 1, 3, 3, 0, 1, 1])\n",
    "lonely([4, 4, 4, 3, 3])"
   ]
  },
  {
   "cell_type": "code",
   "execution_count": 15,
   "metadata": {},
   "outputs": [
    {
     "data": {
      "text/plain": [
       "[4, 3]"
      ]
     },
     "execution_count": 15,
     "metadata": {},
     "output_type": "execute_result"
    }
   ],
   "source": [
    "def lonely(couple):\n",
    "    solo = []\n",
    "    for c in couple:\n",
    "        if not solo:\n",
    "            solo.append(c)\n",
    "        else:\n",
    "            if solo[-1] != c:\n",
    "                solo.append(c)\n",
    "    return solo\n",
    "\n",
    "lonely([1, 1, 3, 3, 0, 1, 1])\n",
    "lonely([4, 4, 4, 3, 3])"
   ]
  },
  {
   "cell_type": "code",
   "execution_count": 16,
   "metadata": {},
   "outputs": [],
   "source": [
    "def start_end(words):\n",
    "    count = 0\n",
    "    for word in words:\n",
    "        if word[0] == word[-1] and len(word) > 1:\n",
    "            count += 1\n",
    "    return count"
   ]
  },
  {
   "cell_type": "code",
   "execution_count": 17,
   "metadata": {},
   "outputs": [
    {
     "name": "stdout",
     "output_type": "stream",
     "text": [
      "3\n"
     ]
    }
   ],
   "source": [
    "print(start_end(['level', 'asdwe', 's', 'abceda', 'gsdwrtfg']))"
   ]
  },
  {
   "cell_type": "code",
   "execution_count": 32,
   "metadata": {},
   "outputs": [
    {
     "data": {
      "text/plain": [
       "[21, 52479]"
      ]
     },
     "execution_count": 32,
     "metadata": {},
     "output_type": "execute_result"
    }
   ],
   "source": [
    "def gcdlcm(num1, num2):\n",
    "    n1_list = []\n",
    "    n2_list = []\n",
    "    for n1 in range(1, num1 + 1):\n",
    "        if num1 % n1 == 0:\n",
    "            n1_list.append(n1)\n",
    "            n1_list = n1_list[::-1]\n",
    "    for n2 in range(1, num2 + 1):\n",
    "        if num2 % n2 == 0:\n",
    "            n2_list.append(n2)\n",
    "            n2_list = n2_list[::-1]\n",
    "    \n",
    "    for n in n1_list:\n",
    "        if n in n2_list:\n",
    "            return [n, int(num1*num2/n)]\n",
    "\n",
    "gcdlcm(3, 12)\n",
    "gcdlcm(1071, 1029)"
   ]
  },
  {
   "cell_type": "code",
   "execution_count": 55,
   "metadata": {
    "scrolled": true
   },
   "outputs": [
    {
     "data": {
      "text/plain": [
       "-1"
      ]
     },
     "execution_count": 55,
     "metadata": {},
     "output_type": "execute_result"
    }
   ],
   "source": [
    "def collatz(n):\n",
    "    count = 0\n",
    "    while n != 1:\n",
    "        if count == 500:\n",
    "            return -1\n",
    "        else:\n",
    "            if n % 2:\n",
    "                n = n * 3 + 1\n",
    "            else:\n",
    "                n /= 2\n",
    "            count += 1\n",
    "    return count\n",
    "    \n",
    "collatz(6)\n",
    "collatz(16)\n",
    "collatz(27)\n",
    "collatz(626331)"
   ]
  },
  {
   "cell_type": "code",
   "execution_count": 57,
   "metadata": {},
   "outputs": [
    {
     "data": {
      "text/plain": [
       "0"
      ]
     },
     "execution_count": 57,
     "metadata": {},
     "output_type": "execute_result"
    }
   ],
   "source": [
    "def positive_sum(*args):\n",
    "    result = 0\n",
    "    for num in args:\n",
    "        if num > 0:\n",
    "            result += num\n",
    "    return result\n",
    "\n",
    "positive_sum(1, -4, 7, 12)\n",
    "positive_sum(-1, -2, -3, -4)"
   ]
  },
  {
   "cell_type": "code",
   "execution_count": 63,
   "metadata": {},
   "outputs": [
    {
     "name": "stdout",
     "output_type": "stream",
     "text": [
      "101\n",
      "2진수 입니다.\n"
     ]
    }
   ],
   "source": [
    "######다시풀어보기######\n",
    "num = input()\n",
    "\n",
    "no_bi = '23456789'\n",
    "\n",
    "try:\n",
    "    if int(num):\n",
    "        for n in num:\n",
    "            if n in no_bi:\n",
    "                print('2진수가 아닙니다.')\n",
    "                break\n",
    "            else:\n",
    "                print('2진수 입니다.')\n",
    "                break\n",
    "except ValueError:\n",
    "    print('숫자가 아닙니다.')"
   ]
  },
  {
   "cell_type": "code",
   "execution_count": 22,
   "metadata": {
    "scrolled": true
   },
   "outputs": [
    {
     "data": {
      "text/plain": [
       "33"
      ]
     },
     "execution_count": 22,
     "metadata": {},
     "output_type": "execute_result"
    }
   ],
   "source": [
    "######다시풀기######\n",
    "def snail(goal, day, night):\n",
    "    count = 0\n",
    "    each_day = day - night\n",
    "    while goal > 0:\n",
    "        if each_day * count >= goal - day:\n",
    "            return count + 1\n",
    "        else:\n",
    "            count += 1\n",
    "snail(100, 5, 2)"
   ]
  },
  {
   "cell_type": "code",
   "execution_count": 23,
   "metadata": {},
   "outputs": [
    {
     "data": {
      "text/plain": [
       "33"
      ]
     },
     "execution_count": 23,
     "metadata": {},
     "output_type": "execute_result"
    }
   ],
   "source": [
    "def snail(goal, day, night):\n",
    "    count = 0\n",
    "    while goal >= 0:\n",
    "        count += 1\n",
    "        goal = goal - day\n",
    "        if goal <= 0:\n",
    "            return count\n",
    "        goal = goal + night\n",
    "        \n",
    "snail(100, 5, 2)"
   ]
  },
  {
   "cell_type": "code",
   "execution_count": 40,
   "metadata": {},
   "outputs": [
    {
     "data": {
      "text/plain": [
       "['n', 'b']"
      ]
     },
     "execution_count": 40,
     "metadata": {},
     "output_type": "execute_result"
    }
   ],
   "source": [
    "def duplicated(dup):\n",
    "    result = []\n",
    "    for d in dup:\n",
    "        if dup.count(d) > 1:\n",
    "            result.append(d)\n",
    "    return list(set(sorted(result)))\n",
    "\n",
    "\n",
    "duplicated(['a', 'b', 'c', 'b', 'd', 'm', 'n', 'n', 'b'])"
   ]
  },
  {
   "cell_type": "code",
   "execution_count": 43,
   "metadata": {
    "scrolled": true
   },
   "outputs": [
    {
     "name": "stdout",
     "output_type": "stream",
     "text": [
      "True\n",
      "False\n"
     ]
    }
   ],
   "source": [
    "def comfortable_word(words):\n",
    "    left = 'qwertasdfgzxcvb'\n",
    "    right = 'yuiophjklnm'\n",
    "    \n",
    "    result = ''\n",
    "    for word in words:\n",
    "        if word in left:\n",
    "            result += 'l'\n",
    "        else:\n",
    "            result += 'r'\n",
    "            \n",
    "    if 'll' in result or 'rr' in result:\n",
    "        return False\n",
    "    else:\n",
    "        return True\n",
    "    \n",
    "print(comfortable_word('qywu'))\n",
    "print(comfortable_word('apple'))"
   ]
  }
 ],
 "metadata": {
  "kernelspec": {
   "display_name": "Python 3",
   "language": "python",
   "name": "python3"
  },
  "language_info": {
   "codemirror_mode": {
    "name": "ipython",
    "version": 3
   },
   "file_extension": ".py",
   "mimetype": "text/x-python",
   "name": "python",
   "nbconvert_exporter": "python",
   "pygments_lexer": "ipython3",
   "version": "3.7.3"
  }
 },
 "nbformat": 4,
 "nbformat_minor": 2
}
