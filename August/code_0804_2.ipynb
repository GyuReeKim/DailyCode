{
 "cells": [
  {
   "cell_type": "code",
   "execution_count": 4,
   "metadata": {},
   "outputs": [
    {
     "data": {
      "text/plain": [
       "6"
      ]
     },
     "execution_count": 4,
     "metadata": {},
     "output_type": "execute_result"
    }
   ],
   "source": [
    "# 15596번\n",
    "\n",
    "def solve(a):\n",
    "    result = 0\n",
    "    for i in a:\n",
    "        result += i\n",
    "    return result\n",
    "solve([3, 2, 1])"
   ]
  },
  {
   "cell_type": "code",
   "execution_count": 38,
   "metadata": {},
   "outputs": [
    {
     "data": {
      "text/plain": [
       "99"
      ]
     },
     "execution_count": 38,
     "metadata": {},
     "output_type": "execute_result"
    }
   ],
   "source": [
    "# 1065번\n",
    "\n",
    "def han_number(x):\n",
    "    count = 0\n",
    "    for n in range(1, x+1):\n",
    "        result = 0\n",
    "        if n < 100:\n",
    "            count += 1\n",
    "        else:\n",
    "            n = str(n)\n",
    "            for i in range(1, len(n)):\n",
    "                if i == 1:\n",
    "                    result += int(n[i]) - int(n[i-1])\n",
    "                else:\n",
    "                    if int(n[i]) - int(n[i-1]) == result:\n",
    "                        count += 1\n",
    "    return count\n",
    "\n",
    "han_number(110)"
   ]
  },
  {
   "cell_type": "code",
   "execution_count": 42,
   "metadata": {
    "scrolled": true
   },
   "outputs": [
    {
     "name": "stdout",
     "output_type": "stream",
     "text": [
      "1000\n",
      "144\n"
     ]
    }
   ],
   "source": [
    "# 1065번\n",
    "\n",
    "x = int(input())\n",
    "count = 0\n",
    "for n in range(1, x+1):\n",
    "    result = 0\n",
    "    if n < 100:\n",
    "        count += 1\n",
    "    else:\n",
    "        n = str(n)\n",
    "        for i in range(1, len(n)):\n",
    "            if i == 1:\n",
    "                result += int(n[i]) - int(n[i-1])\n",
    "            else:\n",
    "                if int(n[i]) - int(n[i-1]) == result:\n",
    "                    count += 1\n",
    "print(count)"
   ]
  },
  {
   "cell_type": "code",
   "execution_count": 43,
   "metadata": {
    "scrolled": false
   },
   "outputs": [
    {
     "name": "stdout",
     "output_type": "stream",
     "text": [
      "10\n",
      "3628800\n"
     ]
    }
   ],
   "source": [
    "# 10872번\n",
    "\n",
    "n = int(input())\n",
    "result = 1\n",
    "for i in range(1, n+1):\n",
    "    result *= i\n",
    "print(result)"
   ]
  },
  {
   "cell_type": "code",
   "execution_count": 68,
   "metadata": {
    "scrolled": true
   },
   "outputs": [
    {
     "name": "stdout",
     "output_type": "stream",
     "text": [
      "A\n",
      "65\n"
     ]
    }
   ],
   "source": [
    "# 11654번\n",
    "\n",
    "text = input()\n",
    "asc = ord(text)\n",
    "print(asc)"
   ]
  },
  {
   "cell_type": "code",
   "execution_count": 69,
   "metadata": {
    "scrolled": false
   },
   "outputs": [
    {
     "name": "stdout",
     "output_type": "stream",
     "text": [
      "5\n",
      "54321\n",
      "15\n"
     ]
    }
   ],
   "source": [
    "# 11720번\n",
    "\n",
    "count = input()\n",
    "n = input()\n",
    "\n",
    "result = 0\n",
    "for i in n:\n",
    "    result += int(i)\n",
    "    \n",
    "print(result)"
   ]
  },
  {
   "cell_type": "code",
   "execution_count": 19,
   "metadata": {
    "scrolled": true
   },
   "outputs": [
    {
     "name": "stdout",
     "output_type": "stream",
     "text": [
      "baekjoon\n",
      "{'b': 0, 'a': 1, 'e': 2, 'k': 3, 'j': 4, 'o': 5, 'n': 7}\n",
      "{'b': 0, 'a': 1, 'e': 2, 'k': 3, 'j': 4, 'o': 5, 'n': 7, 'c': -1, 'd': -1, 'f': -1, 'g': -1, 'h': -1, 'i': -1, 'l': -1, 'm': -1, 'p': -1, 'q': -1, 'r': -1, 's': -1, 't': -1, 'u': -1, 'v': -1, 'w': -1, 'x': -1, 'y': -1, 'z': -1}\n",
      "1 0 -1 -1 2 -1 -1 -1 -1 4 3 -1 -1 7 5 -1 -1 -1 -1 -1 -1 -1 -1 -1 -1 -1 "
     ]
    }
   ],
   "source": [
    "# 10809번\n",
    "\n",
    "s = input()\n",
    "\n",
    "result = {}\n",
    "for i in range(len(s)):\n",
    "    if s[i] not in result:\n",
    "        result[s[i]] = i\n",
    "# print(result)\n",
    "\n",
    "alphabet = 'abcdefghijklmnopqrstuvwxyz'\n",
    "\n",
    "for a in range(len(alphabet)):\n",
    "    if alphabet[a] not in s:\n",
    "        result[alphabet[a]] = -1\n",
    "# print(result)\n",
    "\n",
    "for alpha in alphabet:\n",
    "    for key, val in result.items():\n",
    "        if key == alpha:\n",
    "            print(val, end=' ')"
   ]
  },
  {
   "cell_type": "code",
   "execution_count": 38,
   "metadata": {
    "scrolled": true
   },
   "outputs": [
    {
     "name": "stdout",
     "output_type": "stream",
     "text": [
      "2\n",
      "3 ABC\n",
      "AAABBBCCC\n",
      "5 /HTP\n",
      "/////HHHHHTTTTTPPPPP\n"
     ]
    }
   ],
   "source": [
    "# 2675번\n",
    "\n",
    "test = int(input())\n",
    "for t in range(test):\n",
    "\n",
    "    num_string = list(map(str, input().split()))\n",
    "    num = int(num_string[0])\n",
    "    string = num_string[-1]\n",
    "\n",
    "    result = ''\n",
    "    for s in string:\n",
    "        s = s * num\n",
    "        result += s\n",
    "    print(result)"
   ]
  },
  {
   "cell_type": "code",
   "execution_count": 59,
   "metadata": {},
   "outputs": [
    {
     "name": "stdout",
     "output_type": "stream",
     "text": [
      "Mississipi\n",
      "?\n"
     ]
    }
   ],
   "source": [
    "# 1157번\n",
    "\n",
    "words = input()\n",
    "words = words.upper()\n",
    "result = {}\n",
    "result_list = []\n",
    "for word in words:\n",
    "    if word in result:\n",
    "        result[word] += 1\n",
    "    else:\n",
    "        result[word] = 1\n",
    "# print(result)\n",
    "\n",
    "count_list = []\n",
    "for key, val in result.items():\n",
    "    count_list.append(val)\n",
    "# print(count_list)\n",
    "\n",
    "count = max(count_list)\n",
    "# print(count)\n",
    "\n",
    "number = 0\n",
    "for key, val in result.items():\n",
    "    if val == count:\n",
    "        number += 1\n",
    "# print(number)\n",
    "\n",
    "if number > 1:\n",
    "    print('?')\n",
    "else:\n",
    "    for key, val in result.items():\n",
    "        if val == count:\n",
    "            print(key)"
   ]
  }
 ],
 "metadata": {
  "kernelspec": {
   "display_name": "Python 3",
   "language": "python",
   "name": "python3"
  },
  "language_info": {
   "codemirror_mode": {
    "name": "ipython",
    "version": 3
   },
   "file_extension": ".py",
   "mimetype": "text/x-python",
   "name": "python",
   "nbconvert_exporter": "python",
   "pygments_lexer": "ipython3",
   "version": "3.7.3"
  }
 },
 "nbformat": 4,
 "nbformat_minor": 2
}
