{
 "cells": [
  {
   "cell_type": "code",
   "execution_count": 4,
   "metadata": {},
   "outputs": [
    {
     "data": {
      "text/plain": [
       "6"
      ]
     },
     "execution_count": 4,
     "metadata": {},
     "output_type": "execute_result"
    }
   ],
   "source": [
    "# 15596번\n",
    "\n",
    "def solve(a):\n",
    "    result = 0\n",
    "    for i in a:\n",
    "        result += i\n",
    "    return result\n",
    "solve([3, 2, 1])"
   ]
  },
  {
   "cell_type": "code",
   "execution_count": 38,
   "metadata": {},
   "outputs": [
    {
     "data": {
      "text/plain": [
       "99"
      ]
     },
     "execution_count": 38,
     "metadata": {},
     "output_type": "execute_result"
    }
   ],
   "source": [
    "# 1065번\n",
    "\n",
    "def han_number(x):\n",
    "    count = 0\n",
    "    for n in range(1, x+1):\n",
    "        result = 0\n",
    "        if n < 100:\n",
    "            count += 1\n",
    "        else:\n",
    "            n = str(n)\n",
    "            for i in range(1, len(n)):\n",
    "                if i == 1:\n",
    "                    result += int(n[i]) - int(n[i-1])\n",
    "                else:\n",
    "                    if int(n[i]) - int(n[i-1]) == result:\n",
    "                        count += 1\n",
    "    return count\n",
    "\n",
    "han_number(110)"
   ]
  },
  {
   "cell_type": "code",
   "execution_count": 42,
   "metadata": {
    "scrolled": true
   },
   "outputs": [
    {
     "name": "stdout",
     "output_type": "stream",
     "text": [
      "1000\n",
      "144\n"
     ]
    }
   ],
   "source": [
    "# 1065번\n",
    "\n",
    "x = int(input())\n",
    "count = 0\n",
    "for n in range(1, x+1):\n",
    "    result = 0\n",
    "    if n < 100:\n",
    "        count += 1\n",
    "    else:\n",
    "        n = str(n)\n",
    "        for i in range(1, len(n)):\n",
    "            if i == 1:\n",
    "                result += int(n[i]) - int(n[i-1])\n",
    "            else:\n",
    "                if int(n[i]) - int(n[i-1]) == result:\n",
    "                    count += 1\n",
    "print(count)"
   ]
  },
  {
   "cell_type": "code",
   "execution_count": 43,
   "metadata": {
    "scrolled": false
   },
   "outputs": [
    {
     "name": "stdout",
     "output_type": "stream",
     "text": [
      "10\n",
      "3628800\n"
     ]
    }
   ],
   "source": [
    "# 10872번\n",
    "\n",
    "n = int(input())\n",
    "result = 1\n",
    "for i in range(1, n+1):\n",
    "    result *= i\n",
    "print(result)"
   ]
  },
  {
   "cell_type": "code",
   "execution_count": 68,
   "metadata": {
    "scrolled": true
   },
   "outputs": [
    {
     "name": "stdout",
     "output_type": "stream",
     "text": [
      "A\n",
      "65\n"
     ]
    }
   ],
   "source": [
    "# 11654번\n",
    "\n",
    "text = input()\n",
    "asc = ord(text)\n",
    "print(asc)"
   ]
  },
  {
   "cell_type": "code",
   "execution_count": 69,
   "metadata": {
    "scrolled": false
   },
   "outputs": [
    {
     "name": "stdout",
     "output_type": "stream",
     "text": [
      "5\n",
      "54321\n",
      "15\n"
     ]
    }
   ],
   "source": [
    "# 11720번\n",
    "\n",
    "count = input()\n",
    "n = input()\n",
    "\n",
    "result = 0\n",
    "for i in n:\n",
    "    result += int(i)\n",
    "    \n",
    "print(result)"
   ]
  },
  {
   "cell_type": "code",
   "execution_count": null,
   "metadata": {},
   "outputs": [],
   "source": [
    "s = 'baekjoon'\n",
    "\n"
   ]
  }
 ],
 "metadata": {
  "kernelspec": {
   "display_name": "Python 3",
   "language": "python",
   "name": "python3"
  },
  "language_info": {
   "codemirror_mode": {
    "name": "ipython",
    "version": 3
   },
   "file_extension": ".py",
   "mimetype": "text/x-python",
   "name": "python",
   "nbconvert_exporter": "python",
   "pygments_lexer": "ipython3",
   "version": "3.7.3"
  }
 },
 "nbformat": 4,
 "nbformat_minor": 2
}
