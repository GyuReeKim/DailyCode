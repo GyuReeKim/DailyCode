{
 "cells": [
  {
   "cell_type": "code",
   "execution_count": 1,
   "metadata": {},
   "outputs": [
    {
     "name": "stdout",
     "output_type": "stream",
     "text": [
      "10\n",
      "6791400\n",
      "#1 3 2 2 3 1\n",
      "1646400\n",
      "#2 6 1 2 3 0\n",
      "1425600\n",
      "#3 6 4 2 0 1\n",
      "8575\n",
      "#4 0 0 2 3 0\n",
      "185625\n",
      "#5 0 3 4 0 1\n",
      "6480\n",
      "#6 4 4 1 0 0\n",
      "1185408\n",
      "#7 7 3 0 3 0\n",
      "6561\n",
      "#8 0 8 0 0 0\n",
      "25\n",
      "#9 0 0 2 0 0\n",
      "330750\n",
      "#10 1 3 3 2 0\n"
     ]
    }
   ],
   "source": [
    "T = int(input())\n",
    "for tc in range(1, T+1):\n",
    "    num = int(input())\n",
    "    \n",
    "    a = 0\n",
    "    while num % 2 == 0:\n",
    "        num = num // 2\n",
    "        a += 1\n",
    "    # print(a)\n",
    "\n",
    "    b = 0\n",
    "    while num % 3 == 0:\n",
    "        num = num // 3\n",
    "        b += 1\n",
    "    # print(b)\n",
    "\n",
    "    c = 0\n",
    "    while num % 5 == 0:\n",
    "        num = num // 5\n",
    "        c += 1\n",
    "    # print(c)\n",
    "\n",
    "    d = 0\n",
    "    while num % 7 == 0:\n",
    "        num = num // 7\n",
    "        d += 1\n",
    "    # print(d)\n",
    "\n",
    "    e = 0\n",
    "    while num % 11 == 0:\n",
    "        num = num // 11\n",
    "        e += 1\n",
    "    # print(e)\n",
    "\n",
    "    print(f'#{tc} {a} {b} {c} {d} {e}')"
   ]
  }
 ],
 "metadata": {
  "kernelspec": {
   "display_name": "Python 3",
   "language": "python",
   "name": "python3"
  },
  "language_info": {
   "codemirror_mode": {
    "name": "ipython",
    "version": 3
   },
   "file_extension": ".py",
   "mimetype": "text/x-python",
   "name": "python",
   "nbconvert_exporter": "python",
   "pygments_lexer": "ipython3",
   "version": "3.7.3"
  }
 },
 "nbformat": 4,
 "nbformat_minor": 2
}
