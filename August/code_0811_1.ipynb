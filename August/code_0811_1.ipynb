{
 "cells": [
  {
   "cell_type": "code",
   "execution_count": 9,
   "metadata": {
    "scrolled": true
   },
   "outputs": [
    {
     "name": "stdout",
     "output_type": "stream",
     "text": [
      "1000 70 170\n",
      "11\n"
     ]
    }
   ],
   "source": [
    "# 1712번\n",
    "\n",
    "a, b, c = list(map(int, input().split()))\n",
    "# a, b, c = 1000, 70, 170\n",
    "\n",
    "laptop = 0\n",
    "while c * laptop <= a + (b * laptop):\n",
    "    laptop += 1\n",
    "print(laptop)"
   ]
  },
  {
   "cell_type": "code",
   "execution_count": 13,
   "metadata": {
    "scrolled": true
   },
   "outputs": [
    {
     "name": "stdout",
     "output_type": "stream",
     "text": [
      "1000 70 170\n",
      "11\n"
     ]
    }
   ],
   "source": [
    "# 1712번\n",
    "\n",
    "a, b, c = list(map(int, input().split()))\n",
    "# a, b, c = 1000, 70, 170\n",
    "\n",
    "laptop = 0\n",
    "while c * laptop <= a + (b * laptop):\n",
    "    if a / (c - b) < 0:\n",
    "        laptop = -1\n",
    "        break\n",
    "    else:\n",
    "        laptop += 1\n",
    "print(laptop)"
   ]
  },
  {
   "cell_type": "code",
   "execution_count": 24,
   "metadata": {
    "scrolled": false
   },
   "outputs": [
    {
     "name": "stdout",
     "output_type": "stream",
     "text": [
      "1000 70 170\n",
      "11\n"
     ]
    }
   ],
   "source": [
    "# 1712번\n",
    "\n",
    "a, b, c = list(map(int, input().split()))\n",
    "# a, b, c = 1000, 70, 170\n",
    "\n",
    "laptop = 0\n",
    "while c * laptop <= a + (b * laptop):\n",
    "    if c - b <= 0:\n",
    "        laptop = -1\n",
    "        break\n",
    "    else:\n",
    "        laptop += 1\n",
    "print(laptop)"
   ]
  }
 ],
 "metadata": {
  "kernelspec": {
   "display_name": "Python 3",
   "language": "python",
   "name": "python3"
  },
  "language_info": {
   "codemirror_mode": {
    "name": "ipython",
    "version": 3
   },
   "file_extension": ".py",
   "mimetype": "text/x-python",
   "name": "python",
   "nbconvert_exporter": "python",
   "pygments_lexer": "ipython3",
   "version": "3.7.3"
  }
 },
 "nbformat": 4,
 "nbformat_minor": 2
}
