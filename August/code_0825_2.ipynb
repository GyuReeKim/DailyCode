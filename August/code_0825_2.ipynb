{
 "cells": [
  {
   "cell_type": "code",
   "execution_count": 1,
   "metadata": {
    "scrolled": true
   },
   "outputs": [
    {
     "name": "stdout",
     "output_type": "stream",
     "text": [
      "Hello World\n",
      ">> HELLO WORLD\n",
      "hello world\n",
      ">> HELLO WORLD\n",
      "Python\n",
      ">> PYTHON\n",
      "\n"
     ]
    }
   ],
   "source": [
    "# 사전학습(2) 40차시\n",
    "\n",
    "while True:\n",
    "    sentence = input()\n",
    "    if sentence == '':\n",
    "        break\n",
    "    print(f'>> {sentence.upper()}')"
   ]
  },
  {
   "cell_type": "code",
   "execution_count": null,
   "metadata": {
    "scrolled": true
   },
   "outputs": [],
   "source": [
    "# 사전학습(2) 40차시\n",
    "\n",
    "while True:\n",
    "    try:\n",
    "        print(f'>> {input().upper()}')\n",
    "    except EOFError:\n",
    "        break"
   ]
  },
  {
   "cell_type": "code",
   "execution_count": 6,
   "metadata": {
    "scrolled": true
   },
   "outputs": [
    {
     "name": "stdout",
     "output_type": "stream",
     "text": [
      "산 하늘 강 바다 하늘 강 들\n",
      "강,들,바다,산,하늘\n"
     ]
    }
   ],
   "source": [
    "# 사전학습(2) 41차시\n",
    "\n",
    "words = input().split()\n",
    "words = sorted(list(set(words)))\n",
    "print(','.join(words))"
   ]
  },
  {
   "cell_type": "code",
   "execution_count": 7,
   "metadata": {
    "scrolled": true
   },
   "outputs": [
    {
     "name": "stdout",
     "output_type": "stream",
     "text": [
      "H1e2l3l4o5w6o7r8l9d\n",
      "Helloworld\n"
     ]
    }
   ],
   "source": [
    "# 사전학습(2) 42차시\n",
    "\n",
    "chars = input()\n",
    "word = ''\n",
    "for i in range(len(chars)):\n",
    "    if i % 2 == 0:\n",
    "        word += chars[i]\n",
    "print(word)"
   ]
  },
  {
   "cell_type": "code",
   "execution_count": 15,
   "metadata": {
    "scrolled": true
   },
   "outputs": [
    {
     "name": "stdout",
     "output_type": "stream",
     "text": [
      "국어, 영어, 수학의 총점: 279\n"
     ]
    }
   ],
   "source": [
    "# 사전학습(2) 44차시\n",
    "\n",
    "# 국어, 영어, 수학의 총점: 279\n",
    "\n",
    "class Math:\n",
    "    def __init__(self, k, e, m):\n",
    "        self.k = k\n",
    "        self.e = e\n",
    "        self.m = m\n",
    "    \n",
    "    def add(self):\n",
    "        add_all = self.k + self.e + self.m\n",
    "        return f'국어, 영어, 수학의 총점: {add_all}'\n",
    "        \n",
    "m1 = Math(89, 90, 100)\n",
    "print(m1.add())"
   ]
  },
  {
   "cell_type": "code",
   "execution_count": 31,
   "metadata": {},
   "outputs": [
    {
     "name": "stdout",
     "output_type": "stream",
     "text": [
      "89, 90, 100\n",
      "국어, 영어, 수학의 총점: 279\n"
     ]
    }
   ],
   "source": [
    "# 사전학습(2) 44차시\n",
    "\n",
    "# 국어, 영어, 수학의 총점: 279\n",
    "\n",
    "class Math:\n",
    "    def __init__(self, k, e, m):\n",
    "        self.k = k\n",
    "        self.e = e\n",
    "        self.m = m\n",
    "    \n",
    "    def add(self):\n",
    "        add_all = self.k + self.e + self.m\n",
    "        return f'국어, 영어, 수학의 총점: {add_all}'\n",
    "    \n",
    "k, e, m = list(map(int, input().split(',')))\n",
    "m1 = Math(k, e, m)\n",
    "print(m1.add())"
   ]
  },
  {
   "cell_type": "code",
   "execution_count": 18,
   "metadata": {
    "scrolled": true
   },
   "outputs": [
    {
     "name": "stdout",
     "output_type": "stream",
     "text": [
      "대한민국\n",
      "대한민국\n"
     ]
    }
   ],
   "source": [
    "# 사전학습(2) 45차시\n",
    "\n",
    "class Korean:\n",
    "    @staticmethod\n",
    "    def printNationality():\n",
    "        return '대한민국'\n",
    "    \n",
    "p1 = Korean()\n",
    "p2 = Korean()\n",
    "print(p1.printNationality())\n",
    "print(p2.printNationality())"
   ]
  },
  {
   "cell_type": "code",
   "execution_count": 22,
   "metadata": {
    "scrolled": true
   },
   "outputs": [
    {
     "name": "stdout",
     "output_type": "stream",
     "text": [
      "이름: 홍길동\n",
      "이름: 이순신, 전공: 컴퓨터\n"
     ]
    }
   ],
   "source": [
    "# 사전학습(2) 46차시\n",
    "\n",
    "class Student:\n",
    "    def __init__(self, name):\n",
    "        self.name = name\n",
    "        \n",
    "class GraduateStudent(Student):\n",
    "    def __init__(self, name, major):\n",
    "        self.name = name\n",
    "        self.major = major\n",
    "        \n",
    "s1 = Student('홍길동')\n",
    "print(f'이름: {s1.name}')\n",
    "g1 = GraduateStudent('이순신', '컴퓨터')\n",
    "print(f'이름: {g1.name}, 전공: {g1.major}')"
   ]
  },
  {
   "cell_type": "code",
   "execution_count": 26,
   "metadata": {
    "scrolled": true
   },
   "outputs": [
    {
     "name": "stdout",
     "output_type": "stream",
     "text": [
      "원의 면적: 12.56\n"
     ]
    }
   ],
   "source": [
    "# 사전학습(2) 47차시\n",
    "\n",
    "class Circle:\n",
    "    def __init__(self, r):\n",
    "        self.r = r\n",
    "        \n",
    "    def area(self):\n",
    "        return f'원의 면적: {self.r * self.r * 3.14}'\n",
    "\n",
    "c1 = Circle(2)\n",
    "print(c1.area())"
   ]
  },
  {
   "cell_type": "code",
   "execution_count": 27,
   "metadata": {
    "scrolled": true
   },
   "outputs": [
    {
     "name": "stdout",
     "output_type": "stream",
     "text": [
      "사각형의 넓이: 20\n"
     ]
    }
   ],
   "source": [
    "# 사전학습(2) 48차시\n",
    "\n",
    "class Rectangle:\n",
    "    def __init__(self, w, h):\n",
    "        self.w = w\n",
    "        self.h = h\n",
    "        \n",
    "    def area(self):\n",
    "        return f'사각형의 면적: {self.w * self.h}'\n",
    "\n",
    "r1 = Rectangle(4, 5)\n",
    "print(r1.area())"
   ]
  },
  {
   "cell_type": "code",
   "execution_count": 28,
   "metadata": {
    "scrolled": true
   },
   "outputs": [
    {
     "name": "stdout",
     "output_type": "stream",
     "text": [
      "정사각형의 면적: 9\n"
     ]
    }
   ],
   "source": [
    "# 사전학습(2) 49차시\n",
    "\n",
    "class Shape:\n",
    "    def __init__(self, length):\n",
    "        self.length = length\n",
    "        \n",
    "    def area(self):\n",
    "        return 0\n",
    "    \n",
    "class Square(Shape):\n",
    "    def __init__(self, length):\n",
    "        self.length = length\n",
    "        \n",
    "    def area(self):\n",
    "        return f'정사각형의 면적: {self.length * self.length}'\n",
    "    \n",
    "s1 = Square(3)\n",
    "print(s1.area())"
   ]
  },
  {
   "cell_type": "code",
   "execution_count": 29,
   "metadata": {},
   "outputs": [
    {
     "name": "stdout",
     "output_type": "stream",
     "text": [
      "Male\n",
      "Female\n"
     ]
    }
   ],
   "source": [
    "# 사전학습(2) 50차시\n",
    "\n",
    "class Person:\n",
    "    def getGender(self):\n",
    "        return 'Unknown'\n",
    "    \n",
    "class Male(Person):\n",
    "    def getGender(self):\n",
    "        return 'Male'\n",
    "    \n",
    "class Female(Person):\n",
    "    def getGender(self):\n",
    "        return 'Female'\n",
    "    \n",
    "m1 = Male()\n",
    "print(m1.getGender())\n",
    "f1 = Female()\n",
    "print(f1.getGender())"
   ]
  }
 ],
 "metadata": {
  "kernelspec": {
   "display_name": "Python 3",
   "language": "python",
   "name": "python3"
  },
  "language_info": {
   "codemirror_mode": {
    "name": "ipython",
    "version": 3
   },
   "file_extension": ".py",
   "mimetype": "text/x-python",
   "name": "python",
   "nbconvert_exporter": "python",
   "pygments_lexer": "ipython3",
   "version": "3.7.3"
  }
 },
 "nbformat": 4,
 "nbformat_minor": 2
}
