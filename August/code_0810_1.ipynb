{
 "cells": [
  {
   "cell_type": "code",
   "execution_count": 16,
   "metadata": {
    "scrolled": false
   },
   "outputs": [
    {
     "name": "stdout",
     "output_type": "stream",
     "text": [
      "c=c=\n",
      "2\n"
     ]
    }
   ],
   "source": [
    "# 2941번\n",
    "\n",
    "sentence = input()\n",
    "croatia = ['c=', 'c-', 'dz=', 'd-', 'lj', 'nj', 's=', 'z=']\n",
    "\n",
    "count = 0\n",
    "for s in range(len(sentence)):\n",
    "    count += 1\n",
    "    if sentence[s] == '=' or sentence[s] == '-' or sentence[s] == 'j':\n",
    "        if sentence[s-1] == 'c' or sentence[s-1] == 'd' or sentence[s-1] == 'l' or sentence[s-1] == 'n' or sentence[s-1] == 's':\n",
    "            count -= 1\n",
    "        elif sentence[s-1] == 'z':\n",
    "            count -= 1\n",
    "            if sentence[s-2] == 'd':\n",
    "                count -= 1\n",
    "print(count)"
   ]
  },
  {
   "cell_type": "code",
   "execution_count": 19,
   "metadata": {
    "scrolled": true
   },
   "outputs": [
    {
     "name": "stdout",
     "output_type": "stream",
     "text": [
      "ljes=njak\n",
      "6\n"
     ]
    }
   ],
   "source": [
    "# 2941번\n",
    "\n",
    "sentence = input()\n",
    "croatia = ['c=', 'c-', 'dz=', 'd-', 'lj', 'nj', 's=', 'z=']\n",
    "\n",
    "for c_char in croatia:\n",
    "    sentence = sentence.replace(c_char, '0')\n",
    "print(len(sentence))"
   ]
  },
  {
   "cell_type": "code",
   "execution_count": 22,
   "metadata": {},
   "outputs": [
    {
     "name": "stdout",
     "output_type": "stream",
     "text": [
      "c=c=\n",
      "2\n"
     ]
    }
   ],
   "source": [
    "# 2941번\n",
    "\n",
    "sentence = input()\n",
    "croatia = ['c=', 'c-', 'dz=', 'd-', 'lj', 'nj', 's=', 'z=']\n",
    "\n",
    "count = 0\n",
    "for s in range(len(sentence)):\n",
    "    count += 1\n",
    "    if sentence[s] == '=':\n",
    "        if sentence[s-1] == 'c' or sentence[s-1] == 's':\n",
    "            count -= 1\n",
    "        elif sentence[s-1] == 'z':\n",
    "            count -= 1\n",
    "            if sentence[s-2] == 'd':\n",
    "                count -= 1\n",
    "    elif sentence[s] == '-':\n",
    "        if sentence[s-1] == 'c' or sentence[s-1] == 'd':\n",
    "            count -= 1\n",
    "    elif sentence[s] == 'j':\n",
    "        if sentence[s-1] == 'l' or sentence[s-1] == 'n':\n",
    "            count -= 1\n",
    "print(count)"
   ]
  }
 ],
 "metadata": {
  "kernelspec": {
   "display_name": "Python 3",
   "language": "python",
   "name": "python3"
  },
  "language_info": {
   "codemirror_mode": {
    "name": "ipython",
    "version": 3
   },
   "file_extension": ".py",
   "mimetype": "text/x-python",
   "name": "python",
   "nbconvert_exporter": "python",
   "pygments_lexer": "ipython3",
   "version": "3.7.3"
  }
 },
 "nbformat": 4,
 "nbformat_minor": 2
}
