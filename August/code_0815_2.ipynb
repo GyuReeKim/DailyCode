{
 "cells": [
  {
   "cell_type": "code",
   "execution_count": 3,
   "metadata": {
    "scrolled": false
   },
   "outputs": [
    {
     "name": "stdout",
     "output_type": "stream",
     "text": [
      "454\n"
     ]
    }
   ],
   "source": [
    "# 사전학습(1) 27차시\n",
    "scores = [85, 65, 77, 83, 75, 22, 98, 88, 38, 100]\n",
    "\n",
    "score_sum = 0\n",
    "while len(scores) != 0:\n",
    "    if scores[-1] >= 80:\n",
    "        score_sum += scores[-1]\n",
    "        scores.pop()\n",
    "    else:\n",
    "        scores.pop()\n",
    "print(score_sum)"
   ]
  },
  {
   "cell_type": "code",
   "execution_count": 9,
   "metadata": {
    "scrolled": false
   },
   "outputs": [
    {
     "name": "stdout",
     "output_type": "stream",
     "text": [
      "11\n",
      "0 1 2 3 4 5 6 7 8 9\n",
      "0 2 0 0 0 0 0 0 0 0 "
     ]
    }
   ],
   "source": [
    "# 사전학습(1) 30차시\n",
    "\n",
    "num = input()\n",
    "num_list = [0]*10\n",
    "for i in range(10):\n",
    "    for n in num:\n",
    "        if int(n) == i:\n",
    "            num_list[i] += 1\n",
    "print('0 1 2 3 4 5 6 7 8 9')\n",
    "for nl in num_list:\n",
    "    print(nl, end=' ')    "
   ]
  },
  {
   "cell_type": "code",
   "execution_count": 24,
   "metadata": {
    "scrolled": true
   },
   "outputs": [
    {
     "name": "stdout",
     "output_type": "stream",
     "text": [
      "11\n",
      "0 1 2 3 4 5 6 7 8 9 \n",
      "0 2 0 0 0 0 0 0 0 0 "
     ]
    }
   ],
   "source": [
    "# 사전학습(1) 30차시\n",
    "\n",
    "num_dict = {}\n",
    "numbers = '0123456789'\n",
    "num = input()\n",
    "for number in numbers:\n",
    "    if number not in num_dict:\n",
    "        num_dict[number] = 0\n",
    "# print(num_dict)\n",
    "for n in num:\n",
    "    if n in num_dict:\n",
    "        num_dict[n] += 1\n",
    "# print(num_dict)\n",
    "\n",
    "for key in num_dict:\n",
    "    print(key, end=' ')\n",
    "print()\n",
    "for val in num_dict.values():\n",
    "    print(val, end=' ')"
   ]
  },
  {
   "cell_type": "code",
   "execution_count": 44,
   "metadata": {
    "scrolled": false
   },
   "outputs": [
    {
     "name": "stdout",
     "output_type": "stream",
     "text": [
      "11\n",
      "0 1 2 3 4 5 6 7 8 9\n",
      "0 2 0 0 0 0 0 0 0 0\n"
     ]
    }
   ],
   "source": [
    "# 사전학습(1) 30차시\n",
    "# 답\n",
    "\n",
    "num = input()\n",
    "print(0, 1, 2, 3, 4 ,5, 6, 7, 8, 9)\n",
    "\n",
    "count_list = []\n",
    "for i in range(10):\n",
    "    count = 0\n",
    "    for n in num:\n",
    "        if i == int(n):\n",
    "            count += 1\n",
    "    count_list.append(str(count))\n",
    "print(' '.join(count_list))"
   ]
  },
  {
   "cell_type": "code",
   "execution_count": 26,
   "metadata": {
    "scrolled": false
   },
   "outputs": [
    {
     "name": "stdout",
     "output_type": "stream",
     "text": [
      "9\n",
      "1 4\n",
      "0 2\n",
      "0 1\n",
      "1 0\n",
      "1001\n"
     ]
    }
   ],
   "source": [
    "# 사전학습(1) 32차시\n",
    "\n",
    "num = int(input())\n",
    "# print(num%2, num//2)\n",
    "# print((num//2)%2, (num//2)//2)\n",
    "# print(((num//2)//2)%2, ((num//2)//2)//2)\n",
    "# print((((num//2)//2)//2)%2, (((num//2)//2)//2)//2)\n",
    "\n",
    "result = []\n",
    "while num != 0:\n",
    "    result.append(str(num % 2))\n",
    "    num = num // 2\n",
    "print(''.join(result[::-1]))"
   ]
  },
  {
   "cell_type": "code",
   "execution_count": 32,
   "metadata": {
    "scrolled": true
   },
   "outputs": [
    {
     "name": "stdout",
     "output_type": "stream",
     "text": [
      "eye\n",
      "eye\n",
      "입력하신 단어는 회문(Palindrome)입니다.\n"
     ]
    }
   ],
   "source": [
    "# 사전학습(1) 34차시\n",
    "\n",
    "def Palindrome(word):\n",
    "    return word[::-1]\n",
    "\n",
    "a = input()\n",
    "print(Palindrome(a))\n",
    "if a == Palindrome(a):\n",
    "    print('입력하신 단어는 회문(Palindrome)입니다.')"
   ]
  },
  {
   "cell_type": "code",
   "execution_count": 36,
   "metadata": {
    "scrolled": true
   },
   "outputs": [
    {
     "name": "stdout",
     "output_type": "stream",
     "text": [
      "홍길동\n",
      "이순신\n",
      "가위\n",
      "바위\n",
      "바위가 이겼습니다!\n"
     ]
    }
   ],
   "source": [
    "# 사전학습(1) 35차시\n",
    "\n",
    "def rsp(r1, r2):\n",
    "    if r1 == r2:\n",
    "        return '비겼습니다!'\n",
    "    elif r1 == '가위':\n",
    "        if r2 == '바위':\n",
    "            return '바위가 이겼습니다!'\n",
    "        else:\n",
    "            return '가위가 이겼습니다!'\n",
    "    elif r1 == '바위':\n",
    "        if r2 == '가위':\n",
    "            return '바위가 이겼습니다!'\n",
    "        else:\n",
    "            return '보가 이겼습니다!'\n",
    "    else:\n",
    "        if r2 == '가위':\n",
    "            return '가위가 이겼습니다!'\n",
    "        else:\n",
    "            return '보가 이겼습니다!'\n",
    "    \n",
    "\n",
    "a1 = input()\n",
    "a2 = input()\n",
    "p1 = input()\n",
    "p2 = input()\n",
    "\n",
    "print(rsp(p1, p2))"
   ]
  },
  {
   "cell_type": "code",
   "execution_count": 63,
   "metadata": {
    "scrolled": false
   },
   "outputs": [
    {
     "name": "stdout",
     "output_type": "stream",
     "text": [
      "10\n",
      "[1, 1, 2, 3, 5, 8, 13, 21, 34, 55]\n"
     ]
    }
   ],
   "source": [
    "# 사전학습(1) 37차시\n",
    "\n",
    "# [1, 1, 2, 3, 5, 8, 13, 21, 34, 55]\n",
    "\n",
    "# fib = [1]\n",
    "# result = 1\n",
    "# for i in range(1, 10):\n",
    "#     fib.append(result)\n",
    "#     result = fib[i-1] + fib[i]\n",
    "# #     fib.append(result)\n",
    "# print(fib)\n",
    "\n",
    "def fibo(n):\n",
    "\n",
    "    fib = []\n",
    "    result = 0\n",
    "    for i in range(10):\n",
    "        if i == 0 or i == 1:\n",
    "            fib.append(1)\n",
    "        else:\n",
    "            result = fib[i-2] + fib[i-1]\n",
    "            fib.append(result)\n",
    "    return fib\n",
    "\n",
    "num = int(input())\n",
    "print(fibo(num))"
   ]
  },
  {
   "cell_type": "code",
   "execution_count": 66,
   "metadata": {
    "scrolled": true
   },
   "outputs": [
    {
     "name": "stdout",
     "output_type": "stream",
     "text": [
      "[1, 2, 3, 4, 3, 2, 1]\n",
      "[1, 2, 3, 4]\n"
     ]
    }
   ],
   "source": [
    "# 사전학습(1) 38차시\n",
    "\n",
    "# [1, 2, 3, 4, 3, 2, 1]\n",
    "# [1, 2, 3, 4]\n",
    "\n",
    "def only(a):\n",
    "    return list(set(a))\n",
    "print([1, 2, 3, 4, 3, 2, 1])\n",
    "print(only([1, 2, 3, 4, 3, 2, 1]))"
   ]
  },
  {
   "cell_type": "code",
   "execution_count": 68,
   "metadata": {
    "scrolled": true
   },
   "outputs": [
    {
     "name": "stdout",
     "output_type": "stream",
     "text": [
      "[2, 4, 6, 8, 10]\n",
      "5 => False\n",
      "10 => True\n"
     ]
    }
   ],
   "source": [
    "# 사전학습(1) 39차시\n",
    "\n",
    "# [2, 4, 6, 8, 10]\n",
    "# 5 => False\n",
    "# 10 => True\n",
    "\n",
    "def find(a, b):\n",
    "    if b in a:\n",
    "        return f'{b} => True' \n",
    "    else:\n",
    "        return f'{b} => False'\n",
    "\n",
    "print([2, 4, 6, 8, 10])\n",
    "print(find([2, 4, 6, 8, 10], 5))\n",
    "print(find([2, 4, 6, 8, 10], 10))"
   ]
  },
  {
   "cell_type": "code",
   "execution_count": 70,
   "metadata": {
    "scrolled": true
   },
   "outputs": [
    {
     "name": "stdout",
     "output_type": "stream",
     "text": [
      "120\n"
     ]
    }
   ],
   "source": [
    "# 사전학습(1) 40차시\n",
    "\n",
    "def factorial(n):\n",
    "    result = 1\n",
    "    for i in range(1, n+1):\n",
    "        result *= i\n",
    "    return result\n",
    "\n",
    "print(factorial(5))"
   ]
  },
  {
   "cell_type": "code",
   "execution_count": 73,
   "metadata": {
    "scrolled": true
   },
   "outputs": [
    {
     "name": "stdout",
     "output_type": "stream",
     "text": [
      "square(2) => 4\n",
      "square(3) => 9\n"
     ]
    }
   ],
   "source": [
    "# 사전학습(1) 41차시\n",
    "\n",
    "# square(2) => 4\n",
    "# square(3) => 9\n",
    "\n",
    "def square(n):\n",
    "    return f'square({n}) => {n**2}'\n",
    "\n",
    "print(square(2))\n",
    "print(square(3))"
   ]
  },
  {
   "cell_type": "code",
   "execution_count": 78,
   "metadata": {
    "scrolled": true
   },
   "outputs": [
    {
     "name": "stdout",
     "output_type": "stream",
     "text": [
      "one, three\n",
      "three\n"
     ]
    }
   ],
   "source": [
    "# 사전학습(1) 42차시\n",
    "\n",
    "def long(words):\n",
    "    word_list = ''\n",
    "    for word in words:\n",
    "        if len(word) > len(word_list):\n",
    "            word_list = word\n",
    "    return word_list\n",
    "\n",
    "sentence = list(map(str, input().split(', ')))\n",
    "print(long(sentence))"
   ]
  },
  {
   "cell_type": "code",
   "execution_count": 86,
   "metadata": {},
   "outputs": [
    {
     "name": "stdout",
     "output_type": "stream",
     "text": [
      "카운트다운을 하려면 0보다 큰 입력이 필요합니다.\n",
      "10\n",
      "9\n",
      "8\n",
      "7\n",
      "6\n",
      "5\n",
      "4\n",
      "3\n",
      "2\n",
      "1\n"
     ]
    }
   ],
   "source": [
    "# 사전학습(1) 43차시\n",
    "\n",
    "# 카운트다운을 하려면 0보다 큰 입력이 필요합니다.\n",
    "\n",
    "def countdown(n):\n",
    "    if n > 0:\n",
    "        for i in range(n, 1, -1):\n",
    "            print(i)\n",
    "        return 1\n",
    "    else:\n",
    "        return '카운트다운을 하려면 0보다 큰 입력이 필요합니다.'\n",
    "    \n",
    "print(countdown(0))\n",
    "print(countdown(10))"
   ]
  }
 ],
 "metadata": {
  "kernelspec": {
   "display_name": "Python 3",
   "language": "python",
   "name": "python3"
  },
  "language_info": {
   "codemirror_mode": {
    "name": "ipython",
    "version": 3
   },
   "file_extension": ".py",
   "mimetype": "text/x-python",
   "name": "python",
   "nbconvert_exporter": "python",
   "pygments_lexer": "ipython3",
   "version": "3.7.3"
  }
 },
 "nbformat": 4,
 "nbformat_minor": 2
}
