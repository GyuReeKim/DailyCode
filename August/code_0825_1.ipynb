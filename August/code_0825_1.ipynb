{
 "cells": [
  {
   "cell_type": "code",
   "execution_count": 1,
   "metadata": {
    "scrolled": true
   },
   "outputs": [
    {
     "name": "stdout",
     "output_type": "stream",
     "text": [
      "아래 학생들의 전화번호를 조회할 수 있습니다.\n",
      "홍길동\n",
      "이순신\n",
      "강감찬\n",
      "전화번호를 조회하고자 하는 학생의 이름을 입력하십시오.\n",
      "이순신\n",
      "이순신의 전화번호는 010-1111-2222입니다.\n"
     ]
    }
   ],
   "source": [
    "# 사전학습(2) 27차시\n",
    "\n",
    "call = {\n",
    "    '홍길동': '010-1111-1111',\n",
    "    '이순신': '010-1111-2222',\n",
    "    '강감찬': '010-1111-3333',\n",
    "}\n",
    "\n",
    "print('아래 학생들의 전화번호를 조회할 수 있습니다.')\n",
    "for key in call:\n",
    "    print(key)\n",
    "    \n",
    "print('전화번호를 조회하고자 하는 학생의 이름을 입력하십시오.')\n",
    "num = input()\n",
    "for key, val in call.items():\n",
    "    if key == num:\n",
    "        print(f'이순신의 전화번호는 {val}입니다.')"
   ]
  },
  {
   "cell_type": "code",
   "execution_count": 2,
   "metadata": {
    "scrolled": true
   },
   "outputs": [
    {
     "name": "stdout",
     "output_type": "stream",
     "text": [
      "아래 학생들의 전화번호를 조회할 수 있습니다.\n",
      "홍길동\n",
      "이순신\n",
      "강감찬\n",
      "전화번호를 조회하고자 하는 학생의 이름을 입력하십시오.\n",
      "이순신\n",
      "이순신의 전화번호는 010-1111-2222입니다.\n"
     ]
    }
   ],
   "source": [
    "# 사전학습(2) 27차시\n",
    "\n",
    "students = ['홍길동', '이순신', '강감찬']\n",
    "calls = ['010-1111-1111', '010-1111-2222', '010-1111-3333']\n",
    "\n",
    "print('아래 학생들의 전화번호를 조회할 수 있습니다.')\n",
    "for student in students:\n",
    "    print(student)\n",
    "    \n",
    "print('전화번호를 조회하고자 하는 학생의 이름을 입력하십시오.')\n",
    "name = input()\n",
    "for i in range(len(students)):\n",
    "    if students[i] == name:\n",
    "        print(f'{name}의 전화번호는 {calls[i]}입니다.')"
   ]
  },
  {
   "cell_type": "code",
   "execution_count": 13,
   "metadata": {
    "scrolled": true
   },
   "outputs": [
    {
     "name": "stdout",
     "output_type": "stream",
     "text": [
      "TV: 2000000\n",
      "냉장고: 1500000\n",
      "노트북: 1200000\n",
      "세탁기: 1000000\n",
      "책상: 350000\n",
      "가스레인지: 200000\n"
     ]
    }
   ],
   "source": [
    "# 사전학습(2) 28차시\n",
    "\n",
    "price = {\n",
    "    \"TV\": 2000000,\n",
    "    \"냉장고\": 1500000,\n",
    "    \"책상\": 350000,\n",
    "    \"노트북\": 1200000,\n",
    "    \"가스레인지\": 200000,\n",
    "    \"세탁기\": 1000000,    \n",
    "}\n",
    "\n",
    "price_list = []\n",
    "for val in price.values():\n",
    "    price_list.append(val)\n",
    "sort_price = sorted(price_list, reverse=True)\n",
    "# print(sort_price)\n",
    "\n",
    "for sp in sort_price:\n",
    "    for key, val in price.items():\n",
    "        if sp == val:\n",
    "            print(f'{key}: {val}')"
   ]
  },
  {
   "cell_type": "code",
   "execution_count": 33,
   "metadata": {
    "scrolled": true
   },
   "outputs": [
    {
     "name": "stdout",
     "output_type": "stream",
     "text": [
      "{('카페모카', 3300), ('샷크린티라떼', 3300), ('밀크커피', 3300)}\n"
     ]
    }
   ],
   "source": [
    "# 사전학습(2) 29차시\n",
    "\n",
    "# {('카페모카', 3300), ('밀크커피', 3300), ('샷크린티라떼', 3300)}\n",
    "\n",
    "a = {'아메리카노': 1900, '카페모카': 3300, '에스프레소': 1900, '카페라떼': 2500, '카푸치노': 2500, '바닐라라떼': 2900}\n",
    "b = {'헤이즐럿라떼': 2900, '카페모카': 3300, '밀크커피': 3300, '아메리카노': 1900, '샷크린티라떼': 3300}\n",
    "\n",
    "menu_dict = {}\n",
    "for key, val in a.items():\n",
    "    if val >= 3000:\n",
    "        menu_dict[key] = val\n",
    "        \n",
    "for key, val in b.items():\n",
    "    if key not in menu_dict and val >= 3000:\n",
    "        menu_dict[key] = val\n",
    "# print(menu_dict)\n",
    "\n",
    "result = []\n",
    "for key, val in menu_dict.items():\n",
    "    result.append((key, val))\n",
    "print(set(result))\n"
   ]
  },
  {
   "cell_type": "code",
   "execution_count": 46,
   "metadata": {
    "scrolled": true
   },
   "outputs": [
    {
     "name": "stdout",
     "output_type": "stream",
     "text": [
      "{'apple': 5, 'banana': 6, 'melon': 5}\n"
     ]
    }
   ],
   "source": [
    "# 사전학습(2) 30차시\n",
    "\n",
    "fruit = ['   apple    ','banana','  melon']\n",
    "fruit = [f.strip() for f in fruit]\n",
    "\n",
    "for f in fruit:\n",
    "    fruit_dict[f] = len(f)\n",
    "print(fruit_dict)"
   ]
  },
  {
   "cell_type": "code",
   "execution_count": 47,
   "metadata": {},
   "outputs": [
    {
     "name": "stdout",
     "output_type": "stream",
     "text": [
      "{'apple': 5, 'banana': 6, 'melon': 5}\n"
     ]
    }
   ],
   "source": [
    "# 사전학습(2) 30차시\n",
    "\n",
    "fruit = ['   apple    ','banana','  melon']\n",
    "\n",
    "for f in fruit:\n",
    "    f = f.strip()\n",
    "    fruit_dict[f] = len(f)\n",
    "print(fruit_dict)"
   ]
  },
  {
   "cell_type": "code",
   "execution_count": 48,
   "metadata": {
    "scrolled": true
   },
   "outputs": [
    {
     "name": "stdout",
     "output_type": "stream",
     "text": [
      "{'apple': 5, 'banana': 6, 'melon': 5}\n"
     ]
    }
   ],
   "source": [
    "# 사전학습(2) 30차시\n",
    "\n",
    "fruit = ['   apple    ','banana','  melon']\n",
    "\n",
    "fruit_dict = {f.strip(): len(f.strip()) for f in fruit}\n",
    "print(fruit_dict)"
   ]
  },
  {
   "cell_type": "code",
   "execution_count": 49,
   "metadata": {
    "scrolled": true
   },
   "outputs": [
    {
     "name": "stdout",
     "output_type": "stream",
     "text": [
      "5\n",
      "{1: 1, 2: 4, 3: 9, 4: 16, 5: 25}\n"
     ]
    }
   ],
   "source": [
    "# 사전학습(2) 31차시\n",
    "\n",
    "# {1: 1, 2: 4, 3: 9, 4: 16, 5: 25}\n",
    "\n",
    "num = int(input())\n",
    "\n",
    "num_dict = {}\n",
    "for i in range(1, num+1):\n",
    "    num_dict[i] = i**2\n",
    "print(num_dict)"
   ]
  },
  {
   "cell_type": "code",
   "execution_count": 50,
   "metadata": {
    "scrolled": true
   },
   "outputs": [
    {
     "name": "stdout",
     "output_type": "stream",
     "text": [
      "5\n",
      "{1: 1, 2: 4, 3: 9, 4: 16, 5: 25}\n"
     ]
    }
   ],
   "source": [
    "# 사전학습(2) 31차시\n",
    "\n",
    "num = int(input())\n",
    "\n",
    "num_dict = {i: i**2 for i in range(1, num+1)}\n",
    "print(num_dict)"
   ]
  },
  {
   "cell_type": "code",
   "execution_count": 60,
   "metadata": {
    "scrolled": false
   },
   "outputs": [
    {
     "name": "stdout",
     "output_type": "stream",
     "text": [
      "hello world! 123\n",
      "LETTERS 10\n",
      "DIGITS 3\n"
     ]
    }
   ],
   "source": [
    "# 사전학습(2) 32차시\n",
    "\n",
    "sentence = input()\n",
    "\n",
    "alpha_count = 0\n",
    "digit_count = 0\n",
    "for i in sentence:\n",
    "    if i.isalpha():\n",
    "        alpha_count += 1\n",
    "    elif i.isdigit():\n",
    "        digit_count += 1\n",
    "print(f'LETTERS {alpha_count}')\n",
    "print(f'DIGITS {digit_count}')"
   ]
  },
  {
   "cell_type": "code",
   "execution_count": 61,
   "metadata": {
    "scrolled": false
   },
   "outputs": [
    {
     "name": "stdout",
     "output_type": "stream",
     "text": [
      "Hello World! 123\n",
      "UPPER CASE 2\n",
      "LOWER CASE 8\n"
     ]
    }
   ],
   "source": [
    "# 사전학습(2) 33차시\n",
    "\n",
    "sentence = input()\n",
    "\n",
    "upper_count = 0\n",
    "lower_count = 0\n",
    "for i in sentence:\n",
    "    if i.isupper():\n",
    "        upper_count += 1\n",
    "    elif i.islower():\n",
    "        lower_count += 1\n",
    "print(f'UPPER CASE {upper_count}')\n",
    "print(f'LOWER CASE {lower_count}')"
   ]
  },
  {
   "cell_type": "code",
   "execution_count": 65,
   "metadata": {
    "scrolled": false
   },
   "outputs": [
    {
     "name": "stdout",
     "output_type": "stream",
     "text": [
      "{'하이트': 2000, '카스': 2100, '칭따오': 2500, '하이네켄': 4000, '버드와이저': 500}\n",
      "{'하이트': 2100.0, '카스': 2205.0, '칭따오': 2625.0, '하이네켄': 4200.0, '버드와이저': 525.0}\n"
     ]
    }
   ],
   "source": [
    "# 사전학습(2) 34차시\n",
    "\n",
    "# {'하이트': 2000, '카스': 2100, '칭따오': 2500, '하이네켄': 4000, '버드와이저': 500}            # 인상 전\n",
    "# {'하이트': 2100.0, '카스': 2205.0, '칭따오': 2625.0, '하이네켄': 4200.0, '버드와이저': 525.0}  # 인상 후\n",
    "\n",
    "beer = {'하이트': 2000, '카스': 2100, '칭따오': 2500, '하이네켄': 4000, '버드와이저': 500}\n",
    "print(beer)\n",
    "\n",
    "result = {}\n",
    "for key, val in beer.items():\n",
    "    val = val*1.05\n",
    "    result[key] = val\n",
    "print(result)"
   ]
  },
  {
   "cell_type": "code",
   "execution_count": 66,
   "metadata": {
    "scrolled": false
   },
   "outputs": [
    {
     "name": "stdout",
     "output_type": "stream",
     "text": [
      "{'하이트': 2000, '카스': 2100, '칭따오': 2500, '하이네켄': 4000, '버드와이저': 500}\n",
      "{'하이트': 2100.0, '카스': 2205.0, '칭따오': 2625.0, '하이네켄': 4200.0, '버드와이저': 525.0}\n"
     ]
    }
   ],
   "source": [
    "# 사전학습(2) 34차시\n",
    "\n",
    "# {'하이트': 2000, '카스': 2100, '칭따오': 2500, '하이네켄': 4000, '버드와이저': 500}            # 인상 전\n",
    "# {'하이트': 2100.0, '카스': 2205.0, '칭따오': 2625.0, '하이네켄': 4200.0, '버드와이저': 525.0}  # 인상 후\n",
    "\n",
    "beer = {'하이트': 2000, '카스': 2100, '칭따오': 2500, '하이네켄': 4000, '버드와이저': 500}\n",
    "print(beer)\n",
    "\n",
    "beer = {key: val*1.05 for key, val in beer.items()}\n",
    "print(beer)"
   ]
  },
  {
   "cell_type": "code",
   "execution_count": 69,
   "metadata": {
    "scrolled": false
   },
   "outputs": [
    {
     "name": "stdout",
     "output_type": "stream",
     "text": [
      "abcdefgabc\n",
      "a,2\n",
      "b,2\n",
      "c,2\n",
      "d,1\n",
      "e,1\n",
      "f,1\n",
      "g,1\n"
     ]
    }
   ],
   "source": [
    "# 사전학습(2) 35차시\n",
    "\n",
    "chars = input()\n",
    "\n",
    "char_dict = {}\n",
    "for char in chars:\n",
    "    if char in char_dict:\n",
    "        char_dict[char] += 1\n",
    "    else:\n",
    "        char_dict[char] = 1\n",
    "# print(char_dict)\n",
    "\n",
    "for key, val in char_dict.items():\n",
    "    print(f'{key},{val}')"
   ]
  },
  {
   "cell_type": "code",
   "execution_count": 71,
   "metadata": {
    "scrolled": true
   },
   "outputs": [
    {
     "name": "stdout",
     "output_type": "stream",
     "text": [
      "madam\n",
      "madam\n",
      "입력하신 단어는 회문(Palindrome)입니다.\n"
     ]
    }
   ],
   "source": [
    "# 사전학습(2) 37차시\n",
    "\n",
    "# madam\n",
    "# 입력하신 단어는 회문(Palindrome)입니다.\n",
    "\n",
    "word = input()\n",
    "print(word)\n",
    "\n",
    "if word == word[::-1]:\n",
    "    print('입력하신 단어는 회문(Palindrome)입니다.')\n",
    "else:\n",
    "    print('입력하신 단어는 회문(Palindrome)이 아닙니다.')"
   ]
  },
  {
   "cell_type": "code",
   "execution_count": 76,
   "metadata": {
    "scrolled": true
   },
   "outputs": [
    {
     "name": "stdout",
     "output_type": "stream",
     "text": [
      "A better tomorrow\n",
      "tomorrow better A\n"
     ]
    }
   ],
   "source": [
    "# 사전학습(2) 38차시\n",
    "\n",
    "sentence = input().split()\n",
    "\n",
    "new_sentence = []\n",
    "for i in range(len(sentence)):\n",
    "    new_sentence.append(sentence.pop())\n",
    "print(' '.join(new_sentence))"
   ]
  },
  {
   "cell_type": "code",
   "execution_count": 85,
   "metadata": {
    "scrolled": true
   },
   "outputs": [
    {
     "name": "stdout",
     "output_type": "stream",
     "text": [
      "protocol: http\n",
      "host: www.example.com\n",
      "others: test?p=1&q=2\n"
     ]
    }
   ],
   "source": [
    "# 사전학습(2) 39차시\n",
    "\n",
    "# protocol: http\n",
    "# host: www.example.com\n",
    "# others: test?p=1&q=2\n",
    "\n",
    "url = 'http://www.example.com/test?p=1&q=2'\n",
    "\n",
    "words = []\n",
    "char = ''\n",
    "for i in range(len(url)):\n",
    "    if url[i] == ':':\n",
    "        words.append(char)\n",
    "        char = ''\n",
    "    elif url[i] == '/':\n",
    "        if len(char) != 0:\n",
    "            words.append(char)\n",
    "            char = ''\n",
    "    elif i == len(url)-1:\n",
    "        char += url[i]\n",
    "        words.append(char)\n",
    "    else:\n",
    "        char += url[i]\n",
    "\n",
    "url_dict = {}\n",
    "for word in words:\n",
    "    if 'http' in word:\n",
    "        url_dict['protocol'] = word\n",
    "    elif 'www' in word:\n",
    "        url_dict['host'] = word\n",
    "    else:\n",
    "        url_dict['others'] = word\n",
    "# print(url_dict)\n",
    "\n",
    "for key, val in url_dict.items():\n",
    "    print(f'{key}: {val}')"
   ]
  },
  {
   "cell_type": "code",
   "execution_count": 106,
   "metadata": {
    "scrolled": false
   },
   "outputs": [
    {
     "name": "stdout",
     "output_type": "stream",
     "text": [
      "protocol: http\n",
      "host: www.example.com\n",
      "others: test?p=1&q=2\n"
     ]
    }
   ],
   "source": [
    "# 사전학습(2) 39차시\n",
    "\n",
    "# protocol: http\n",
    "# host: www.example.com\n",
    "# others: test?p=1&q=2\n",
    "\n",
    "url = 'http://www.example.com/test?p=1&q=2'\n",
    "\n",
    "words = []\n",
    "char = ''\n",
    "for i in range(len(url)):\n",
    "    if url[i] == ':':\n",
    "        words.append(char)\n",
    "        char = ''\n",
    "    elif url[i] == '/':\n",
    "        if len(char) != 0:\n",
    "            words.append(char)\n",
    "            char = ''\n",
    "    elif i == len(url)-1:\n",
    "        char += url[i]\n",
    "        words.append(char)\n",
    "    else:\n",
    "        char += url[i]\n",
    "\n",
    "w = ['protocol', 'host', 'others']\n",
    "url_dict = {w[i]: words[i] for i in range(len(words))}\n",
    "# print(url_dict)\n",
    "\n",
    "for key, val in url_dict.items():\n",
    "    print(f'{key}: {val}')"
   ]
  }
 ],
 "metadata": {
  "kernelspec": {
   "display_name": "Python 3",
   "language": "python",
   "name": "python3"
  },
  "language_info": {
   "codemirror_mode": {
    "name": "ipython",
    "version": 3
   },
   "file_extension": ".py",
   "mimetype": "text/x-python",
   "name": "python",
   "nbconvert_exporter": "python",
   "pygments_lexer": "ipython3",
   "version": "3.7.3"
  }
 },
 "nbformat": 4,
 "nbformat_minor": 2
}
