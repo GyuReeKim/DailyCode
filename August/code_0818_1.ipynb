{
 "cells": [
  {
   "cell_type": "code",
   "execution_count": 4,
   "metadata": {
    "scrolled": true
   },
   "outputs": [
    {
     "name": "stdout",
     "output_type": "stream",
     "text": [
      "[1, 1, 2, 3, 5, 8, 13, 21, 34, 55]\n"
     ]
    }
   ],
   "source": [
    "# 사전학습(2) 10차시\n",
    "\n",
    "# [1, 1, 2, 3, 5, 8, 13, 21, 34, 55]\n",
    "\n",
    "N = 10\n",
    "\n",
    "fib = []\n",
    "for n in range(N):\n",
    "    if n == 0 or n == 1:\n",
    "        fib.append(1)\n",
    "    else:\n",
    "        fib.append(fib[n-2]+fib[n-1])\n",
    "print(fib) "
   ]
  }
 ],
 "metadata": {
  "kernelspec": {
   "display_name": "Python 3",
   "language": "python",
   "name": "python3"
  },
  "language_info": {
   "codemirror_mode": {
    "name": "ipython",
    "version": 3
   },
   "file_extension": ".py",
   "mimetype": "text/x-python",
   "name": "python",
   "nbconvert_exporter": "python",
   "pygments_lexer": "ipython3",
   "version": "3.7.3"
  }
 },
 "nbformat": 4,
 "nbformat_minor": 2
}
