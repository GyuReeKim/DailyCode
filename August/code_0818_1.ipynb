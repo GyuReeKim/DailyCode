{
 "cells": [
  {
   "cell_type": "code",
   "execution_count": null,
   "metadata": {
    "scrolled": true
   },
   "outputs": [],
   "source": [
    "# 사전학습(2) 10차시\n",
    "\n",
    "# [1, 1, 2, 3, 5, 8, 13, 21, 34, 55]\n",
    "\n",
    "N = 10\n",
    "\n",
    "fib = []\n",
    "for n in range(N):\n",
    "    if n == 0 or n == 1:\n",
    "        fib.append(1)\n",
    "    else:\n",
    "        fib.append(fib[n-2]+fib[n-1])\n",
    "print(fib) "
   ]
  },
  {
   "cell_type": "code",
   "execution_count": 1,
   "metadata": {
    "scrolled": true
   },
   "outputs": [
    {
     "name": "stdout",
     "output_type": "stream",
     "text": [
      "[1, 1, 2, 3, 5, 8, 13, 21, 34, 55]\n"
     ]
    }
   ],
   "source": [
    "# 사전학습(2) 10차시\n",
    "\n",
    "N = 10\n",
    "\n",
    "fib=[1, 1]\n",
    "[fib.append(fib[n-1]+fib[n-2]) for n in range(2,N)]\n",
    "\n",
    "print(fib)"
   ]
  },
  {
   "cell_type": "code",
   "execution_count": 3,
   "metadata": {
    "scrolled": true
   },
   "outputs": [
    {
     "name": "stdout",
     "output_type": "stream",
     "text": [
      "[1, 4, 9, 16, 25, 36, 49, 64, 81, 100, 121, 144, 169, 196, 256, 289, 324, 361, 400]\n"
     ]
    }
   ],
   "source": [
    "# 사전학습(2) 11차시\n",
    "\n",
    "# [1, 4, 9, 16, 25, 36, 49, 64, 81, 100, 121, 144, 169, 196, 256, 289, 324, 361, 400]\n",
    "\n",
    "num = [n ** 2 for n in range(1, 21) if n % 3 != 0 or n % 5 != 0]\n",
    "print(num)"
   ]
  },
  {
   "cell_type": "code",
   "execution_count": 4,
   "metadata": {
    "scrolled": true
   },
   "outputs": [
    {
     "name": "stdout",
     "output_type": "stream",
     "text": [
      "12345\n",
      "15\n"
     ]
    }
   ],
   "source": [
    "# 사전학습(2) 12차시\n",
    "\n",
    "number = input()\n",
    "\n",
    "result = 0\n",
    "for num in number:\n",
    "    result += int(num)\n",
    "print(result)"
   ]
  },
  {
   "cell_type": "code",
   "execution_count": 36,
   "metadata": {},
   "outputs": [
    {
     "name": "stdout",
     "output_type": "stream",
     "text": [
      "52852\n",
      "54028\n",
      "힣\n"
     ]
    }
   ],
   "source": [
    "# 사전학습(2) 13차시\n",
    "\n",
    "# [['계시다', '가지다', '그', '개'], ['놀이'], ['들다', '다', '뒤', '듣다', '데리다'], [], ['막', '무척', '마리'], ['부모님', '비용', '비행기', '보이다'], ['싶다', '수출'], ['원래', '아이', '옳다'], ['좀', '자르다', '정도'], ['처리', '최초'], [], [], [], ['함께']]\n",
    "\n",
    "# print(ord('가')) # 44032\n",
    "# print(ord('나')) # 45208\n",
    "# print(ord('다')) # 45796\n",
    "# print(ord('라')) # 46972\n",
    "# print(ord('마')) # 47560\n",
    "# print(ord('바')) # 48148\n",
    "# print(ord('사')) # 49324\n",
    "# print(ord('아')) # 50500\n",
    "# print(ord('자')) # 51088\n",
    "# print(ord('차')) # 52264\n",
    "# print(ord('카')) # 52852\n",
    "# print(ord('파')) # 54028\n",
    "# print(ord('하')) # 54616\n",
    "# print(ord('힣')) # 55203\n",
    "\n",
    "inputWord = ['막', '부모님', '비용', '비행기', '원래', '처리', '최초', '꼴', '좀', '들다', '싶다', '수출', '계시다', '다', '뒤', '듣다', '함께', '아이', '무척', '보이다', '가지다', '그', '자르다', '데리다', '마리', '개', '정도', '옳다', '놀이','뜨겁다']\n"
   ]
  }
 ],
 "metadata": {
  "kernelspec": {
   "display_name": "Python 3",
   "language": "python",
   "name": "python3"
  },
  "language_info": {
   "codemirror_mode": {
    "name": "ipython",
    "version": 3
   },
   "file_extension": ".py",
   "mimetype": "text/x-python",
   "name": "python",
   "nbconvert_exporter": "python",
   "pygments_lexer": "ipython3",
   "version": "3.7.3"
  }
 },
 "nbformat": 4,
 "nbformat_minor": 2
}
