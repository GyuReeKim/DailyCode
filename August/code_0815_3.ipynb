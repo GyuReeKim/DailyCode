{
 "cells": [
  {
   "cell_type": "code",
   "execution_count": 2,
   "metadata": {
    "scrolled": true
   },
   "outputs": [
    {
     "name": "stdout",
     "output_type": "stream",
     "text": [
      "홍길동\n",
      "20\n",
      "홍길동(은)는 2099년에 100세가 될 것입니다.\n"
     ]
    }
   ],
   "source": [
    "# 사전학습(1) 45차시\n",
    "\n",
    "# 홍길동(은)는 2099년에 100세가 될 것입니다.\n",
    "name = input()\n",
    "age = int(input())\n",
    "year = 2019\n",
    "\n",
    "year_100 = year + 100 - age\n",
    "\n",
    "print(f'{name}(은)는 {year_100}년에 100세가 될 것입니다.')"
   ]
  },
  {
   "cell_type": "code",
   "execution_count": 3,
   "metadata": {
    "scrolled": true
   },
   "outputs": [
    {
     "name": "stdout",
     "output_type": "stream",
     "text": [
      "184\n"
     ]
    }
   ],
   "source": [
    "# 사전학습(1) 46차시\n",
    "\n",
    "string = 'ADCBBBBCABBCBDACBDCAACDDDCAABABDBCBCBDBDBDDABBAAAAAAADADBDBCBDABADCADC'\n",
    "\n",
    "result = 0\n",
    "for char in string:\n",
    "    if char == 'A':\n",
    "        result += 4\n",
    "    elif char == 'B':\n",
    "        result += 3\n",
    "    elif char == 'C':\n",
    "        result += 2\n",
    "    else:\n",
    "        result += 1\n",
    "print(result)"
   ]
  },
  {
   "cell_type": "code",
   "execution_count": 29,
   "metadata": {},
   "outputs": [
    {
     "name": "stdout",
     "output_type": "stream",
     "text": [
      "[4, 1, 2, 3, 3, 3, 3, 2, 4, 3, 3, 2, 3, 1, 4, 2, 3, 1, 2, 4, 4, 2, 1, 1, 1, 2, 4, 4, 3, 4, 3, 1, 3, 2, 3, 2, 3, 1, 3, 1, 3, 1, 1, 4, 3, 3, 4, 4, 4, 4, 4, 4, 4, 1, 4, 1, 3, 1, 3, 2, 3, 1, 4, 3, 4, 1, 2, 4, 1, 2]\n"
     ]
    }
   ],
   "source": [
    "# 사전학습(1) 46차시\n",
    "\n",
    "string = 'ADCBBBBCABBCBDACBDCAACDDDCAABABDBCBCBDBDBDDABBAAAAAAADADBDBCBDABADCADC'\n",
    "\n",
    "score = [4 if char == 'A' else 3 if char == 'B' else 2 if char == 'C' else 1 for char in string]\n",
    "\n",
    "result = 0\n",
    "for s in score:\n",
    "    result += s\n",
    "\n",
    "print(result)"
   ]
  },
  {
   "cell_type": "code",
   "execution_count": 4,
   "metadata": {
    "scrolled": true
   },
   "outputs": [
    {
     "name": "stdout",
     "output_type": "stream",
     "text": [
      "184\n"
     ]
    }
   ],
   "source": [
    "# 사전학습(1) 46차시\n",
    "\n",
    "string = 'ADCBBBBCABBCBDACBDCAACDDDCAABABDBCBCBDBDBDDABBAAAAAAADADBDBCBDABADCADC'\n",
    "\n",
    "def score(s):\n",
    "    \n",
    "    result = 0\n",
    "    for char in s:\n",
    "        if char == 'A':\n",
    "            result += 4\n",
    "        elif char == 'B':\n",
    "            result += 3\n",
    "        elif char == 'C':\n",
    "            result += 2\n",
    "        else:\n",
    "            result += 1\n",
    "    return result\n",
    "\n",
    "print(score(string))"
   ]
  },
  {
   "cell_type": "code",
   "execution_count": 90,
   "metadata": {
    "scrolled": false
   },
   "outputs": [
    {
     "name": "stdout",
     "output_type": "stream",
     "text": [
      "184\n"
     ]
    }
   ],
   "source": [
    "# 사전학습(1) 46차시\n",
    "\n",
    "string = 'ADCBBBBCABBCBDACBDCAACDDDCAABABDBCBCBDBDBDDABBAAAAAAADADBDBCBDABADCADC'\n",
    "\n",
    "# result = 0\n",
    "score = list(map(lambda char:4 if char == 'A' else 3 if char == 'B' else 2 if char == 'C' else 1, string))\n",
    "\n",
    "result = 0\n",
    "for s in score:\n",
    "    result += s\n",
    "print(result)"
   ]
  },
  {
   "cell_type": "code",
   "execution_count": 88,
   "metadata": {},
   "outputs": [
    {
     "name": "stdout",
     "output_type": "stream",
     "text": [
      "184\n"
     ]
    }
   ],
   "source": [
    "# 도움받은 코드\n",
    "word = \"ADCBBBBCABBCBDACBDCAACDDDCAABABDBCBCBDBDBDDABBAAAAAAADADBDBCBDABADCADC\"\n",
    "\n",
    "result = 0\n",
    "for i in list(map(lambda char:4 if char == 'A' else 3 if char == 'B' else 2 if char == 'C' else 1, string)):\n",
    "    result += i\n",
    "print(result)"
   ]
  },
  {
   "cell_type": "code",
   "execution_count": 85,
   "metadata": {
    "scrolled": false
   },
   "outputs": [
    {
     "name": "stdout",
     "output_type": "stream",
     "text": [
      "에러발생\n"
     ]
    }
   ],
   "source": [
    "# 사전학습(1) 47차시\n",
    "\n",
    "def mul(*args):\n",
    "    result = 1\n",
    "    for i in args:\n",
    "        if isinstance(i, int):\n",
    "            result *= i\n",
    "    return result\n",
    "\n",
    "if mul(1, 2, '4', 3) == 1 * 2 * '4' * 3:\n",
    "    print(mul(1, 2, '4', 3))\n",
    "else:\n",
    "    print('에러발생')"
   ]
  },
  {
   "cell_type": "code",
   "execution_count": 92,
   "metadata": {
    "scrolled": false
   },
   "outputs": [
    {
     "name": "stdout",
     "output_type": "stream",
     "text": [
      "65\n",
      "ASCII 65 => A\n"
     ]
    }
   ],
   "source": [
    "# 사전학습(1) 48차시\n",
    "\n",
    "asc = int(input())\n",
    "print(f'ASCII {asc} => {chr(asc)}')"
   ]
  },
  {
   "cell_type": "code",
   "execution_count": 2,
   "metadata": {
    "scrolled": true
   },
   "outputs": [
    {
     "name": "stdout",
     "output_type": "stream",
     "text": [
      "[2, 4, 6, 8, 10]\n"
     ]
    }
   ],
   "source": [
    "# 사전학습(1) 49차시\n",
    "\n",
    "num = [1, 2, 3, 4, 5, 6, 7, 8, 9, 10]\n",
    "print(list(filter(lambda i: i % 2 == 0, num)))"
   ]
  },
  {
   "cell_type": "code",
   "execution_count": 4,
   "metadata": {
    "scrolled": true
   },
   "outputs": [
    {
     "name": "stdout",
     "output_type": "stream",
     "text": [
      "[1, 4, 9, 16, 25, 36, 49, 64, 81, 100]\n"
     ]
    }
   ],
   "source": [
    "# 사전학습(1) 50차시\n",
    "\n",
    "num = [1, 2, 3, 4, 5, 6, 7, 8, 9, 10]\n",
    "print(list(map(lambda i: i ** 2, num)))"
   ]
  },
  {
   "cell_type": "code",
   "execution_count": 7,
   "metadata": {
    "scrolled": true
   },
   "outputs": [
    {
     "name": "stdout",
     "output_type": "stream",
     "text": [
      "[4, 16, 36, 64, 100]\n"
     ]
    }
   ],
   "source": [
    "# 사전학습(1) 51차시\n",
    "\n",
    "num = [1, 2, 3, 4, 5, 6, 7, 8, 9, 10]\n",
    "num_list = list(filter(lambda i: i % 2 == 0, num))\n",
    "print(list(map(lambda n: n ** 2, num_list)))"
   ]
  },
  {
   "cell_type": "code",
   "execution_count": 9,
   "metadata": {
    "scrolled": true
   },
   "outputs": [
    {
     "name": "stdout",
     "output_type": "stream",
     "text": [
      "max(3, 5, 4, 1, 8, 10, 2) => 10\n"
     ]
    }
   ],
   "source": [
    "# 사전학습(1) 52차시\n",
    "\n",
    "# max(3, 5, 4, 1, 8, 10, 2) => 10\n",
    "\n",
    "def maximum(*args):\n",
    "    result = 0\n",
    "    for i in args:\n",
    "        if i > result:\n",
    "            result = i\n",
    "    return result\n",
    "\n",
    "print(f'max(3, 5, 4, 1, 8, 10, 2) => {max(3, 5, 4, 1, 8, 10, 2)}')"
   ]
  },
  {
   "cell_type": "code",
   "execution_count": 12,
   "metadata": {
    "scrolled": true
   },
   "outputs": [
    {
     "name": "stdout",
     "output_type": "stream",
     "text": [
      "a: 0\n",
      "b: 1\n",
      "c: 2\n",
      "d: 3\n",
      "e: 4\n",
      "f: 5\n"
     ]
    }
   ],
   "source": [
    "# 사전학습(1) 53차시\n",
    "\n",
    "string_dict = {}\n",
    "string = 'abcdef'\n",
    "for i in range(len(string)):\n",
    "    string_dict[string[i]] = i\n",
    "# print(string_dict)\n",
    "\n",
    "for key, val in string_dict.items():\n",
    "    print(f'{key}: {val}')"
   ]
  }
 ],
 "metadata": {
  "kernelspec": {
   "display_name": "Python 3",
   "language": "python",
   "name": "python3"
  },
  "language_info": {
   "codemirror_mode": {
    "name": "ipython",
    "version": 3
   },
   "file_extension": ".py",
   "mimetype": "text/x-python",
   "name": "python",
   "nbconvert_exporter": "python",
   "pygments_lexer": "ipython3",
   "version": "3.7.3"
  }
 },
 "nbformat": 4,
 "nbformat_minor": 2
}
