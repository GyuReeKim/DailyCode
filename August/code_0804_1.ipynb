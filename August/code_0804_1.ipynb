{
 "cells": [
  {
   "cell_type": "code",
   "execution_count": 29,
   "metadata": {
    "scrolled": true
   },
   "outputs": [
    {
     "name": "stdout",
     "output_type": "stream",
     "text": [
      "150\n",
      "266\n",
      "427\n",
      "3\n",
      "1\n",
      "0\n",
      "2\n",
      "0\n",
      "0\n",
      "0\n",
      "2\n",
      "0\n",
      "0\n"
     ]
    }
   ],
   "source": [
    "# 2577번\n",
    "\n",
    "a = int(input())\n",
    "b = int(input())\n",
    "c = int(input())\n",
    "\n",
    "result = str(a * b * c)\n",
    "count_dict = {}\n",
    "for r in result:\n",
    "    if r in count_dict:\n",
    "        count_dict[r] += 1\n",
    "    else:\n",
    "        count_dict[r] = 1\n",
    "numbers = '0123456789'\n",
    "\n",
    "for number in numbers:\n",
    "    if number not in count_dict:\n",
    "        count_dict[number] = 0\n",
    "\n",
    "# print(count_dict)\n",
    "\n",
    "# count = ''\n",
    "for number in numbers:\n",
    "    for key, val in count_dict.items():\n",
    "        if key == number:\n",
    "#             count += str(val)\n",
    "            print(val)"
   ]
  },
  {
   "cell_type": "code",
   "execution_count": 7,
   "metadata": {
    "scrolled": false
   },
   "outputs": [
    {
     "name": "stdout",
     "output_type": "stream",
     "text": [
      "39\n",
      "40\n",
      "41\n",
      "42\n",
      "43\n",
      "44\n",
      "82\n",
      "83\n",
      "84\n",
      "85\n",
      "6\n"
     ]
    }
   ],
   "source": [
    "# 3052번\n",
    "\n",
    "result = []\n",
    "for i in range(10):\n",
    "    num = int(input())\n",
    "    n = num % 42\n",
    "    result.append(n)\n",
    "# print(result)\n",
    "count = len(list(set(result)))\n",
    "print(count)"
   ]
  },
  {
   "cell_type": "code",
   "execution_count": 14,
   "metadata": {
    "scrolled": true
   },
   "outputs": [
    {
     "name": "stdout",
     "output_type": "stream",
     "text": [
      "3\n",
      "10 20 30\n",
      "66.66666666666667\n"
     ]
    }
   ],
   "source": [
    "# 1546번\n",
    "\n",
    "subject = int(input())\n",
    "scores = list(map(int, input().split()))\n",
    "\n",
    "max_score = max(scores)\n",
    "new_score = 0\n",
    "for score in scores:\n",
    "    score = (score / max_score) * 100\n",
    "    new_score += score\n",
    "    \n",
    "result = new_score / subject\n",
    "print(result)"
   ]
  },
  {
   "cell_type": "code",
   "execution_count": 18,
   "metadata": {
    "scrolled": true
   },
   "outputs": [
    {
     "name": "stdout",
     "output_type": "stream",
     "text": [
      "5\n",
      "OOXXOXXOOO\n",
      "10\n",
      "OOXXOOXXOO\n",
      "9\n",
      "OXOXOXOXOXOXOX\n",
      "7\n",
      "OOOOOOOOOO\n",
      "55\n",
      "OOOOXOOOOXOOOOX\n",
      "30\n"
     ]
    }
   ],
   "source": [
    "# 8958번\n",
    "\n",
    "test = int(input())\n",
    "for t in range(test):\n",
    "    ox_all = input()\n",
    "\n",
    "    count_list = []\n",
    "    count = 0\n",
    "    for i in range(len(ox_all)):\n",
    "        if ox_all[i] == 'X':\n",
    "            count = 0\n",
    "            count_list.append(count)\n",
    "        else:\n",
    "            count += 1\n",
    "            count_list.append(count)\n",
    "    # print(count_list)\n",
    "\n",
    "    result = 0\n",
    "    for c in count_list:\n",
    "        result += c\n",
    "    print(result)"
   ]
  },
  {
   "cell_type": "code",
   "execution_count": 44,
   "metadata": {
    "scrolled": true
   },
   "outputs": [
    {
     "name": "stdout",
     "output_type": "stream",
     "text": [
      "5\n",
      "5 50 50 70 80 100\n",
      "40.000%\n",
      "7 100 95 90 80 70 60 50\n",
      "57.143%\n",
      "3 70 90 80\n",
      "33.333%\n",
      "3 70 90 81\n",
      "66.667%\n",
      "9 100 99 98 97 96 95 94 93 91\n",
      "55.556%\n"
     ]
    }
   ],
   "source": [
    "# 4344번\n",
    "# 반올림 X\n",
    "\n",
    "test = int(input())\n",
    "for t in range(test):\n",
    "\n",
    "    student_score = list(map(int, input().split()))\n",
    "\n",
    "    score_all_list = []\n",
    "    for score in student_score:\n",
    "        if score == student_score[0]:\n",
    "            student = score\n",
    "        else:\n",
    "            score_all_list.append(score)\n",
    "    # print(score_all_list)\n",
    "\n",
    "    score_all = 0\n",
    "    for each_score in score_all_list:\n",
    "        score_all += each_score\n",
    "    # print(score_all)\n",
    "\n",
    "    score_average = score_all / student\n",
    "    # print(score_average)\n",
    "\n",
    "    score_up = 0\n",
    "    for sc in score_all_list:\n",
    "        if sc > score_average:\n",
    "            score_up += 1\n",
    "    score_up_rate = (score_up / student) * 100\n",
    "    print('{:.3f}%'.format(score_up_rate))"
   ]
  },
  {
   "cell_type": "code",
   "execution_count": 56,
   "metadata": {},
   "outputs": [
    {
     "name": "stdout",
     "output_type": "stream",
     "text": [
      "5\n",
      "5 50 50 70 80 100\n",
      "40.000%\n",
      "7 100 95 90 80 70 60 50\n",
      "57.143%\n",
      "3 70 90 80\n",
      "33.333%\n",
      "3 70 90 81\n",
      "66.667%\n",
      "9 100 99 98 97 96 95 94 93 91\n",
      "55.556%\n"
     ]
    }
   ],
   "source": [
    "# 4344번\n",
    "\n",
    "test = int(input())\n",
    "for t in range(test):\n",
    "\n",
    "    student_score = list(map(int, input().split()))\n",
    "\n",
    "    student = student_score[0]\n",
    "    score_all = student_score[1:]\n",
    "    # print(score_all)\n",
    "\n",
    "    score_sum = 0\n",
    "    for score in score_all:\n",
    "        score_sum += score\n",
    "    # print(score_sum)\n",
    "\n",
    "    score_average = score_sum / student\n",
    "    # print(score_average)\n",
    "\n",
    "    count = 0\n",
    "    for sc in score_all:\n",
    "        if sc > score_average:\n",
    "            count += 1\n",
    "    # print(count)\n",
    "\n",
    "    count_rate = count / student * 100\n",
    "    print('{:.3f}%'.format(round(count_rate, 3)))"
   ]
  }
 ],
 "metadata": {
  "kernelspec": {
   "display_name": "Python 3",
   "language": "python",
   "name": "python3"
  },
  "language_info": {
   "codemirror_mode": {
    "name": "ipython",
    "version": 3
   },
   "file_extension": ".py",
   "mimetype": "text/x-python",
   "name": "python",
   "nbconvert_exporter": "python",
   "pygments_lexer": "ipython3",
   "version": "3.7.3"
  }
 },
 "nbformat": 4,
 "nbformat_minor": 2
}
