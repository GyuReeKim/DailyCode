{
 "cells": [
  {
   "cell_type": "code",
   "execution_count": 3,
   "metadata": {
    "scrolled": true
   },
   "outputs": [
    {
     "name": "stdout",
     "output_type": "stream",
     "text": [
      "[5, 77, 45]\n"
     ]
    }
   ],
   "source": [
    "# 사전학습(2) 20차시\n",
    "\n",
    "num_list = [5, 6, 77, 45, 22, 12, 24]\n",
    "result = [i for i in num_list if i % 2]\n",
    "print(result)"
   ]
  },
  {
   "cell_type": "code",
   "execution_count": 3,
   "metadata": {
    "scrolled": false
   },
   "outputs": [
    {
     "name": "stdout",
     "output_type": "stream",
     "text": [
      "[24, 70, 120]\n"
     ]
    }
   ],
   "source": [
    "# 사전학습(2) 21차시\n",
    "# 홀수번째 항목 제거?\n",
    "\n",
    "num_list = [12, 24, 35, 70, 88, 120, 155]\n",
    "result = [num_list[i] for i in range(len(num_list)) if i % 2]\n",
    "print(result)"
   ]
  },
  {
   "cell_type": "code",
   "execution_count": 20,
   "metadata": {},
   "outputs": [
    {
     "name": "stdout",
     "output_type": "stream",
     "text": [
      "[[[0, 0, 0, 0], [0, 0, 0, 0], [0, 0, 0, 0]], [[0, 0, 0, 0], [0, 0, 0, 0], [0, 0, 0, 0]]]\n"
     ]
    }
   ],
   "source": [
    "# 사전학습(2) 22차시\n",
    "\n",
    "# [[[0, 0, 0, 0], [0, 0, 0, 0], [0, 0, 0, 0]], [[0, 0, 0, 0], [0, 0, 0, 0], [0, 0, 0, 0]]]\n",
    "\n",
    "# result = [[[[0]*4]*3] for i in range(2)]\n",
    "result = [[[0 for i in range(4)] for j in range(3)] for k in range(2)]\n",
    "print(result)"
   ]
  },
  {
   "cell_type": "code",
   "execution_count": 25,
   "metadata": {
    "scrolled": true
   },
   "outputs": [
    {
     "name": "stdout",
     "output_type": "stream",
     "text": [
      "[24, 35, 70, 155]\n"
     ]
    }
   ],
   "source": [
    "# 사전학습(2) 23차시\n",
    "\n",
    "num_list = [12, 24, 35, 70, 88, 120, 155]\n",
    "result = [num_list[i] for i in range(len(num_list)) if i != 0 and i != 4 and i != 5]\n",
    "print(result)"
   ]
  },
  {
   "cell_type": "code",
   "execution_count": 27,
   "metadata": {
    "scrolled": true
   },
   "outputs": [
    {
     "name": "stdout",
     "output_type": "stream",
     "text": [
      "[35]\n"
     ]
    }
   ],
   "source": [
    "# 사전학습(2) 24차시\n",
    "\n",
    "num_list1 = [1,3,6,78,35,55]\n",
    "num_list2 = [12,24,35,24,88,120,155]\n",
    "\n",
    "\n",
    "result = []\n",
    "for num in num_list1:\n",
    "    if num in num_list2:\n",
    "        result.append(num)\n",
    "        \n",
    "print(result)"
   ]
  },
  {
   "cell_type": "code",
   "execution_count": 29,
   "metadata": {},
   "outputs": [
    {
     "name": "stdout",
     "output_type": "stream",
     "text": [
      "[12, 24, 35, 88, 120, 155]\n"
     ]
    }
   ],
   "source": [
    "# 사전학습(2) 25차시\n",
    "\n",
    "def delete(n):\n",
    "    \n",
    "    result = []\n",
    "    for i in n:\n",
    "        if i not in result:\n",
    "            result.append(i)\n",
    "    return result\n",
    "\n",
    "\n",
    "num_list = [12,24,35,24,88,120,155,88,120,155]\n",
    "print(delete(num_list))"
   ]
  }
 ],
 "metadata": {
  "kernelspec": {
   "display_name": "Python 3",
   "language": "python",
   "name": "python3"
  },
  "language_info": {
   "codemirror_mode": {
    "name": "ipython",
    "version": 3
   },
   "file_extension": ".py",
   "mimetype": "text/x-python",
   "name": "python",
   "nbconvert_exporter": "python",
   "pygments_lexer": "ipython3",
   "version": "3.7.3"
  }
 },
 "nbformat": 4,
 "nbformat_minor": 2
}
