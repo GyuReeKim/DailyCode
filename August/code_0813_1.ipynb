{
 "cells": [
  {
   "cell_type": "code",
   "execution_count": 9,
   "metadata": {
    "scrolled": false
   },
   "outputs": [
    {
     "name": "stdout",
     "output_type": "stream",
     "text": [
      "7,14,21,28,42,49,56,63,77,84,91,98,112,119,126,133,147,154,161,168,182,189,196\n"
     ]
    }
   ],
   "source": [
    "# 사전학습(1) 18차시\n",
    "\n",
    "num_list = []\n",
    "for i in range(1, 201):\n",
    "    if i % 7 == 0 and i % 5 != 0:\n",
    "        num_list.append(str(i))\n",
    "# print(num_list)\n",
    "num = ','.join(num_list)\n",
    "print(num)"
   ]
  },
  {
   "cell_type": "code",
   "execution_count": 18,
   "metadata": {
    "scrolled": true
   },
   "outputs": [
    {
     "name": "stdout",
     "output_type": "stream",
     "text": [
      "200,202,204,206,208,220,222,224,226,228,240,242,244,246,248,260,262,264,266,268,280,282,284,286,288\n"
     ]
    }
   ],
   "source": [
    "# 사전학습(1) 19차시\n",
    "\n",
    "result = []\n",
    "for num in range(100, 301):\n",
    "    num = str(num)\n",
    "    if int(num[0]) % 2 == 0 and int(num[1]) % 2 == 0 and int(num[2]) % 2 == 0:\n",
    "        result.append(str(num))\n",
    "result = ','.join(result)\n",
    "print(result)"
   ]
  },
  {
   "cell_type": "code",
   "execution_count": 24,
   "metadata": {
    "scrolled": true
   },
   "outputs": [
    {
     "name": "stdout",
     "output_type": "stream",
     "text": [
      "1, 3, 5, 7, 9, 11, 13, 15, 17, 19, 21, 23, 25, 27, 29, 31, 33, 35, 37, 39, 41, 43, 45, 47, 49, 51, 53, 55, 57, 59, 61, 63, 65, 67, 69, 71, 73, 75, 77, 79, 81, 83, 85, 87, 89, 91, 93, 95, 97, 99\n"
     ]
    }
   ],
   "source": [
    "# 사전학습(1) 24차시\n",
    "\n",
    "result = []\n",
    "for i in range(1, 101):\n",
    "    if i % 2:\n",
    "        result.append(str(i))\n",
    "result = ', '.join(result)\n",
    "print(result)"
   ]
  },
  {
   "cell_type": "code",
   "execution_count": 25,
   "metadata": {
    "scrolled": false
   },
   "outputs": [
    {
     "name": "stdout",
     "output_type": "stream",
     "text": [
      "{'A': 3, 'O': 3, 'B': 2, 'AB': 2}\n"
     ]
    }
   ],
   "source": [
    "# 사전학습(1) 26차시\n",
    "\n",
    "bloods = ['A', 'A', 'A', 'O', 'B', 'B', 'O', 'AB', 'AB', 'O']\n",
    "\n",
    "result = {}\n",
    "for blood in bloods:\n",
    "    if blood in result:\n",
    "        result[blood] += 1\n",
    "    else:\n",
    "        result[blood] = 1\n",
    "print(result)"
   ]
  },
  {
   "cell_type": "code",
   "execution_count": 52,
   "metadata": {},
   "outputs": [
    {
     "name": "stdout",
     "output_type": "stream",
     "text": [
      "454\n"
     ]
    }
   ],
   "source": [
    "# 사전학습(1) 27차시\n",
    "\n",
    "student = [85, 65, 77, 83, 75, 22, 98, 88, 38, 100]\n",
    "\n",
    "result = 0\n",
    "for score in student:\n",
    "    if score >= 80:\n",
    "        result += score\n",
    "print(result)"
   ]
  }
 ],
 "metadata": {
  "kernelspec": {
   "display_name": "Python 3",
   "language": "python",
   "name": "python3"
  },
  "language_info": {
   "codemirror_mode": {
    "name": "ipython",
    "version": 3
   },
   "file_extension": ".py",
   "mimetype": "text/x-python",
   "name": "python",
   "nbconvert_exporter": "python",
   "pygments_lexer": "ipython3",
   "version": "3.7.3"
  }
 },
 "nbformat": 4,
 "nbformat_minor": 2
}
