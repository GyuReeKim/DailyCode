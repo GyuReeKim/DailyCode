{
 "cells": [
  {
   "cell_type": "code",
   "execution_count": 1,
   "metadata": {
    "scrolled": false
   },
   "outputs": [
    {
     "name": "stdout",
     "output_type": "stream",
     "text": [
      "1 1\n",
      "2\n",
      "2 3\n",
      "5\n",
      "3 4\n",
      "7\n",
      "9 8\n",
      "17\n",
      "5 2\n",
      "7\n",
      "0 0\n"
     ]
    }
   ],
   "source": [
    "# 10952번\n",
    "\n",
    "a = 1\n",
    "b = 1\n",
    "\n",
    "while a != 0 and b != 0:\n",
    "    a, b = list(map(int, input().split()))\n",
    "    if a != 0 and b != 0:\n",
    "        print(a + b)"
   ]
  },
  {
   "cell_type": "code",
   "execution_count": 12,
   "metadata": {
    "scrolled": true
   },
   "outputs": [
    {
     "name": "stdout",
     "output_type": "stream",
     "text": [
      "1\n",
      "60\n"
     ]
    }
   ],
   "source": [
    "# 1110번\n",
    "\n",
    "num = input()\n",
    "if len(num) == 1:\n",
    "    num = '0' + num\n",
    "copy_num = num\n",
    "count = 0\n",
    "num_change = 0\n",
    "while str(num_change) != copy_num:\n",
    "    num_change = int(num_change)\n",
    "    num_change = str(int(num[0]) + int(num[-1]))\n",
    "    if len(num_change) == 1:\n",
    "        num_change = '0' + num_change\n",
    "    num = num[-1] + num_change[-1]\n",
    "    num_change = num\n",
    "    if len(num_change) == 1:\n",
    "        num_change = '0' + num_change\n",
    "    count += 1\n",
    "print(count)"
   ]
  },
  {
   "cell_type": "code",
   "execution_count": 13,
   "metadata": {},
   "outputs": [
    {
     "name": "stdout",
     "output_type": "stream",
     "text": [
      "5\n",
      "20 10 35 30 7\n",
      "7 35\n"
     ]
    }
   ],
   "source": [
    "# 10818번\n",
    "\n",
    "number = int(input())\n",
    "numbers = list(map(int, input().split()))\n",
    "num_max = max(numbers)\n",
    "num_min = min(numbers)\n",
    "print(num_min, num_max)"
   ]
  },
  {
   "cell_type": "code",
   "execution_count": 15,
   "metadata": {
    "scrolled": true
   },
   "outputs": [
    {
     "name": "stdout",
     "output_type": "stream",
     "text": [
      "3\n",
      "29\n",
      "38\n",
      "12\n",
      "57\n",
      "74\n",
      "40\n",
      "85\n",
      "61\n",
      "85\n",
      "8\n"
     ]
    }
   ],
   "source": [
    "# 2562번\n",
    "\n",
    "numbers = []\n",
    "for i in range(9):\n",
    "    num = int(input())\n",
    "    numbers.append(num)\n",
    "    \n",
    "num_max = max(numbers)\n",
    "print(num_max)\n",
    "\n",
    "for i in range(9):\n",
    "    if numbers[i] == num_max:\n",
    "        print(i+1)"
   ]
  },
  {
   "cell_type": "code",
   "execution_count": 19,
   "metadata": {},
   "outputs": [
    {
     "name": "stdout",
     "output_type": "stream",
     "text": [
      "8 1 7 2 6 3 5 4\n",
      "mixed\n"
     ]
    }
   ],
   "source": [
    "# 2920번\n",
    "\n",
    "numbers = list(map(int, input().split()))\n",
    "\n",
    "result = []\n",
    "# 0, 1, 2, 3, 4, 5, 6, 7 \n",
    "# 1, 2 ,3, 4, 5, 6, 7 ,8\n",
    "for i in range(1, len(numbers)):\n",
    "    if numbers[i-1] < numbers[i]:\n",
    "        result.append('a')\n",
    "    else:\n",
    "        result.append('d')\n",
    "        \n",
    "if 'a' in result and 'd' in result:\n",
    "    print('mixed')\n",
    "elif 'a' in result:\n",
    "    print('ascending')\n",
    "else:\n",
    "    print('descending')"
   ]
  }
 ],
 "metadata": {
  "kernelspec": {
   "display_name": "Python 3",
   "language": "python",
   "name": "python3"
  },
  "language_info": {
   "codemirror_mode": {
    "name": "ipython",
    "version": 3
   },
   "file_extension": ".py",
   "mimetype": "text/x-python",
   "name": "python",
   "nbconvert_exporter": "python",
   "pygments_lexer": "ipython3",
   "version": "3.7.3"
  }
 },
 "nbformat": 4,
 "nbformat_minor": 2
}
