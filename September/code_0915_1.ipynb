{
 "cells": [
  {
   "cell_type": "code",
   "execution_count": 1,
   "metadata": {
    "scrolled": false
   },
   "outputs": [
    {
     "name": "stdout",
     "output_type": "stream",
     "text": [
      "1\n",
      "2\n",
      "1 3\n",
      "2 5\n",
      "5\n",
      "1\n",
      "2\n",
      "3\n",
      "4\n",
      "5\n",
      "#1 1 2 2 1 1\n"
     ]
    }
   ],
   "source": [
    "# 삼성시의 버스 노선\n",
    "\n",
    "T = int(input())\n",
    "for tc in range(1, T+1):\n",
    "    N = int(input())\n",
    "    path = [list(map(int, input().split())) for _ in range(N)]\n",
    "    P = int(input())\n",
    "    C = [int(input()) for _ in range(P)]\n",
    "    result = []\n",
    "    for p in range(P):\n",
    "        cnt = 0\n",
    "        for n in range(N):\n",
    "            if path[n][0] <= C[p] <= path[n][1]:\n",
    "                cnt += 1\n",
    "        result.append(str(cnt))\n",
    "    print('#{} {}'.format(tc, ' '.join(result)))"
   ]
  }
 ],
 "metadata": {
  "kernelspec": {
   "display_name": "Python 3",
   "language": "python",
   "name": "python3"
  },
  "language_info": {
   "codemirror_mode": {
    "name": "ipython",
    "version": 3
   },
   "file_extension": ".py",
   "mimetype": "text/x-python",
   "name": "python",
   "nbconvert_exporter": "python",
   "pygments_lexer": "ipython3",
   "version": "3.7.3"
  }
 },
 "nbformat": 4,
 "nbformat_minor": 2
}
