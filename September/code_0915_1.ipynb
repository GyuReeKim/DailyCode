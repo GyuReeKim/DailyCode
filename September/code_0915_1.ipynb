{
 "cells": [
  {
   "cell_type": "code",
   "execution_count": 1,
   "metadata": {
    "scrolled": true
   },
   "outputs": [
    {
     "name": "stdout",
     "output_type": "stream",
     "text": [
      "1\n",
      "2\n",
      "1 3\n",
      "2 5\n",
      "5\n",
      "1\n",
      "2\n",
      "3\n",
      "4\n",
      "5\n",
      "#1 1 2 2 1 1\n"
     ]
    }
   ],
   "source": [
    "# 삼성시의 버스 노선\n",
    "\n",
    "T = int(input())\n",
    "for tc in range(1, T+1):\n",
    "    N = int(input())\n",
    "    path = [list(map(int, input().split())) for _ in range(N)]\n",
    "    P = int(input())\n",
    "    C = [int(input()) for _ in range(P)]\n",
    "    result = []\n",
    "    for p in range(P):\n",
    "        cnt = 0\n",
    "        for n in range(N):\n",
    "            if path[n][0] <= C[p] <= path[n][1]:\n",
    "                cnt += 1\n",
    "        result.append(str(cnt))\n",
    "    print('#{} {}'.format(tc, ' '.join(result)))"
   ]
  },
  {
   "cell_type": "code",
   "execution_count": 1,
   "metadata": {},
   "outputs": [
    {
     "name": "stdout",
     "output_type": "stream",
     "text": [
      "2\n",
      "6\n",
      "#1 3\n",
      "12\n",
      "#2 16\n"
     ]
    }
   ],
   "source": [
    "# 파도반 수열\n",
    "\n",
    "T = int(input())\n",
    "for tc in range(1, T+1):\n",
    "    N = int(input())\n",
    "    result = [1, 1, 1, 2, 2]\n",
    "\n",
    "    if N > 5:\n",
    "        for i in range(N):\n",
    "            if i >= 5:\n",
    "                result.append(result[i-1] + result[i-5])\n",
    "\n",
    "    if N <= 5:\n",
    "        print('#{} {}'.format(tc, result[N-1]))\n",
    "    else:\n",
    "        print('#{} {}'.format(tc, result[-1]))"
   ]
  }
 ],
 "metadata": {
  "kernelspec": {
   "display_name": "Python 3",
   "language": "python",
   "name": "python3"
  },
  "language_info": {
   "codemirror_mode": {
    "name": "ipython",
    "version": 3
   },
   "file_extension": ".py",
   "mimetype": "text/x-python",
   "name": "python",
   "nbconvert_exporter": "python",
   "pygments_lexer": "ipython3",
   "version": "3.7.3"
  }
 },
 "nbformat": 4,
 "nbformat_minor": 2
}
