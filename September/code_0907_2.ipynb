{
 "cells": [
  {
   "cell_type": "code",
   "execution_count": 1,
   "metadata": {
    "scrolled": true
   },
   "outputs": [
    {
     "name": "stdout",
     "output_type": "stream",
     "text": [
      "2\n",
      "1 1\n",
      "#1 4\n",
      "12 31\n",
      "#2 5\n"
     ]
    }
   ],
   "source": [
    "# 2016년 요일 맞추기\n",
    "\n",
    "month = [31, 29, 31, 30, 31, 30, 31, 31, 30, 31, 30, 31]\n",
    "\n",
    "T = int(input())\n",
    "for tc in range(1, T+1):\n",
    "    m, d = list(map(int, input().split()))\n",
    "\n",
    "    first = 3\n",
    "    for i in range(1, 13):\n",
    "        if i == m:\n",
    "            first += d\n",
    "            break\n",
    "        else:\n",
    "            first += month[i-1]\n",
    "    print('#{} {}'.format(tc, first % 7))"
   ]
  },
  {
   "cell_type": "code",
   "execution_count": 2,
   "metadata": {
    "scrolled": true
   },
   "outputs": [
    {
     "name": "stdout",
     "output_type": "stream",
     "text": [
      "2\n",
      "3 5 6\n",
      "#1 2\n",
      "6 8 20\n",
      "#2 3\n"
     ]
    }
   ],
   "source": [
    "# 두가지 빵의 딜레마\n",
    "\n",
    "T = int(input())\n",
    "for tc in range(1, T+1):\n",
    "    A, B, C = list(map(int, input().split()))\n",
    "\n",
    "    if A > B:\n",
    "        print('#{} {}'.format(tc, C//B))\n",
    "    else:\n",
    "        print('#{} {}'.format(tc, C//A))"
   ]
  },
  {
   "cell_type": "code",
   "execution_count": 3,
   "metadata": {
    "scrolled": true
   },
   "outputs": [
    {
     "name": "stdout",
     "output_type": "stream",
     "text": [
      "5\n",
      "1\n",
      "#1 Odd\n",
      "10\n",
      "#2 Even\n",
      "100\n",
      "#3 Even\n",
      "185787124368712386825387273871\n",
      "#4 Odd\n",
      "82518881239123819238912929292\n",
      "#5 Even\n"
     ]
    }
   ],
   "source": [
    "# 홀수일까 짝수일까\n",
    "\n",
    "T = int(input())\n",
    "for tc in range(1, T+1):\n",
    "    N = int(input())\n",
    "    if N % 2:\n",
    "        print('#{} Odd'.format(tc))\n",
    "    else:\n",
    "        print('#{} Even'.format(tc))"
   ]
  },
  {
   "cell_type": "code",
   "execution_count": 4,
   "metadata": {},
   "outputs": [
    {
     "name": "stdout",
     "output_type": "stream",
     "text": [
      "1\n",
      "2\n",
      "0.3 100\n",
      "0.7 1\n",
      "#1 30.7\n"
     ]
    }
   ],
   "source": [
    "# 다솔이의 월급 상자\n",
    "\n",
    "T = int(input())\n",
    "for tc in range(1, T+1):\n",
    "    N = int(input())\n",
    "    price = 0\n",
    "    for n in range(N):\n",
    "        p, x = list(map(float, input().split()))\n",
    "        price += p*x\n",
    "    print('#{} {}'.format(tc, price))"
   ]
  }
 ],
 "metadata": {
  "kernelspec": {
   "display_name": "Python 3",
   "language": "python",
   "name": "python3"
  },
  "language_info": {
   "codemirror_mode": {
    "name": "ipython",
    "version": 3
   },
   "file_extension": ".py",
   "mimetype": "text/x-python",
   "name": "python",
   "nbconvert_exporter": "python",
   "pygments_lexer": "ipython3",
   "version": "3.7.3"
  }
 },
 "nbformat": 4,
 "nbformat_minor": 2
}
