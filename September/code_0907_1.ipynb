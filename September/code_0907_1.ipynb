{
 "cells": [
  {
   "cell_type": "code",
   "execution_count": 4,
   "metadata": {},
   "outputs": [
    {
     "name": "stdout",
     "output_type": "stream",
     "text": [
      "2\n",
      "5 3\n",
      "2 5 3\n",
      "#1 1 4\n",
      "7 2\n",
      "4 6\n",
      "#2 1 2 3 5 7\n"
     ]
    }
   ],
   "source": [
    "# 민석이의 과제 체크하기\n",
    "\n",
    "T = int(input())\n",
    "for tc in range(1, T+1):\n",
    "    N, K = list(map(int, input().split()))\n",
    "    num = list(map(int, input().split()))\n",
    "    result = []\n",
    "    for i in range(1, N+1):\n",
    "        if i not in num:\n",
    "            result.append(str(i))\n",
    "    print('#{} {}'.format(tc, ' '.join(result)))"
   ]
  },
  {
   "cell_type": "code",
   "execution_count": 9,
   "metadata": {
    "scrolled": true
   },
   "outputs": [
    {
     "name": "stdout",
     "output_type": "stream",
     "text": [
      "3\n",
      "1 1 2\n",
      "#1 2\n",
      "4 3 4\n",
      "#2 3\n",
      "5 5 5\n",
      "#3 5\n"
     ]
    }
   ],
   "source": [
    "# 직사각형 길이 찾기\n",
    "\n",
    "T = int(input())\n",
    "for tc in range(1, T+1):\n",
    "    a, b, c = list(map(int, input().split()))\n",
    "    \n",
    "    if a == b == c:\n",
    "        print('#{} {}'.format(tc, a))\n",
    "    elif a == b:\n",
    "        print('#{} {}'.format(tc, c))\n",
    "    elif a == c:\n",
    "        print('#{} {}'.format(tc, b))\n",
    "    else:\n",
    "        print('#{} {}'.format(tc, a))"
   ]
  },
  {
   "cell_type": "code",
   "execution_count": 22,
   "metadata": {
    "scrolled": true
   },
   "outputs": [
    {
     "name": "stdout",
     "output_type": "stream",
     "text": [
      "#1 29\n"
     ]
    }
   ],
   "source": [
    "# 2일차 - Sum\n",
    "\n",
    "T = 1\n",
    "for tc in range(1, T+1):\n",
    "    t = int(input())\n",
    "    arr = [list(map(int, input().split())) for _ in range(5)]\n",
    "#     arr = [[4, 4, 3, 2, 1], [2, 2, 1, 6, 5], [3, 5, 4, 6, 7], [4, 2, 5, 9, 7], [8, 1, 9, 5, 6]]\n",
    "    \n",
    "    add1 = 0\n",
    "    add2 = 0\n",
    "    maxV = 0\n",
    "    for i in range(5):\n",
    "        row = 0\n",
    "        col = 0\n",
    "        for j in range(5):\n",
    "            row += arr[i][j]\n",
    "            col += arr[j][i]\n",
    "            if i == j:\n",
    "                add1 += arr[i][j]\n",
    "            if i + j == 4:\n",
    "                add2 += arr[i][j]\n",
    "        if row > maxV:\n",
    "            maxV = row\n",
    "        if col > maxV:\n",
    "            maxV = row\n",
    "    if add1 > maxV:\n",
    "        maxV = add1\n",
    "    if add2 > maxV:\n",
    "        maxV = add2\n",
    "    print('#{} {}'.format(tc, maxV))"
   ]
  },
  {
   "cell_type": "code",
   "execution_count": null,
   "metadata": {},
   "outputs": [],
   "source": [
    "# 2일차 - Sum\n",
    "\n",
    "T = 10\n",
    "for tc in range(1, T+1):\n",
    "    t = int(input())\n",
    "    arr = [list(map(int, input().split())) for _ in range(100)]\n",
    "    add1 = 0\n",
    "    add2 = 0\n",
    "    maxV = 0\n",
    "    for i in range(100):\n",
    "        row = 0\n",
    "        col = 0\n",
    "        for j in range(100):\n",
    "            row += arr[i][j]\n",
    "            col += arr[j][i]\n",
    "            if i == j:\n",
    "                add1 += arr[i][j]\n",
    "            if i + j == 4:\n",
    "                add2 += arr[i][j]\n",
    "        if row > maxV:\n",
    "            maxV = row\n",
    "        if col > maxV:\n",
    "            maxV = col\n",
    "    if add1 > maxV:\n",
    "        maxV = add1\n",
    "    if add2 > maxV:\n",
    "        maxV = add2\n",
    "    print('#{} {}'.format(tc, maxV))"
   ]
  },
  {
   "cell_type": "code",
   "execution_count": null,
   "metadata": {},
   "outputs": [],
   "source": [
    "# 8일차 - 암호문2\n",
    "\n",
    "def I(x, s):\n",
    "    global password\n",
    "    left = password[:int(x)]\n",
    "    right = password[int(x):]\n",
    "    password = left + s + right\n",
    "    return password\n",
    "\n",
    "\n",
    "def D(x, y):\n",
    "    global password\n",
    "    for k in range(int(y)):\n",
    "        password.pop(int(x))\n",
    "    return password\n",
    "\n",
    "\n",
    "T = 10\n",
    "for tc in range(1, T+1):\n",
    "    N = int(input())\n",
    "    password = input().split()\n",
    "    C = int(input())\n",
    "    command = input().split()\n",
    "\n",
    "    for i in range(C):\n",
    "        if command[i] == 'I':\n",
    "            x = command.pop(i+1)\n",
    "            y = command.pop(i+1)\n",
    "            s = [command.pop(i+1) for k in range(int(y))]\n",
    "            password = I(x, s)\n",
    "        elif command[i] == 'D':\n",
    "            x = command.pop(i+1)\n",
    "            y = command.pop(i+1)\n",
    "            password = D(x, y)\n",
    "\n",
    "    password = [password[i] for i in range(10)]\n",
    "    print('#{} {}'.format(tc, ' '.join(password)))"
   ]
  },
  {
   "cell_type": "code",
   "execution_count": null,
   "metadata": {},
   "outputs": [],
   "source": [
    "# 1일차 - View\n",
    "\n",
    "T = 10\n",
    "for tc in range(1, T+1):\n",
    "    N = int(input())\n",
    "    land = list(map(int, input().split()))\n",
    "\n",
    "    view = 0\n",
    "    for i in range(2, N-2):\n",
    "        diff = 255\n",
    "        if land[i] > land[i-1] and land[i] > land[i-2] and land[i] > land[i+1] and land[i] > land[i+2]:\n",
    "            if land[i] - land[i-1] < diff:\n",
    "                diff = land[i] - land[i-1]\n",
    "            if land[i] - land[i-2] < diff:\n",
    "                diff = land[i] - land[i-2]\n",
    "            if land[i] - land[i+1] < diff:\n",
    "                diff = land[i] - land[i+1]\n",
    "            if land[i] - land[i+2] < diff:\n",
    "                diff = land[i] - land[i+2]\n",
    "            view += diff\n",
    "\n",
    "    print('#{} {}'.format(tc, view))"
   ]
  },
  {
   "cell_type": "code",
   "execution_count": null,
   "metadata": {},
   "outputs": [],
   "source": [
    "# 1일차 - Flatten\n",
    "\n",
    "T = 10\n",
    "for tc in range(1, T+1):\n",
    "    N = int(input())\n",
    "    box = list(map(int, input().split()))\n",
    "\n",
    "    cnt = 0\n",
    "    while cnt < N:\n",
    "        max_box = max(box)\n",
    "        min_box = min(box)\n",
    "        max_idx = 0\n",
    "        min_idx = 0\n",
    "        for i in range(len(box)):\n",
    "            if box[i] == max_box:\n",
    "                max_idx = i\n",
    "            if box[i] == min_box:\n",
    "                min_idx = i\n",
    "        box[max_idx] -= 1\n",
    "        box[min_idx] += 1\n",
    "        cnt += 1\n",
    "    diff = max(box) - min(box)\n",
    "    print('#{} {}'.format(tc, diff))"
   ]
  },
  {
   "cell_type": "code",
   "execution_count": 35,
   "metadata": {
    "scrolled": true
   },
   "outputs": [
    {
     "name": "stdout",
     "output_type": "stream",
     "text": [
      "2\n",
      "5 3\n",
      "#1 1 2\n",
      "7 5\n",
      "#2 3 2\n"
     ]
    }
   ],
   "source": [
    "# 영준이와 신비한 뿔의 숲\n",
    "\n",
    "T = int(input())\n",
    "for tc in range(1, T+1):\n",
    "    N, M = list(map(int, input().split()))\n",
    "    for unicorn in range(M):\n",
    "        twinhorn = M - unicorn\n",
    "        if unicorn + 2 * twinhorn == N:\n",
    "            print('#{} {} {}'.format(tc, unicorn, twinhorn))\n",
    "            break"
   ]
  },
  {
   "cell_type": "code",
   "execution_count": 36,
   "metadata": {
    "scrolled": false
   },
   "outputs": [
    {
     "name": "stdout",
     "output_type": "stream",
     "text": [
      "2\n",
      "5 3\n",
      "#1 1 2\n",
      "7 5\n",
      "#2 3 2\n"
     ]
    }
   ],
   "source": [
    "# 영준이와 신비한 뿔의 숲\n",
    "\n",
    "T = int(input())\n",
    "for tc in range(1, T+1):\n",
    "    N, M = list(map(int, input().split()))\n",
    "    \n",
    "    unicorn = 0\n",
    "    twinhorn = M - unicorn\n",
    "    while unicorn + 2*twinhorn != N:\n",
    "        unicorn += 1\n",
    "        twinhorn -= 1\n",
    "    print('#{} {} {}'.format(tc, unicorn, twinhorn))"
   ]
  },
  {
   "cell_type": "code",
   "execution_count": 42,
   "metadata": {
    "scrolled": true
   },
   "outputs": [
    {
     "name": "stdout",
     "output_type": "stream",
     "text": [
      "2\n",
      "3 1\n",
      "100 90 80\n",
      "#1 100\n",
      "3 2\n",
      "100 90 80\n",
      "#2 190\n"
     ]
    }
   ],
   "source": [
    "# 최대 성적표 만들기\n",
    "\n",
    "T = int(input())\n",
    "for tc in range(1, T+1):\n",
    "    N, K = list(map(int, input().split()))\n",
    "    score = list(map(int, input().split()))\n",
    "    \n",
    "    cnt = 0\n",
    "    add = 0\n",
    "    while cnt < K:\n",
    "        max_score = max(score)\n",
    "        for i in range(len(score)):\n",
    "            if score[i] == max_score:\n",
    "                add += score[i]\n",
    "                break\n",
    "        score.pop(i)\n",
    "        cnt += 1\n",
    "    print('#{} {}'.format(tc, add))"
   ]
  }
 ],
 "metadata": {
  "kernelspec": {
   "display_name": "Python 3",
   "language": "python",
   "name": "python3"
  },
  "language_info": {
   "codemirror_mode": {
    "name": "ipython",
    "version": 3
   },
   "file_extension": ".py",
   "mimetype": "text/x-python",
   "name": "python",
   "nbconvert_exporter": "python",
   "pygments_lexer": "ipython3",
   "version": "3.7.3"
  }
 },
 "nbformat": 4,
 "nbformat_minor": 2
}
