{
 "cells": [
  {
   "cell_type": "code",
   "execution_count": 1,
   "metadata": {
    "scrolled": true
   },
   "outputs": [
    {
     "name": "stdout",
     "output_type": "stream",
     "text": [
      "1\n",
      "4 3\n",
      "1 2 1 2\n",
      "#1 4\n"
     ]
    }
   ],
   "source": [
    "# 부분 수열의 합\n",
    "\n",
    "T = int(input())\n",
    "for tc in range(1, T+1):\n",
    "    N, K = list(map(int, input().split()))\n",
    "    A = list(map(int, input().split()))\n",
    "\n",
    "    cnt = 0\n",
    "    for i in range(1<<N):\n",
    "        add = 0\n",
    "        for j in range(N):\n",
    "            if i & (1<<j):\n",
    "                add += A[j]\n",
    "        if add == K:\n",
    "            cnt += 1\n",
    "    print('#{} {}'.format(tc, cnt))"
   ]
  },
  {
   "cell_type": "code",
   "execution_count": 2,
   "metadata": {
    "scrolled": true
   },
   "outputs": [
    {
     "name": "stdout",
     "output_type": "stream",
     "text": [
      "2\n",
      "1 2\n",
      "#1 3\n",
      "100000000000000000000000001 9\n",
      "#2 100000000000000000000000010\n"
     ]
    }
   ],
   "source": [
    "# 두 수의 덧셈\n",
    "\n",
    "T = int(input())\n",
    "for tc in range(1, T+1):\n",
    "    A, B = list(map(int, input().split()))\n",
    "    print('#{} {}'.format(tc, A+B))"
   ]
  },
  {
   "cell_type": "code",
   "execution_count": null,
   "metadata": {},
   "outputs": [],
   "source": []
  }
 ],
 "metadata": {
  "kernelspec": {
   "display_name": "Python 3",
   "language": "python",
   "name": "python3"
  },
  "language_info": {
   "codemirror_mode": {
    "name": "ipython",
    "version": 3
   },
   "file_extension": ".py",
   "mimetype": "text/x-python",
   "name": "python",
   "nbconvert_exporter": "python",
   "pygments_lexer": "ipython3",
   "version": "3.7.3"
  }
 },
 "nbformat": 4,
 "nbformat_minor": 2
}
