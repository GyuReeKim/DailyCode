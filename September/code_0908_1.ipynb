{
 "cells": [
  {
   "cell_type": "code",
   "execution_count": 1,
   "metadata": {
    "scrolled": true
   },
   "outputs": [
    {
     "name": "stdout",
     "output_type": "stream",
     "text": [
      "3\n",
      "1\n",
      "#1 1\n",
      "15\n",
      "#2 4\n",
      "42\n",
      "#3 4\n"
     ]
    }
   ],
   "source": [
    "# 상원이의 연속 합\n",
    "\n",
    "T = int(input())\n",
    "for tc in range(1, T+1):\n",
    "    N = int(input())\n",
    "    cnt = 0\n",
    "    for i in range(1, N+1):\n",
    "        add = 0\n",
    "        for j in range(i, N+1):\n",
    "            add += j\n",
    "            if add == N:\n",
    "                cnt += 1\n",
    "                break\n",
    "    print('#{} {}'.format(tc, cnt))"
   ]
  },
  {
   "cell_type": "code",
   "execution_count": 2,
   "metadata": {
    "scrolled": true
   },
   "outputs": [
    {
     "name": "stdout",
     "output_type": "stream",
     "text": [
      "3\n",
      "5 5 5\n",
      "#1 5\n",
      "24 1 24\n",
      "#2 10609\n",
      "3 6 9\n",
      "#3 58038\n"
     ]
    }
   ],
   "source": [
    "# 세영이의 SEM력 연도\n",
    "\n",
    "T = int(input())\n",
    "for tc in range(1, T+1):\n",
    "    S, E, M = list(map(int, input().split()))\n",
    "\n",
    "    s = 0\n",
    "    e = 0\n",
    "    m = 0\n",
    "    AD = 0\n",
    "    while s != S or e != E or m != M:\n",
    "        AD += 1\n",
    "        s = AD % 365\n",
    "        e = AD % 24\n",
    "        m = AD % 29\n",
    "\n",
    "    print('#{} {}'.format(tc, AD))"
   ]
  },
  {
   "cell_type": "code",
   "execution_count": null,
   "metadata": {},
   "outputs": [],
   "source": [
    "# 5일차 - GNS\n",
    "\n"
   ]
  }
 ],
 "metadata": {
  "kernelspec": {
   "display_name": "Python 3",
   "language": "python",
   "name": "python3"
  },
  "language_info": {
   "codemirror_mode": {
    "name": "ipython",
    "version": 3
   },
   "file_extension": ".py",
   "mimetype": "text/x-python",
   "name": "python",
   "nbconvert_exporter": "python",
   "pygments_lexer": "ipython3",
   "version": "3.7.3"
  }
 },
 "nbformat": 4,
 "nbformat_minor": 2
}
