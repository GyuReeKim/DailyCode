{
 "cells": [
  {
   "cell_type": "code",
   "execution_count": 1,
   "metadata": {
    "scrolled": true
   },
   "outputs": [
    {
     "name": "stdout",
     "output_type": "stream",
     "text": [
      "3\n",
      "1 2 2 4\n",
      "#1 DRAW\n",
      "4 5 2 5\n",
      "#2 ALICE\n",
      "1 9 5 6\n",
      "#3 BOB\n"
     ]
    }
   ],
   "source": [
    "# 승률 비교하기\n",
    "\n",
    "T = int(input())\n",
    "for tc in range(1, T+1):\n",
    "    A, B, C, D = list(map(int, input().split()))\n",
    "    if A/B == C/D:\n",
    "        print('#{} DRAW'.format(tc))\n",
    "    elif (A/B) > (C/D):\n",
    "        print('#{} ALICE'.format(tc))\n",
    "    else:\n",
    "        print('#{} BOB'.format(tc))"
   ]
  },
  {
   "cell_type": "code",
   "execution_count": 1,
   "metadata": {},
   "outputs": [
    {
     "name": "stdout",
     "output_type": "stream",
     "text": [
      "2\n",
      "5\n",
      "1 3 2 5 4\n",
      "#1 3\n",
      "6\n",
      "4 2 3 1 5 6\n",
      "#2 4\n"
     ]
    }
   ],
   "source": [
    "# 최장 증가 부분 수열\n",
    "\n",
    "def f(n, k, t, c):\n",
    "    global maxV\n",
    "#     global cnt\n",
    "#     cnt += 1\n",
    "#     print(n, k, t, c)\n",
    "    if n == k:\n",
    "        if c <= maxV:\n",
    "            return\n",
    "        if c > maxV:\n",
    "            maxV = c\n",
    "    else:\n",
    "        if len(t) != 0 and t[-1] > A[n]:\n",
    "            f(n+1, k, t+[A[n]], c)\n",
    "        else:\n",
    "            f(n+1, k, t+[A[n]], c+1)\n",
    "        f(n+1, k, t, c)\n",
    "\n",
    "\n",
    "T = int(input())\n",
    "for tc in range(1, T+1):\n",
    "    N = int(input())\n",
    "    A = list(map(int, input().split()))\n",
    "    temp = []\n",
    "    maxV = 0\n",
    "#     cnt = 0\n",
    "    f(0, N, temp, 0)\n",
    "    print('#{} {}'.format(tc, maxV))\n",
    "#     print(cnt)"
   ]
  }
 ],
 "metadata": {
  "kernelspec": {
   "display_name": "Python 3",
   "language": "python",
   "name": "python3"
  },
  "language_info": {
   "codemirror_mode": {
    "name": "ipython",
    "version": 3
   },
   "file_extension": ".py",
   "mimetype": "text/x-python",
   "name": "python",
   "nbconvert_exporter": "python",
   "pygments_lexer": "ipython3",
   "version": "3.7.3"
  }
 },
 "nbformat": 4,
 "nbformat_minor": 2
}
