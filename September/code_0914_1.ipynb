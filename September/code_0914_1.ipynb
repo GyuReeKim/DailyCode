{
 "cells": [
  {
   "cell_type": "code",
   "execution_count": 1,
   "metadata": {
    "scrolled": false
   },
   "outputs": [
    {
     "name": "stdout",
     "output_type": "stream",
     "text": [
      "3\n",
      "3\n",
      "1\n",
      "3\n",
      "4\n",
      "#1 2\n",
      "5\n",
      "1\n",
      "7\n",
      "10\n",
      "13\n",
      "19\n",
      "#2 2\n",
      "3\n",
      "1\n",
      "500000000\n",
      "999999999\n",
      "#3 1\n"
     ]
    }
   ],
   "source": [
    "# 항구에 들어오는 배\n",
    "\n",
    "T = int(input())\n",
    "for tc in range(1, T+1):\n",
    "    N = int(input())\n",
    "    happy = [int(input()) for _ in range(N)]\n",
    "    # print(happy)\n",
    "\n",
    "    cnt = 0\n",
    "    period = 0\n",
    "    while len(happy) != 0:\n",
    "        ship = []\n",
    "        cnt += 1\n",
    "        for i in range(1, len(happy)):\n",
    "            if i == 1:\n",
    "                if (happy[i]-1) != period:\n",
    "                    period = happy[i]-1\n",
    "            if (happy[i]-1) % period != 0:\n",
    "                ship.append(happy[i])\n",
    "        if len(ship) != 0:\n",
    "            happy = [1] + ship\n",
    "        else:\n",
    "            happy = ship\n",
    "    print('#{} {}'.format(tc, cnt))"
   ]
  },
  {
   "cell_type": "code",
   "execution_count": 2,
   "metadata": {
    "scrolled": true
   },
   "outputs": [
    {
     "name": "stdout",
     "output_type": "stream",
     "text": [
      "1\n",
      "5 1000\n",
      "100 200\n",
      "300 500\n",
      "250 300\n",
      "500 1000\n",
      "400 400\n",
      "#1 750\n"
     ]
    }
   ],
   "source": [
    "# 햄버거 다이어트\n",
    "\n",
    "T = int(input())\n",
    "for tc in range(1, T+1):\n",
    "    N, L = list(map(int, input().split()))\n",
    "    T = []\n",
    "    K = []\n",
    "    for n in range(N):\n",
    "        t, k = list(map(int, input().split()))\n",
    "        T.append(t)\n",
    "        K.append(k)\n",
    "    # print(T, K)\n",
    "\n",
    "    maxV = 0\n",
    "    for i in range(1<<N):\n",
    "        kcal = 0\n",
    "        flavor = []\n",
    "        for j in range(N):\n",
    "            if i & (1<<j):\n",
    "                if kcal + K[j] > L:\n",
    "                    break\n",
    "                kcal += K[j]\n",
    "                flavor.append(T[j])\n",
    "        if sum(flavor) > maxV:\n",
    "            maxV = sum(flavor)\n",
    "    print('#{} {}'.format(tc, maxV))"
   ]
  },
  {
   "cell_type": "code",
   "execution_count": 3,
   "metadata": {},
   "outputs": [
    {
     "name": "stdout",
     "output_type": "stream",
     "text": [
      "2\n",
      "2\n",
      "Annyung Hasae Yo! LoL!\n",
      "#1 3 0\n",
      "3\n",
      "my name is Hye Soo. my id is\n",
      "Rhs0266. what your id Bro?\n",
      "#2 2 0 1\n"
     ]
    }
   ],
   "source": [
    "# 통역사 성경이\n",
    "\n",
    "T = int(input())\n",
    "for tc in range(1, T+1):\n",
    "    N = int(input())\n",
    "    cnt = 0\n",
    "    all = ''\n",
    "    for n in range(N):\n",
    "        string = input()\n",
    "        all += string\n",
    "        for s in range(len(string)):\n",
    "            if string[s] == '.' or string[s] == '?' or string[s] == '!':\n",
    "                cnt += 1\n",
    "        if cnt == N:\n",
    "            break\n",
    "        else:\n",
    "            all += ' '\n",
    "    # print(all)\n",
    "\n",
    "    final = []\n",
    "    result = []\n",
    "    sentence = ''\n",
    "    for i in range(len(all)):\n",
    "        if all[i] == ' ':\n",
    "            if all[i-1] == '.' or all[i-1] == '?' or all[i-1] == '!':\n",
    "                sentence = ''\n",
    "                result = []\n",
    "            else:\n",
    "                result.append(sentence)\n",
    "                sentence = ''\n",
    "        elif all[i] == '.' or all[i] == '?' or all[i] == '!':\n",
    "            result.append(sentence)\n",
    "            # print(result)\n",
    "            cnt = 0\n",
    "            for r in range(len(result)):\n",
    "                name = 0\n",
    "                if 65 <= ord(result[r][0]) <= 90:\n",
    "                    name = 1\n",
    "                    for k in range(1, len(result[r])):\n",
    "                        if 97 <= ord(result[r][k]) <= 122:\n",
    "                            name = 1\n",
    "                        else:\n",
    "                            name = 0\n",
    "                            break\n",
    "                if name == 1:\n",
    "                    cnt += 1\n",
    "            # print(cnt)\n",
    "            final.append(str(cnt))\n",
    "        else:\n",
    "            sentence += all[i]\n",
    "    print('#{} {}'.format(tc, ' '.join(final)))"
   ]
  }
 ],
 "metadata": {
  "kernelspec": {
   "display_name": "Python 3",
   "language": "python",
   "name": "python3"
  },
  "language_info": {
   "codemirror_mode": {
    "name": "ipython",
    "version": 3
   },
   "file_extension": ".py",
   "mimetype": "text/x-python",
   "name": "python",
   "nbconvert_exporter": "python",
   "pygments_lexer": "ipython3",
   "version": "3.7.3"
  }
 },
 "nbformat": 4,
 "nbformat_minor": 2
}
