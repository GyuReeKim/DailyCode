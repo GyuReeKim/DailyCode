{
 "cells": [
  {
   "cell_type": "code",
   "execution_count": null,
   "metadata": {},
   "outputs": [],
   "source": [
    "# 성공적인 공연 기획\n",
    "# 다 못풀었음\n",
    "\n",
    "T = int(input())\n",
    "for tc in range(1, T+1):\n",
    "    N = input()\n",
    "    cnt = 0\n",
    "    clap = int(N[0])\n",
    "    print(cnt, clap)\n",
    "    for i in range(2, len(N)+1):\n",
    "        if clap < i-1:\n",
    "            cnt += 1\n",
    "            clap += int(N[i-1])\n",
    "        else:\n",
    "            clap += int(N[i-1])\n",
    "            print(i-1, int(N[i-1]))\n",
    "        print(cnt, clap, i-1)\n",
    "    print(cnt)"
   ]
  }
 ],
 "metadata": {
  "kernelspec": {
   "display_name": "Python 3",
   "language": "python",
   "name": "python3"
  },
  "language_info": {
   "codemirror_mode": {
    "name": "ipython",
    "version": 3
   },
   "file_extension": ".py",
   "mimetype": "text/x-python",
   "name": "python",
   "nbconvert_exporter": "python",
   "pygments_lexer": "ipython3",
   "version": "3.7.3"
  }
 },
 "nbformat": 4,
 "nbformat_minor": 2
}
