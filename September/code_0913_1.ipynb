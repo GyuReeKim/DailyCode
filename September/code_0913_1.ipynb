{
 "cells": [
  {
   "cell_type": "code",
   "execution_count": 1,
   "metadata": {
    "scrolled": true
   },
   "outputs": [
    {
     "name": "stdout",
     "output_type": "stream",
     "text": [
      "4\n",
      "11111\n",
      "#1 0\n",
      "09\n",
      "#2 1\n",
      "110011\n",
      "#3 2\n",
      "1\n",
      "#4 0\n"
     ]
    }
   ],
   "source": [
    "# 성공적인 공연 기획\n",
    "\n",
    "T = int(input())\n",
    "for tc in range(1, T+1):\n",
    "    N = input()\n",
    "    cnt = 0\n",
    "    clap = 0\n",
    "    for i in range(1, len(N)+1):\n",
    "        if clap >= i-1:\n",
    "            clap += int(N[i-1])\n",
    "        else:\n",
    "            if N[i-1] != '0':\n",
    "                cnt += (i-1 - clap)\n",
    "                clap += (i-1 - clap)\n",
    "                clap += int(N[i-1])\n",
    "    print('#{} {}'.format(tc, cnt))"
   ]
  }
 ],
 "metadata": {
  "kernelspec": {
   "display_name": "Python 3",
   "language": "python",
   "name": "python3"
  },
  "language_info": {
   "codemirror_mode": {
    "name": "ipython",
    "version": 3
   },
   "file_extension": ".py",
   "mimetype": "text/x-python",
   "name": "python",
   "nbconvert_exporter": "python",
   "pygments_lexer": "ipython3",
   "version": "3.7.3"
  }
 },
 "nbformat": 4,
 "nbformat_minor": 2
}
