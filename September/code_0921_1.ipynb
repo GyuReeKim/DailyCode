{
 "cells": [
  {
   "cell_type": "code",
   "execution_count": 1,
   "metadata": {},
   "outputs": [
    {
     "name": "stdout",
     "output_type": "stream",
     "text": [
      "2\n",
      "2 1\n",
      "2\n",
      "#1 4\n",
      "3 3\n",
      "1\n",
      "#2 1\n"
     ]
    }
   ],
   "source": [
    "# 정삼각형 분할 놀이\n",
    "\n",
    "T = int(input())\n",
    "for tc in range(1, T+1):\n",
    "    A, B = list(map(int, input().split()))\n",
    "    N = A//B\n",
    "    print(N)\n",
    "    result = 0\n",
    "    for i in range(N):\n",
    "        result += (2*i+1)\n",
    "    print('#{} {}'.format(tc, result))"
   ]
  }
 ],
 "metadata": {
  "kernelspec": {
   "display_name": "Python 3",
   "language": "python",
   "name": "python3"
  },
  "language_info": {
   "codemirror_mode": {
    "name": "ipython",
    "version": 3
   },
   "file_extension": ".py",
   "mimetype": "text/x-python",
   "name": "python",
   "nbconvert_exporter": "python",
   "pygments_lexer": "ipython3",
   "version": "3.7.3"
  }
 },
 "nbformat": 4,
 "nbformat_minor": 2
}
