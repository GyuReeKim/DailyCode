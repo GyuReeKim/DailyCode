{
 "cells": [
  {
   "cell_type": "code",
   "execution_count": 1,
   "metadata": {
    "scrolled": true
   },
   "outputs": [
    {
     "name": "stdout",
     "output_type": "stream",
     "text": [
      "3\n",
      "3\n",
      "10 7 6\n",
      "#1 0\n",
      "3\n",
      "3 5 9\n",
      "#2 10\n",
      "5\n",
      "1 1 3 1 2\n",
      "#3 5\n"
     ]
    }
   ],
   "source": [
    "# 백만장자 프로젝트\n",
    "\n",
    "T = int(input())\n",
    "for tc in range(1, T+1):\n",
    "    N = int(input())\n",
    "    prices = list(map(int, input().split()))\n",
    "\n",
    "    max_price = prices[-1]\n",
    "    cost = 0\n",
    "    for i in range(N-1, -1, -1):\n",
    "        if prices[i] > max_price:\n",
    "            max_price = prices[i]\n",
    "        else:\n",
    "            cost += (max_price - prices[i])\n",
    "   \n",
    "    print(\"#{} {}\".format(tc, cost))"
   ]
  }
 ],
 "metadata": {
  "kernelspec": {
   "display_name": "Python 3",
   "language": "python",
   "name": "python3"
  },
  "language_info": {
   "codemirror_mode": {
    "name": "ipython",
    "version": 3
   },
   "file_extension": ".py",
   "mimetype": "text/x-python",
   "name": "python",
   "nbconvert_exporter": "python",
   "pygments_lexer": "ipython3",
   "version": "3.7.3"
  }
 },
 "nbformat": 4,
 "nbformat_minor": 2
}
