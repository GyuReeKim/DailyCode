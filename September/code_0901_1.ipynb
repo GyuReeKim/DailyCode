{
 "cells": [
  {
   "cell_type": "code",
   "execution_count": 54,
   "metadata": {
    "scrolled": true
   },
   "outputs": [
    {
     "name": "stdout",
     "output_type": "stream",
     "text": [
      "010101000100011101101100011011010101101001010011010000100111000001100100010010000100111001101100011000100100011101011001011001110110000101011000010011010110011101011001010100110100001001111000011001000101011100111001001100000101100101011000010100100111000001100010001100100011010001110101\n",
      "288\n",
      "['010101', '000100', '011101', '101100', '011011', '010101', '101001', '010011', '010000', '100111', '000001', '100100', '010010', '000100', '111001', '101100', '011000', '100100', '011101', '011001', '011001', '110110', '000101', '011000', '010011', '010110', '011101', '011001', '010100', '110100', '001001', '111000', '011001', '000101', '011100', '111001', '001100', '000101', '100101', '011000', '010100', '100111', '000001', '100010', '001100', '100011', '010001']\n"
     ]
    }
   ],
   "source": [
    "# Base64 Decoder\n",
    "# 다시 풀기\n",
    "\n",
    "words = 'TGlmZSBpdHNlbGYgaXMgYSBxdW90YXRpb24u'\n",
    "\n",
    "bi_words = ''\n",
    "for word in words:\n",
    "    word = bin(ord(word))\n",
    "    word = word.replace('0b', '')\n",
    "    if len(word) != 8:\n",
    "        word = '0'*(8-len(word)) + word\n",
    "#     print(word)\n",
    "    bi_words += word\n",
    "print(bi_words)\n",
    "print(len(bi_words))\n",
    "\n",
    "bi_word_list = []\n",
    "bi_word = ''\n",
    "for i in range(len(bi_words)):\n",
    "    if i != 0 and i % 6 == 0:\n",
    "        bi_word_list.append(bi_word)\n",
    "        bi_word = ''\n",
    "    bi_word += bi_words[i]\n",
    "print(bi_word_list)\n",
    "\n",
    "# for bw in bi_word_list:\n",
    "#     bw = int(bw, 2)\n",
    "#     print(bw)"
   ]
  },
  {
   "cell_type": "code",
   "execution_count": 88,
   "metadata": {
    "scrolled": true
   },
   "outputs": [
    {
     "name": "stdout",
     "output_type": "stream",
     "text": [
      "5\n",
      "1\n",
      "#1 10\n",
      "2\n",
      "#2 90\n",
      "11\n",
      "#3 110\n",
      "1295\n",
      "#4 6475\n",
      "1692\n",
      "#5 5076\n"
     ]
    }
   ],
   "source": [
    "# 새로운 불면증 치료법\n",
    "\n",
    "T = int(input())\n",
    "for tc in range(1, T+1):\n",
    "\n",
    "    N = int(input())\n",
    "\n",
    "    cnt = 0\n",
    "    result = []\n",
    "    while len(result) != 10:\n",
    "        cnt += 1\n",
    "        num = str(N * cnt)\n",
    "    #     print(num)\n",
    "        for i in range(len(num)):\n",
    "            result.append(num[i])\n",
    "        result = list(set(result))\n",
    "    print(f'#{tc} {num}')"
   ]
  },
  {
   "cell_type": "code",
   "execution_count": 98,
   "metadata": {
    "scrolled": true
   },
   "outputs": [
    {
     "name": "stdout",
     "output_type": "stream",
     "text": [
      "2\n",
      "3 5\n",
      "1 5 3\n",
      "3 6 -7 5 4\n",
      "#1 30\n",
      "7 6\n",
      "6 0 5 5 -1 1 6\n",
      "-4 1 8 7 -9 3\n",
      "#2 63\n"
     ]
    }
   ],
   "source": [
    "# 두 개의 숫자열\n",
    "\n",
    "T = int(input())\n",
    "for tc in range(1, T+1):\n",
    "    N, M = list(map(int, input().split()))\n",
    "    \n",
    "    A = list(map(int, input().split()))\n",
    "    B = list(map(int, input().split()))\n",
    "\n",
    "    maxV = -1000000\n",
    "    if N < M:\n",
    "    #     maxV = 0\n",
    "        for i in range(M-N+1):\n",
    "            add = 0\n",
    "            for j in range(N):\n",
    "                add += A[j]*B[j+i]\n",
    "            if add > maxV:\n",
    "                maxV = add\n",
    "    #     print(maxV)\n",
    "\n",
    "    else:\n",
    "    #     maxV = 0\n",
    "        for i in range(N-M+1):\n",
    "            add = 0\n",
    "            for j in range(M):\n",
    "                add += A[j+i]*B[j]\n",
    "            if add > maxV:\n",
    "                maxV = add\n",
    "    #     print(maxV)\n",
    "    print(f'#{tc} {maxV}')"
   ]
  },
  {
   "cell_type": "code",
   "execution_count": 104,
   "metadata": {
    "scrolled": true
   },
   "outputs": [
    {
     "name": "stdout",
     "output_type": "stream",
     "text": [
      "3\n",
      "KOREAKOREAKOREAKOREAKOREAKOREA\n",
      "#1 5\n",
      "SAMSUNGSAMSUNGSAMSUNGSAMSUNGSA\n",
      "#2 7\n",
      "GALAXYGALAXYGALAXYGALAXYGALAXY     \n",
      "#3 6\n"
     ]
    }
   ],
   "source": [
    "# 패턴 마디의 길이\n",
    "\n",
    "T = int(input())\n",
    "for tc in range(1, T+1):\n",
    "\n",
    "    chars = input()\n",
    "\n",
    "    pattern = ''\n",
    "    for i in range(len(chars)):\n",
    "        pattern += chars[i]\n",
    "        if chars[0:len(pattern)] == chars[len(pattern): 2*len(pattern)]:\n",
    "            break\n",
    "    print(f'#{tc} {len(pattern)}')"
   ]
  },
  {
   "cell_type": "code",
   "execution_count": 1,
   "metadata": {},
   "outputs": [
    {
     "name": "stdout",
     "output_type": "stream",
     "text": [
      "1\n",
      "5\n",
      "1 4 7 8 0\n",
      "#1 0 1 4 7 8\n"
     ]
    }
   ],
   "source": [
    "# 숫자를 정렬하자\n",
    "\n",
    "T = int(input())\n",
    "for tc in range(1, T+1):\n",
    "    N = int(input())\n",
    "    numbers = list(map(int, input().split()))\n",
    "\n",
    "    for i in range(N-1, 0, -1):\n",
    "        for j in range(N-1):\n",
    "            if numbers[j] > numbers[j+1]:\n",
    "                temp = numbers[j]\n",
    "                numbers[j] = numbers[j+1]\n",
    "                numbers[j+1] = temp\n",
    "    \n",
    "    result = []\n",
    "    for i in range(N):\n",
    "        result.append(str(numbers[i]))\n",
    "    print(f'#{tc} {\" \".join(result)}')"
   ]
  }
 ],
 "metadata": {
  "kernelspec": {
   "display_name": "Python 3",
   "language": "python",
   "name": "python3"
  },
  "language_info": {
   "codemirror_mode": {
    "name": "ipython",
    "version": 3
   },
   "file_extension": ".py",
   "mimetype": "text/x-python",
   "name": "python",
   "nbconvert_exporter": "python",
   "pygments_lexer": "ipython3",
   "version": "3.7.3"
  }
 },
 "nbformat": 4,
 "nbformat_minor": 2
}
